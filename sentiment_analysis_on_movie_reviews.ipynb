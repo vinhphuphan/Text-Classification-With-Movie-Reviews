{
  "cells": [
    {
      "cell_type": "markdown",
      "metadata": {
        "id": "xRyBD5k9u5c0"
      },
      "source": [
        "<h1 align=\"center\">Sentiment Analysis on Movie Reviews 🎬</h1>\n",
        "<h3>Name : Phan Vinh Phu</h3>"
      ]
    },
    {
      "cell_type": "markdown",
      "source": [
        "-------------------------------------------------------------------------------------"
      ],
      "metadata": {
        "id": "Z37TcOPjhkjj"
      }
    },
    {
      "cell_type": "markdown",
      "source": [
        "### TABLE OF CONTENTS\n",
        "\n",
        "### [Introduction](#chapter_1)\n",
        "\n",
        "### [1. Set Up](#chapter_2)\n",
        "- [1.1 Install & Import Dependencies](#chapter_2_1)\n",
        "- [1.2 Download the IMDB dataset](#chapter_2_2)\n",
        "\n",
        "### [2. Data Exploration](#chapter_3)\n",
        "\n",
        "### [3. Model Comparison](#chapter_4)\n",
        "- [3.1 Model 1 - OrigNN](#chapter_4_1)\n",
        "- [3.2 Model 2 - Sratch](#chapter_4_2)\n",
        "- [3.3 Model 3 - DenseNNi](#chapter_4_3)\n",
        "- [3.4 Model 4 - DenseNNii](#chapter_4_4)\n",
        "- [3.5 Model 5 - DenseNNiii](#chapter_4_5)\n",
        "- [3.6 Model 6 - DropNNi](#chapter_4_6)\n",
        "- [3.7 Model 7 - DropNNii](#chapter_4_7)\n",
        "\n",
        "### [4. Best Model & Sentiment Prediction](#chapter_5)\n",
        "- [4.1 Clone the Sratch Model](#chapter_5_1)\n",
        "- [4.2 Predict the test set](#chapter_5_2)\n",
        "- [4.3 Top most 5 positive reviews](#chapter_5_3)\n",
        "- [4.4 Top most 5 negative reviews](#chapter_5_4)\n",
        "- [4.5 The best model with Dropout layer](#chapter_5_5)   \n",
        "- [4.6 Comment](#chapter_5_6)   \n",
        "\n",
        "### [5. Conclusion](#chapter_6)\n"
      ],
      "metadata": {
        "id": "cmMwEaA3RVE_"
      }
    },
    {
      "cell_type": "markdown",
      "source": [
        "------------------------------------------------------------------------"
      ],
      "metadata": {
        "id": "mRumbzAPhhkz"
      }
    },
    {
      "cell_type": "markdown",
      "metadata": {
        "id": "Ic4_occAAiAT"
      },
      "source": [
        "## Introduction\n",
        "<a class=\"anchor\" id=\"chapter_1\"></a>"
      ]
    },
    {
      "cell_type": "markdown",
      "metadata": {
        "id": "Eg62Pmz3o83v"
      },
      "source": [
        "This notebook classifies movie reviews as *positive* or *negative* using the text of the review. This is an example of *binary* or two-class classification.\n",
        "\n",
        "This project use the [IMDB dataset](https://www.tensorflow.org/api_docs/python/tf/keras/datasets/imdb) that contains the text of 50,000 movie reviews from the [Internet Movie Database](https://www.imdb.com/). These are split into 25,000 reviews for training and 25,000 reviews for testing. The training and testing sets are *balanced*, meaning they contain an equal number of positive and negative reviews."
      ]
    },
    {
      "cell_type": "markdown",
      "metadata": {
        "id": "6wl88D5mvUY0"
      },
      "source": [
        "## 1. Setup\n",
        "<a class=\"anchor\" id=\"chapter_2\"></a>"
      ]
    },
    {
      "cell_type": "markdown",
      "source": [
        "### 1.1 Install & Import Dependencies <a class=\"anchor\" id=\"chapter_2_1\"></a>"
      ],
      "metadata": {
        "id": "6ulomVmTTAFM"
      }
    },
    {
      "cell_type": "code",
      "execution_count": null,
      "metadata": {
        "colab": {
          "base_uri": "https://localhost:8080/"
        },
        "id": "NHZjRK1GvONx",
        "outputId": "fd8545bc-62c5-4524-e09b-4a6f55e6789e"
      },
      "outputs": [
        {
          "name": "stdout",
          "output_type": "stream",
          "text": [
            "Version:  2.12.0\n",
            "Eager mode:  True\n",
            "Hub version:  0.13.0\n",
            "GPU is available\n"
          ]
        }
      ],
      "source": [
        "# Import the libraries\n",
        "import numpy as np\n",
        "\n",
        "import tensorflow as tf\n",
        "import tensorflow_hub as hub\n",
        "import tensorflow_datasets as tfds\n",
        "from tensorflow import keras\n",
        "from keras import layers\n",
        "from keras import losses\n",
        "\n",
        "import matplotlib.pyplot as plt\n",
        "import re\n",
        "import string\n",
        "\n",
        "print(\"Version: \", tf.__version__)\n",
        "print(\"Eager mode: \", tf.executing_eagerly())\n",
        "print(\"Hub version: \", hub.__version__)\n",
        "print(\"GPU is\", \"available\" if tf.config.list_physical_devices('GPU') else \"NOT AVAILABLE\")"
      ]
    },
    {
      "cell_type": "markdown",
      "metadata": {
        "id": "aGAaZo3rvePC"
      },
      "source": [
        "### 1.2 Download the IMDB dataset <a class=\"anchor\" id=\"chapter_2_2\"></a>\n"
      ]
    },
    {
      "cell_type": "code",
      "execution_count": null,
      "metadata": {
        "colab": {
          "base_uri": "https://localhost:8080/",
          "referenced_widgets": [
            "e6fa3e2216e9446995289949a47231f0",
            "2c3008ed24f4476e9832bd6c38c0b8e4",
            "0876370eb8304806b3f75dc4911415cb",
            "a065047762c74814be05b8c00d085f20",
            "b8115cae52454ec2bab2b22589b20158",
            "71867bc7a78c49bba2421d439d80b0da",
            "5cda23633592451bb0c1cbdc24de1600",
            "2803f1e66eb649078f4cb25adb6900b0",
            "2153f40a0f45400da87cb2db7799f7fa",
            "d897538e7c3b495a952555192624c0e8",
            "f295782f10d441728f89a56c053e3023",
            "754a0251272e43deaf3606bbf02e3cbd",
            "8df6978490704d4897196cf3d062b246",
            "84fd6db2e0d74ca0b4e90dc93f3c31f5",
            "e2ce4d7b7285488d8354233702ecb467",
            "a858d60236f047c99aaa873b7c3e4a5d",
            "928202b2afcd4797b2b9185cee776ac8",
            "17bb7f29df334de58eedcc8e9718a6d2",
            "554f76d145f649e09bbd80c841612ae0",
            "a7751d949cda42d5a01476a245656c24",
            "1c356b3a6cb94858a847b0db6380e65a",
            "63a0778941534eaf8be4ad1655ddfc99",
            "127738e748c74de0934d32f24de75e69",
            "bccd8ac4feaa4e98abffe50ca5943d9a",
            "16982dca82a841db9951c18159299b53",
            "0331c4782f3f4ba9a303ada4bf7ab956",
            "6fb866bb5ea3450897cb4d447515866c",
            "9554712405e64d12b4dcd17fde70c6e1",
            "917ddd6fd6ef4665ba28f3a9d2c3fd47",
            "a36ff86f52844f48882c20ea787a1176",
            "1e867ab7391d4cb7a68f14440fc10c48",
            "9bfdaac4675f4e888caa25f03bee3862",
            "5c19cf8e4a5c4e228b3f72ce902b65b2",
            "57696936032b4e7781e49c33ec569879",
            "39405c15bb9540f284ae8d1cb628cd63",
            "1b33174024b2498f86cb32aaf1e16a2e",
            "84b41a14cace4d42aceea7a89cc5a227",
            "d772a5a868e745e1821e9b61f9311676",
            "d7157c755985467095e762c2eaab6bce",
            "bcfc329269a94540aef86eb51db45858",
            "92ee39a9cfe14461b669c3f3b7568991",
            "1aa57a7d69df4bcea36c24261da828b5",
            "840346ddc0174f72bfc004bd77e753c6",
            "d08713514ae8496aac858813a65793b4",
            "bc0ce7f5f1de46f3983304a0b94b5c01",
            "598f6ae054e147e08dfc576dd07ba8d0",
            "f32623ff71494e28912d464d3d421bb4",
            "f6079aae337144ffb1f5ab5e22ad8310",
            "6fc41dc2dcb14d898dec5ce78425447e",
            "ac35abd58cb74e4c907190265894341d",
            "57a1d711cd7b4155966b6d0a0e5afc70",
            "c77cd40a51fc491aa4cc630a1b7fc0e6",
            "bf5de79e4e414fc88d15b5765b281864",
            "e28bbcbea75f40ab805b06b1c19e5d81",
            "b8924f816b9f4a15a2316163f49d6083",
            "6356603e80e241e8b140daed69746a7c",
            "5f0134bcc00d4a5db703afbdd209795c",
            "85c8397e98c2482e8a98f1fae9b0384a",
            "170f6f03ff2049898caaae99122364ad",
            "cf9836e146214eea852d5ffbfd1b5c5e",
            "39bef272115640d5a9d5c2dafed06318",
            "776828774c9f4d7b9f57932c9b514a3c",
            "516c63b0c7084d3fa41d8801e773c598",
            "01dc75a7b859482c826c52d23bf0dca1",
            "46545b7a647b4e15953fc523731af5c8",
            "866a6888cf034a1ba2c90a895ab2a520",
            "2acfa7987cb14d8aae7d2c3eba148c47",
            "cf473e1e731d4d789f4ccf21a4733f26",
            "f9cb6c455a18454a8fc79f0cd45ebd8d",
            "be2f206d696e4ec99dce7e4d6b3d3ab5",
            "c3951756d4d840718381ac80c4f24721",
            "d330c70b5490406c903ca0e66883ee10",
            "6fd0d12f3cc940d4a5d6e394c96c44c0",
            "3d551fd2084641828b27fd9c633c25b9",
            "4ea2336bb0374600937e603d10e3c891",
            "488b05a864754789911dd41cd8e50e3b",
            "17b0a36be14a4184af3bc872556b6c6f",
            "a4278fe3619a4c0faecb269232f4549a",
            "7b010b3f082b4fb29b936b30e29967ef",
            "c353109938e243e4b81c3da1a565e249",
            "2733cd41ce3d4104bd033b91dc818e56",
            "232111e219f14a7d9954f6f891ce4815",
            "404ee2a47193414cbc9c081ae8589d74",
            "4a5d45e38da9433cac7356347ea593dd",
            "8639c22162fe45c08c03d5bfc24fb6b3",
            "0416d76c8fe34e4fa4779329249c0bc9",
            "3ab0243c19bd46a09e1e3a9d17b85ca7",
            "62f0e65bf98442a68a8838104f4ecfeb",
            "de6666649f9e47a5b42ea44793a7a1df",
            "e6422a2b14e447a39189e1a220b32046",
            "60bc8424597246b189de877478814cba",
            "8edae5c06fb248d0ba58e13a85c48869",
            "3033c2856d9a4b6bb187d227bbb629ac",
            "8a0e2a935fe44799aa9bf222cb1fb725",
            "1857a7170d254a8cb569137fccf026ff",
            "3e7642ab1cec4a69be1d21297f577ebe",
            "d77b9cabc6264e55a7aa9c1db7c22072",
            "eeb8418ae71f47eeb086e26a6dc338f6",
            "496eda5f53c64fc9ac56c43b5201842a"
          ]
        },
        "id": "q8JbKdEyvgvu",
        "outputId": "bea8e3c4-6b19-42db-b89f-f35b8dd735e7"
      },
      "outputs": [
        {
          "name": "stdout",
          "output_type": "stream",
          "text": [
            "Downloading and preparing dataset 80.23 MiB (download: 80.23 MiB, generated: Unknown size, total: 80.23 MiB) to /root/tensorflow_datasets/imdb_reviews/plain_text/1.0.0...\n"
          ]
        },
        {
          "data": {
            "application/vnd.jupyter.widget-view+json": {
              "model_id": "e6fa3e2216e9446995289949a47231f0",
              "version_major": 2,
              "version_minor": 0
            },
            "text/plain": [
              "Dl Completed...: 0 url [00:00, ? url/s]"
            ]
          },
          "metadata": {},
          "output_type": "display_data"
        },
        {
          "data": {
            "application/vnd.jupyter.widget-view+json": {
              "model_id": "754a0251272e43deaf3606bbf02e3cbd",
              "version_major": 2,
              "version_minor": 0
            },
            "text/plain": [
              "Dl Size...: 0 MiB [00:00, ? MiB/s]"
            ]
          },
          "metadata": {},
          "output_type": "display_data"
        },
        {
          "data": {
            "application/vnd.jupyter.widget-view+json": {
              "model_id": "127738e748c74de0934d32f24de75e69",
              "version_major": 2,
              "version_minor": 0
            },
            "text/plain": [
              "Generating splits...:   0%|          | 0/3 [00:00<?, ? splits/s]"
            ]
          },
          "metadata": {},
          "output_type": "display_data"
        },
        {
          "data": {
            "application/vnd.jupyter.widget-view+json": {
              "model_id": "57696936032b4e7781e49c33ec569879",
              "version_major": 2,
              "version_minor": 0
            },
            "text/plain": [
              "Generating train examples...:   0%|          | 0/25000 [00:00<?, ? examples/s]"
            ]
          },
          "metadata": {},
          "output_type": "display_data"
        },
        {
          "data": {
            "application/vnd.jupyter.widget-view+json": {
              "model_id": "bc0ce7f5f1de46f3983304a0b94b5c01",
              "version_major": 2,
              "version_minor": 0
            },
            "text/plain": [
              "Shuffling /root/tensorflow_datasets/imdb_reviews/plain_text/1.0.0.incompleteXTT3Y2/imdb_reviews-train.tfrecord…"
            ]
          },
          "metadata": {},
          "output_type": "display_data"
        },
        {
          "data": {
            "application/vnd.jupyter.widget-view+json": {
              "model_id": "6356603e80e241e8b140daed69746a7c",
              "version_major": 2,
              "version_minor": 0
            },
            "text/plain": [
              "Generating test examples...:   0%|          | 0/25000 [00:00<?, ? examples/s]"
            ]
          },
          "metadata": {},
          "output_type": "display_data"
        },
        {
          "data": {
            "application/vnd.jupyter.widget-view+json": {
              "model_id": "2acfa7987cb14d8aae7d2c3eba148c47",
              "version_major": 2,
              "version_minor": 0
            },
            "text/plain": [
              "Shuffling /root/tensorflow_datasets/imdb_reviews/plain_text/1.0.0.incompleteXTT3Y2/imdb_reviews-test.tfrecord*…"
            ]
          },
          "metadata": {},
          "output_type": "display_data"
        },
        {
          "data": {
            "application/vnd.jupyter.widget-view+json": {
              "model_id": "a4278fe3619a4c0faecb269232f4549a",
              "version_major": 2,
              "version_minor": 0
            },
            "text/plain": [
              "Generating unsupervised examples...:   0%|          | 0/50000 [00:00<?, ? examples/s]"
            ]
          },
          "metadata": {},
          "output_type": "display_data"
        },
        {
          "data": {
            "application/vnd.jupyter.widget-view+json": {
              "model_id": "de6666649f9e47a5b42ea44793a7a1df",
              "version_major": 2,
              "version_minor": 0
            },
            "text/plain": [
              "Shuffling /root/tensorflow_datasets/imdb_reviews/plain_text/1.0.0.incompleteXTT3Y2/imdb_reviews-unsupervised.t…"
            ]
          },
          "metadata": {},
          "output_type": "display_data"
        },
        {
          "name": "stdout",
          "output_type": "stream",
          "text": [
            "Dataset imdb_reviews downloaded and prepared to /root/tensorflow_datasets/imdb_reviews/plain_text/1.0.0. Subsequent calls will reuse this data.\n"
          ]
        }
      ],
      "source": [
        "# Load the train, test dataset\n",
        "train_data, test_data = tfds.load(name = \"imdb_reviews\",\n",
        "                                  split=[\"train\", \"test\"],\n",
        "                                  batch_size=-1,\n",
        "                                  as_supervised = True)\n",
        "\n",
        "train_examples, train_labels = tfds.as_numpy(train_data)\n",
        "test_examples, test_labels = tfds.as_numpy(test_data)\n"
      ]
    },
    {
      "cell_type": "markdown",
      "metadata": {
        "id": "x9GNG4S-yG2n"
      },
      "source": [
        "## 2. Data Exploration<a class=\"anchor\" id=\"chapter_3\"></a>\n",
        "Let's take a moment to understand the format of the data. Each example is a sentence representing the movie review and a corresponding label. The sentence is not preprocessed in any way. The label is an integer value of either 0 or 1, where 0 is a negative review, and 1 is a positive review."
      ]
    },
    {
      "cell_type": "code",
      "execution_count": null,
      "metadata": {
        "colab": {
          "base_uri": "https://localhost:8080/"
        },
        "id": "sgKYYEz4yIJK",
        "outputId": "17fc5b88-d08f-4118-d0f2-e36a27ed6ed0"
      },
      "outputs": [
        {
          "name": "stdout",
          "output_type": "stream",
          "text": [
            "Training entries: 25000, test entries: 25000\n"
          ]
        }
      ],
      "source": [
        "# Display the length of train , test dataset\n",
        "print(\"Training entries: {}, test entries: {}\".format(len(train_examples), len(test_examples)))"
      ]
    },
    {
      "cell_type": "markdown",
      "metadata": {
        "id": "NPt_5IKzyLUV"
      },
      "source": [
        "Let's print first 10 examples."
      ]
    },
    {
      "cell_type": "code",
      "execution_count": null,
      "metadata": {
        "colab": {
          "base_uri": "https://localhost:8080/"
        },
        "id": "8d1N-BaAyMMU",
        "outputId": "fc4de936-b41f-45bb-d0be-d5f76eb29eb4",
        "collapsed": true
      },
      "outputs": [
        {
          "data": {
            "text/plain": [
              "array([b\"This was an absolutely terrible movie. Don't be lured in by Christopher Walken or Michael Ironside. Both are great actors, but this must simply be their worst role in history. Even their great acting could not redeem this movie's ridiculous storyline. This movie is an early nineties US propaganda piece. The most pathetic scenes were those when the Columbian rebels were making their cases for revolutions. Maria Conchita Alonso appeared phony, and her pseudo-love affair with Walken was nothing but a pathetic emotional plug in a movie that was devoid of any real meaning. I am disappointed that there are movies like this, ruining actor's like Christopher Walken's good name. I could barely sit through it.\",\n",
              "       b'I have been known to fall asleep during films, but this is usually due to a combination of things including, really tired, being warm and comfortable on the sette and having just eaten a lot. However on this occasion I fell asleep because the film was rubbish. The plot development was constant. Constantly slow and boring. Things seemed to happen, but with no explanation of what was causing them or why. I admit, I may have missed part of the film, but i watched the majority of it and everything just seemed to happen of its own accord without any real concern for anything else. I cant recommend this film at all.',\n",
              "       b'Mann photographs the Alberta Rocky Mountains in a superb fashion, and Jimmy Stewart and Walter Brennan give enjoyable performances as they always seem to do. <br /><br />But come on Hollywood - a Mountie telling the people of Dawson City, Yukon to elect themselves a marshal (yes a marshal!) and to enforce the law themselves, then gunfighters battling it out on the streets for control of the town? <br /><br />Nothing even remotely resembling that happened on the Canadian side of the border during the Klondike gold rush. Mr. Mann and company appear to have mistaken Dawson City for Deadwood, the Canadian North for the American Wild West.<br /><br />Canadian viewers be prepared for a Reefer Madness type of enjoyable howl with this ludicrous plot, or, to shake your head in disgust.',\n",
              "       b'This is the kind of film for a snowy Sunday afternoon when the rest of the world can go ahead with its own business as you descend into a big arm-chair and mellow for a couple of hours. Wonderful performances from Cher and Nicolas Cage (as always) gently row the plot along. There are no rapids to cross, no dangerous waters, just a warm and witty paddle through New York life at its best. A family film in every sense and one that deserves the praise it received.',\n",
              "       b'As others have mentioned, all the women that go nude in this film are mostly absolutely gorgeous. The plot very ably shows the hypocrisy of the female libido. When men are around they want to be pursued, but when no \"men\" are around, they become the pursuers of a 14 year old boy. And the boy becomes a man really fast (we should all be so lucky at this age!). He then gets up the courage to pursue his true love.',\n",
              "       b\"This is a film which should be seen by anybody interested in, effected by, or suffering from an eating disorder. It is an amazingly accurate and sensitive portrayal of bulimia in a teenage girl, its causes and its symptoms. The girl is played by one of the most brilliant young actresses working in cinema today, Alison Lohman, who was later so spectacular in 'Where the Truth Lies'. I would recommend that this film be shown in all schools, as you will never see a better on this subject. Alison Lohman is absolutely outstanding, and one marvels at her ability to convey the anguish of a girl suffering from this compulsive disorder. If barometers tell us the air pressure, Alison Lohman tells us the emotional pressure with the same degree of accuracy. Her emotional range is so precise, each scene could be measured microscopically for its gradations of trauma, on a scale of rising hysteria and desperation which reaches unbearable intensity. Mare Winningham is the perfect choice to play her mother, and does so with immense sympathy and a range of emotions just as finely tuned as Lohman's. Together, they make a pair of sensitive emotional oscillators vibrating in resonance with one another. This film is really an astonishing achievement, and director Katt Shea should be proud of it. The only reason for not seeing it is if you are not interested in people. But even if you like nature films best, this is after all animal behaviour at the sharp edge. Bulimia is an extreme version of how a tormented soul can destroy her own body in a frenzy of despair. And if we don't sympathise with people suffering from the depths of despair, then we are dead inside.\",\n",
              "       b'Okay, you have:<br /><br />Penelope Keith as Miss Herringbone-Tweed, B.B.E. (Backbone of England.) She\\'s killed off in the first scene - that\\'s right, folks; this show has no backbone!<br /><br />Peter O\\'Toole as Ol\\' Colonel Cricket from The First War and now the emblazered Lord of the Manor.<br /><br />Joanna Lumley as the ensweatered Lady of the Manor, 20 years younger than the colonel and 20 years past her own prime but still glamourous (Brit spelling, not mine) enough to have a toy-boy on the side. It\\'s alright, they have Col. Cricket\\'s full knowledge and consent (they guy even comes \\'round for Christmas!) Still, she\\'s considerate of the colonel enough to have said toy-boy her own age (what a gal!)<br /><br />David McCallum as said toy-boy, equally as pointlessly glamourous as his squeeze. Pilcher couldn\\'t come up with any cover for him within the story, so she gave him a hush-hush job at the Circus.<br /><br />and finally:<br /><br />Susan Hampshire as Miss Polonia Teacups, Venerable Headmistress of the Venerable Girls\\' Boarding-School, serving tea in her office with a dash of deep, poignant advice for life in the outside world just before graduation. Her best bit of advice: \"I\\'ve only been to Nancherrow (the local Stately Home of England) once. I thought it was very beautiful but, somehow, not part of the real world.\" Well, we can\\'t say they didn\\'t warn us.<br /><br />Ah, Susan - time was, your character would have been running the whole show. They don\\'t write \\'em like that any more. Our loss, not yours.<br /><br />So - with a cast and setting like this, you have the re-makings of \"Brideshead Revisited,\" right?<br /><br />Wrong! They took these 1-dimensional supporting roles because they paid so well. After all, acting is one of the oldest temp-jobs there is (YOU name another!)<br /><br />First warning sign: lots and lots of backlighting. They get around it by shooting outdoors - \"hey, it\\'s just the sunlight!\"<br /><br />Second warning sign: Leading Lady cries a lot. When not crying, her eyes are moist. That\\'s the law of romance novels: Leading Lady is \"dewy-eyed.\"<br /><br />Henceforth, Leading Lady shall be known as L.L.<br /><br />Third warning sign: L.L. actually has stars in her eyes when she\\'s in love. Still, I\\'ll give Emily Mortimer an award just for having to act with that spotlight in her eyes (I wonder . did they use contacts?)<br /><br />And lastly, fourth warning sign: no on-screen female character is \"Mrs.\" She\\'s either \"Miss\" or \"Lady.\"<br /><br />When all was said and done, I still couldn\\'t tell you who was pursuing whom and why. I couldn\\'t even tell you what was said and done.<br /><br />To sum up: they all live through World War II without anything happening to them at all.<br /><br />OK, at the end, L.L. finds she\\'s lost her parents to the Japanese prison camps and baby sis comes home catatonic. Meanwhile (there\\'s always a \"meanwhile,\") some young guy L.L. had a crush on (when, I don\\'t know) comes home from some wartime tough spot and is found living on the street by Lady of the Manor (must be some street if SHE\\'s going to find him there.) Both war casualties are whisked away to recover at Nancherrow (SOMEBODY has to be \"whisked away\" SOMEWHERE in these romance stories!)<br /><br />Great drama.',\n",
              "       b'The film is based on a genuine 1950s novel.<br /><br />Journalist Colin McInnes wrote a set of three \"London novels\": \"Absolute Beginners\", \"City of Spades\" and \"Mr Love and Justice\". I have read all three. The first two are excellent. The last, perhaps an experiment that did not come off. But McInnes\\'s work is highly acclaimed; and rightly so. This musical is the novelist\\'s ultimate nightmare - to see the fruits of one\\'s mind being turned into a glitzy, badly-acted, soporific one-dimensional apology of a film that says it captures the spirit of 1950s London, and does nothing of the sort.<br /><br />Thank goodness Colin McInnes wasn\\'t alive to witness it.',\n",
              "       b'I really love the sexy action and sci-fi films of the sixties and its because of the actress\\'s that appeared in them. They found the sexiest women to be in these films and it didn\\'t matter if they could act (Remember \"Candy\"?). The reason I was disappointed by this film was because it wasn\\'t nostalgic enough. The story here has a European sci-fi film called \"Dragonfly\" being made and the director is fired. So the producers decide to let a young aspiring filmmaker (Jeremy Davies) to complete the picture. They\\'re is one real beautiful woman in the film who plays Dragonfly but she\\'s barely in it. Film is written and directed by Roman Coppola who uses some of his fathers exploits from his early days and puts it into the script. I wish the film could have been an homage to those early films. They could have lots of cameos by actors who appeared in them. There is one actor in this film who was popular from the sixties and its John Phillip Law (Barbarella). Gerard Depardieu, Giancarlo Giannini and Dean Stockwell appear as well. I guess I\\'m going to have to continue waiting for a director to make a good homage to the films of the sixties. If any are reading this, \"Make it as sexy as you can\"! I\\'ll be waiting!',\n",
              "       b'Sure, this one isn\\'t really a blockbuster, nor does it target such a position. \"Dieter\" is the first name of a quite popular German musician, who is either loved or hated for his kind of acting and thats exactly what this movie is about. It is based on the autobiography \"Dieter Bohlen\" wrote a few years ago but isn\\'t meant to be accurate on that. The movie is filled with some sexual offensive content (at least for American standard) which is either amusing (not for the other \"actors\" of course) or dumb - it depends on your individual kind of humor or on you being a \"Bohlen\"-Fan or not. Technically speaking there isn\\'t much to criticize. Speaking of me I find this movie to be an OK-movie.'],\n",
              "      dtype=object)"
            ]
          },
          "execution_count": 6,
          "metadata": {},
          "output_type": "execute_result"
        }
      ],
      "source": [
        "train_examples[:10]"
      ]
    },
    {
      "cell_type": "markdown",
      "metadata": {
        "id": "ifbYZPdSyPc3"
      },
      "source": [
        "Let's also print the first 10 labels."
      ]
    },
    {
      "cell_type": "code",
      "execution_count": null,
      "metadata": {
        "colab": {
          "base_uri": "https://localhost:8080/"
        },
        "id": "Ka1sBlxkyRPj",
        "outputId": "f83e28e0-21bd-4e84-9d41-874ceeb26947"
      },
      "outputs": [
        {
          "data": {
            "text/plain": [
              "array([0, 0, 0, 1, 1, 1, 0, 0, 0, 0])"
            ]
          },
          "execution_count": 7,
          "metadata": {},
          "output_type": "execute_result"
        }
      ],
      "source": [
        "train_labels[:10]"
      ]
    },
    {
      "cell_type": "markdown",
      "metadata": {
        "id": "LLC02j2g-llC"
      },
      "source": [
        "## 3. Model Comparison <a class=\"anchor\" id=\"chapter_4\"></a>\n",
        "\n",
        "This section involves building and evaluating multiple model architectures to determine the most effective one for the task.\n",
        "\n",
        "The neural network is created by stacking layers—this requires three main architectural decisions:\n",
        "\n",
        "* How to represent the text?\n",
        "* How many layers to use in the model?\n",
        "* How many *hidden units* to use for each layer?\n",
        "\n",
        "In this example, the input data consists of sentences. The labels to predict are either 0 or 1.\n",
        "\n",
        "One way to represent the text is to convert sentences into embeddings vectors. We can use a pre-trained text embedding as the first layer, which will have two advantages:\n",
        "*   we don't have to worry about text preprocessing,\n",
        "*   we can benefit from transfer learning.\n",
        "\n",
        "For this example we will use a model from [TensorFlow Hub](https://www.tensorflow.org/hub) called [google/nnlm-en-dim50/2](https://tfhub.dev/google/nnlm-en-dim50/2)."
      ]
    },
    {
      "cell_type": "markdown",
      "source": [
        "### 3.1 Model 1 - OrigNN\n",
        "<a class=\"anchor\" id=\"chapter_4_1\"></a>"
      ],
      "metadata": {
        "id": "97M8elXeXdpX"
      }
    },
    {
      "cell_type": "markdown",
      "metadata": {
        "id": "In2nDpTLkgKa"
      },
      "source": [
        "Let's first create a Keras layer that uses a TensorFlow Hub model to embed the sentences, and try it out on a couple of input examples. Note that the output shape of the produced embeddings is a expected: `(num_examples, embedding_dimension)`."
      ]
    },
    {
      "cell_type": "code",
      "execution_count": null,
      "metadata": {
        "colab": {
          "base_uri": "https://localhost:8080/"
        },
        "id": "x6vjDGqFyvUa",
        "outputId": "31306028-d704-4012-c34a-9c00ac6d8040",
        "collapsed": true
      },
      "outputs": [
        {
          "data": {
            "text/plain": [
              "<tf.Tensor: shape=(3, 50), dtype=float32, numpy=\n",
              "array([[ 0.5423194 , -0.01190171,  0.06337537,  0.0686297 , -0.16776839,\n",
              "        -0.10581177,  0.168653  , -0.04998823, -0.31148052,  0.07910344,\n",
              "         0.15442258,  0.01488661,  0.03930155,  0.19772716, -0.12215477,\n",
              "        -0.04120982, -0.27041087, -0.21922147,  0.26517656, -0.80739075,\n",
              "         0.25833526, -0.31004202,  0.2868321 ,  0.19433866, -0.29036498,\n",
              "         0.0386285 , -0.78444123, -0.04793238,  0.41102988, -0.36388886,\n",
              "        -0.58034706,  0.30269453,  0.36308962, -0.15227163, -0.4439151 ,\n",
              "         0.19462997,  0.19528405,  0.05666233,  0.2890704 , -0.28468323,\n",
              "        -0.00531206,  0.0571938 , -0.3201319 , -0.04418665, -0.08550781,\n",
              "        -0.55847436, -0.2333639 , -0.20782956, -0.03543065, -0.17533456],\n",
              "       [ 0.56338924, -0.12339553, -0.10862677,  0.7753425 , -0.07667087,\n",
              "        -0.15752274,  0.01872334, -0.08169781, -0.3521876 ,  0.46373403,\n",
              "        -0.08492758,  0.07166861, -0.00670818,  0.12686071, -0.19326551,\n",
              "        -0.5262643 , -0.32958236,  0.14394784,  0.09043556, -0.54175544,\n",
              "         0.02468163, -0.15456744,  0.68333143,  0.09068333, -0.45327246,\n",
              "         0.23180094, -0.8615696 ,  0.3448039 ,  0.12838459, -0.58759046,\n",
              "        -0.40712303,  0.23061076,  0.48426905, -0.2712814 , -0.5380918 ,\n",
              "         0.47016335,  0.2257274 , -0.00830665,  0.28462422, -0.30498496,\n",
              "         0.04400366,  0.25025868,  0.14867125,  0.4071703 , -0.15422425,\n",
              "        -0.06878027, -0.40825695, -0.31492147,  0.09283663, -0.20183429],\n",
              "       [ 0.7456156 ,  0.21256858,  0.1440033 ,  0.52338624,  0.11032254,\n",
              "         0.00902788, -0.36678016, -0.08938274, -0.24165548,  0.33384597,\n",
              "        -0.111946  , -0.01460045, -0.00716449,  0.19562715,  0.00685217,\n",
              "        -0.24886714, -0.42796353,  0.1862    , -0.05241097, -0.664625  ,\n",
              "         0.13449019, -0.22205493,  0.08633009,  0.43685383,  0.2972681 ,\n",
              "         0.36140728, -0.71968895,  0.05291242, -0.1431612 , -0.15733941,\n",
              "        -0.15056324, -0.05988007, -0.08178931, -0.15569413, -0.09303784,\n",
              "        -0.18971168,  0.0762079 , -0.02541647, -0.27134502, -0.3392682 ,\n",
              "        -0.10296471, -0.27275252, -0.34078008,  0.20083308, -0.26644838,\n",
              "         0.00655449, -0.05141485, -0.04261916, -0.4541363 ,  0.20023566]],\n",
              "      dtype=float32)>"
            ]
          },
          "execution_count": 8,
          "metadata": {},
          "output_type": "execute_result"
        }
      ],
      "source": [
        "# The Keras layer that uses a TensorFlow Hub model to embed the sentences\n",
        "OrigNN = \"https://tfhub.dev/google/nnlm-en-dim50/2\"\n",
        "hub_layer = hub.KerasLayer(OrigNN, input_shape=[], dtype=tf.string, trainable=True)\n",
        "hub_layer(train_examples[:3])"
      ]
    },
    {
      "cell_type": "code",
      "execution_count": null,
      "metadata": {
        "colab": {
          "base_uri": "https://localhost:8080/"
        },
        "id": "eSMcHXNKzHj7",
        "outputId": "f0183fb3-38f6-4f20-889c-18b85754f2ee"
      },
      "outputs": [
        {
          "name": "stdout",
          "output_type": "stream",
          "text": [
            "Model: \"sequential\"\n",
            "_________________________________________________________________\n",
            " Layer (type)                Output Shape              Param #   \n",
            "=================================================================\n",
            " keras_layer (KerasLayer)    (None, 50)                48190600  \n",
            "                                                                 \n",
            " dense (Dense)               (None, 16)                816       \n",
            "                                                                 \n",
            " dense_1 (Dense)             (None, 1)                 17        \n",
            "                                                                 \n",
            "=================================================================\n",
            "Total params: 48,191,433\n",
            "Trainable params: 48,191,433\n",
            "Non-trainable params: 0\n",
            "_________________________________________________________________\n"
          ]
        }
      ],
      "source": [
        "# Origin model using pretrained embeddings\n",
        "OrigNN = tf.keras.Sequential()\n",
        "OrigNN.add(hub_layer)\n",
        "OrigNN.add(tf.keras.layers.Dense(16, activation='relu'))\n",
        "OrigNN.add(tf.keras.layers.Dense(1))\n",
        "\n",
        "OrigNN.summary()"
      ]
    },
    {
      "cell_type": "markdown",
      "metadata": {
        "id": "1Cs7gtJay1UU"
      },
      "source": [
        "The layers are stacked sequentially to build the classifier:\n",
        "<ol>\n",
        "<li>The first layer is a TensorFlow Hub layer. This layer uses a pre-trained Saved Model to map a sentence into its embedding vector. The model that we are using (<a href=\"https://tfhub.dev/google/nnlm-en-dim50/2\">google/nnlm-en-dim50/2</a>) splits the sentence into tokens, embeds each token and then combines the embedding. The resulting dimensions are: <code translate=\"no\" dir=\"ltr\">(num_examples, embedding_dimension)</code>.</li>\n",
        "<li>This fixed-length output vector is piped through a fully-connected (<code translate=\"no\" dir=\"ltr\">Dense</code>) layer with 16 hidden units.</li>\n",
        "<li>The last layer is densely connected with a single output node. This outputs logits: the log-odds of the true class, according to the model.</li>\n",
        "</ol>\n"
      ]
    },
    {
      "cell_type": "markdown",
      "metadata": {
        "id": "0XMwnDOp-llH"
      },
      "source": [
        "#### Hidden units\n",
        "\n",
        "The above model has two intermediate or \"hidden\" layers, between the input and output. The number of outputs (units, nodes, or neurons) is the dimension of the representational space for the layer. In other words, the amount of freedom the network is allowed when learning an internal representation.\n",
        "\n",
        "If a model has more hidden units (a higher-dimensional representation space), and/or more layers, then the network can learn more complex representations. However, it makes the network more computationally expensive and may lead to learning unwanted patterns—patterns that improve performance on training data but not on the test data. This is called *overfitting*, and we'll explore it later."
      ]
    },
    {
      "cell_type": "markdown",
      "metadata": {
        "id": "L4EqVWg4-llM"
      },
      "source": [
        "#### Loss function and optimizer\n",
        "\n",
        "A model needs a loss function and an optimizer for training. Since this is a binary classification problem and the model outputs a probability (a single-unit layer with a sigmoid activation), we'll use the `binary_crossentropy` loss function.\n",
        "\n",
        "This isn't the only choice for a loss function, you could, for instance, choose `mean_squared_error`. But, generally, `binary_crossentropy` is better for dealing with probabilities—it measures the \"distance\" between probability distributions, or in our case, between the ground-truth distribution and the predictions.\n",
        "\n",
        "Later, when we are exploring regression problems (say, to predict the price of a house), we will see how to use another loss function called mean squared error.\n",
        "\n",
        "Now, configure the model to use an optimizer and a loss function:"
      ]
    },
    {
      "cell_type": "code",
      "execution_count": null,
      "metadata": {
        "id": "N5gXaSm-qTdz"
      },
      "outputs": [],
      "source": [
        "# Compile the origin model\n",
        "OrigNN.compile(optimizer='adam',\n",
        "              loss=tf.losses.BinaryCrossentropy(from_logits=True),\n",
        "              metrics=[tf.metrics.BinaryAccuracy(threshold=0.0, name='accuracy')])"
      ]
    },
    {
      "cell_type": "markdown",
      "metadata": {
        "id": "hCWYwkug-llQ"
      },
      "source": [
        "#### Create a validation set for Origin model\n",
        "\n",
        "When training, we want to check the accuracy of the model on data it hasn't seen before. Create a *validation set* by setting apart 10,000 examples from the original training data. (Why not use the testing set now? Our goal is to develop and tune our model using only the training data, then use the test data just once to evaluate our accuracy)."
      ]
    },
    {
      "cell_type": "code",
      "execution_count": null,
      "metadata": {
        "id": "-NpcXY9--llS"
      },
      "outputs": [],
      "source": [
        "x_val = train_examples[:10000]\n",
        "partial_x_train = train_examples[10000:]\n",
        "\n",
        "y_val = train_labels[:10000]\n",
        "partial_y_train = train_labels[10000:]"
      ]
    },
    {
      "cell_type": "markdown",
      "metadata": {
        "id": "35jv_fzP-llU"
      },
      "source": [
        "#### Train the Origin model\n",
        "\n",
        "Train the model for 40 epochs in mini-batches of 512 samples. This is 40 iterations over all samples in the `x_train` and `y_train` tensors. While training, monitor the model's loss and accuracy on the 10,000 samples from the validation set:"
      ]
    },
    {
      "cell_type": "code",
      "execution_count": null,
      "metadata": {
        "colab": {
          "base_uri": "https://localhost:8080/"
        },
        "id": "tXSGrjWZ-llW",
        "outputId": "c5417d54-181d-4813-a0fe-42a40733db35",
        "collapsed": true
      },
      "outputs": [
        {
          "name": "stdout",
          "output_type": "stream",
          "text": [
            "Epoch 1/40\n",
            "30/30 [==============================] - 13s 234ms/step - loss: 0.6454 - accuracy: 0.6553 - val_loss: 0.5945 - val_accuracy: 0.7383\n",
            "Epoch 2/40\n",
            "30/30 [==============================] - 8s 266ms/step - loss: 0.5311 - accuracy: 0.7854 - val_loss: 0.4897 - val_accuracy: 0.7996\n",
            "Epoch 3/40\n",
            "30/30 [==============================] - 7s 220ms/step - loss: 0.4010 - accuracy: 0.8588 - val_loss: 0.3955 - val_accuracy: 0.8422\n",
            "Epoch 4/40\n",
            "30/30 [==============================] - 8s 262ms/step - loss: 0.2931 - accuracy: 0.9022 - val_loss: 0.3424 - val_accuracy: 0.8574\n",
            "Epoch 5/40\n",
            "30/30 [==============================] - 7s 226ms/step - loss: 0.2166 - accuracy: 0.9307 - val_loss: 0.3168 - val_accuracy: 0.8670\n",
            "Epoch 6/40\n",
            "30/30 [==============================] - 8s 261ms/step - loss: 0.1615 - accuracy: 0.9530 - val_loss: 0.3053 - val_accuracy: 0.8696\n",
            "Epoch 7/40\n",
            "30/30 [==============================] - 7s 248ms/step - loss: 0.1193 - accuracy: 0.9697 - val_loss: 0.3054 - val_accuracy: 0.8735\n",
            "Epoch 8/40\n",
            "30/30 [==============================] - 7s 232ms/step - loss: 0.0874 - accuracy: 0.9819 - val_loss: 0.3057 - val_accuracy: 0.8731\n",
            "Epoch 9/40\n",
            "30/30 [==============================] - 6s 205ms/step - loss: 0.0639 - accuracy: 0.9895 - val_loss: 0.3125 - val_accuracy: 0.8730\n",
            "Epoch 10/40\n",
            "30/30 [==============================] - 7s 226ms/step - loss: 0.0466 - accuracy: 0.9946 - val_loss: 0.3283 - val_accuracy: 0.8721\n",
            "Epoch 11/40\n",
            "30/30 [==============================] - 7s 232ms/step - loss: 0.0338 - accuracy: 0.9975 - val_loss: 0.3365 - val_accuracy: 0.8713\n",
            "Epoch 12/40\n",
            "30/30 [==============================] - 5s 180ms/step - loss: 0.0245 - accuracy: 0.9989 - val_loss: 0.3503 - val_accuracy: 0.8703\n",
            "Epoch 13/40\n",
            "30/30 [==============================] - 7s 236ms/step - loss: 0.0181 - accuracy: 0.9991 - val_loss: 0.3637 - val_accuracy: 0.8693\n",
            "Epoch 14/40\n",
            "30/30 [==============================] - 6s 205ms/step - loss: 0.0135 - accuracy: 0.9995 - val_loss: 0.3771 - val_accuracy: 0.8685\n",
            "Epoch 15/40\n",
            "30/30 [==============================] - 5s 168ms/step - loss: 0.0105 - accuracy: 0.9999 - val_loss: 0.3883 - val_accuracy: 0.8689\n",
            "Epoch 16/40\n",
            "30/30 [==============================] - 5s 169ms/step - loss: 0.0084 - accuracy: 0.9999 - val_loss: 0.3997 - val_accuracy: 0.8683\n",
            "Epoch 17/40\n",
            "30/30 [==============================] - 6s 208ms/step - loss: 0.0068 - accuracy: 0.9999 - val_loss: 0.4101 - val_accuracy: 0.8681\n",
            "Epoch 18/40\n",
            "30/30 [==============================] - 5s 178ms/step - loss: 0.0057 - accuracy: 0.9999 - val_loss: 0.4199 - val_accuracy: 0.8678\n",
            "Epoch 19/40\n",
            "30/30 [==============================] - 6s 187ms/step - loss: 0.0048 - accuracy: 0.9999 - val_loss: 0.4300 - val_accuracy: 0.8660\n",
            "Epoch 20/40\n",
            "30/30 [==============================] - 4s 136ms/step - loss: 0.0040 - accuracy: 0.9999 - val_loss: 0.4378 - val_accuracy: 0.8674\n",
            "Epoch 21/40\n",
            "30/30 [==============================] - 4s 126ms/step - loss: 0.0033 - accuracy: 1.0000 - val_loss: 0.4464 - val_accuracy: 0.8665\n",
            "Epoch 22/40\n",
            "30/30 [==============================] - 5s 178ms/step - loss: 0.0029 - accuracy: 1.0000 - val_loss: 0.4540 - val_accuracy: 0.8665\n",
            "Epoch 23/40\n",
            "30/30 [==============================] - 5s 158ms/step - loss: 0.0025 - accuracy: 1.0000 - val_loss: 0.4614 - val_accuracy: 0.8666\n",
            "Epoch 24/40\n",
            "30/30 [==============================] - 6s 189ms/step - loss: 0.0022 - accuracy: 1.0000 - val_loss: 0.4685 - val_accuracy: 0.8672\n",
            "Epoch 25/40\n",
            "30/30 [==============================] - 5s 179ms/step - loss: 0.0020 - accuracy: 1.0000 - val_loss: 0.4753 - val_accuracy: 0.8659\n",
            "Epoch 26/40\n",
            "30/30 [==============================] - 4s 139ms/step - loss: 0.0018 - accuracy: 1.0000 - val_loss: 0.4818 - val_accuracy: 0.8660\n",
            "Epoch 27/40\n",
            "30/30 [==============================] - 5s 173ms/step - loss: 0.0016 - accuracy: 1.0000 - val_loss: 0.4879 - val_accuracy: 0.8654\n",
            "Epoch 28/40\n",
            "30/30 [==============================] - 5s 172ms/step - loss: 0.0015 - accuracy: 1.0000 - val_loss: 0.4940 - val_accuracy: 0.8654\n",
            "Epoch 29/40\n",
            "30/30 [==============================] - 5s 185ms/step - loss: 0.0013 - accuracy: 1.0000 - val_loss: 0.4996 - val_accuracy: 0.8657\n",
            "Epoch 30/40\n",
            "30/30 [==============================] - 5s 157ms/step - loss: 0.0012 - accuracy: 1.0000 - val_loss: 0.5050 - val_accuracy: 0.8655\n",
            "Epoch 31/40\n",
            "30/30 [==============================] - 5s 165ms/step - loss: 0.0011 - accuracy: 1.0000 - val_loss: 0.5103 - val_accuracy: 0.8658\n",
            "Epoch 32/40\n",
            "30/30 [==============================] - 5s 174ms/step - loss: 0.0010 - accuracy: 1.0000 - val_loss: 0.5153 - val_accuracy: 0.8655\n",
            "Epoch 33/40\n",
            "30/30 [==============================] - 5s 159ms/step - loss: 9.4074e-04 - accuracy: 1.0000 - val_loss: 0.5204 - val_accuracy: 0.8647\n",
            "Epoch 34/40\n",
            "30/30 [==============================] - 3s 114ms/step - loss: 8.7168e-04 - accuracy: 1.0000 - val_loss: 0.5252 - val_accuracy: 0.8647\n",
            "Epoch 35/40\n",
            "30/30 [==============================] - 5s 162ms/step - loss: 8.0845e-04 - accuracy: 1.0000 - val_loss: 0.5297 - val_accuracy: 0.8646\n",
            "Epoch 36/40\n",
            "30/30 [==============================] - 4s 130ms/step - loss: 7.5132e-04 - accuracy: 1.0000 - val_loss: 0.5343 - val_accuracy: 0.8646\n",
            "Epoch 37/40\n",
            "30/30 [==============================] - 4s 120ms/step - loss: 7.0112e-04 - accuracy: 1.0000 - val_loss: 0.5386 - val_accuracy: 0.8643\n",
            "Epoch 38/40\n",
            "30/30 [==============================] - 4s 125ms/step - loss: 6.5474e-04 - accuracy: 1.0000 - val_loss: 0.5429 - val_accuracy: 0.8638\n",
            "Epoch 39/40\n",
            "30/30 [==============================] - 4s 117ms/step - loss: 6.1372e-04 - accuracy: 1.0000 - val_loss: 0.5469 - val_accuracy: 0.8648\n",
            "Epoch 40/40\n",
            "30/30 [==============================] - 4s 131ms/step - loss: 5.7510e-04 - accuracy: 1.0000 - val_loss: 0.5509 - val_accuracy: 0.8644\n"
          ]
        }
      ],
      "source": [
        "OrigNN_history = OrigNN.fit(partial_x_train,\n",
        "                    partial_y_train,\n",
        "                    epochs=40,\n",
        "                    batch_size=512,\n",
        "                    validation_data=(x_val, y_val),\n",
        "                    verbose=1)"
      ]
    },
    {
      "cell_type": "markdown",
      "metadata": {
        "id": "9EEGuDVuzb5r"
      },
      "source": [
        "#### Evaluate the Origin model\n",
        "\n",
        "And let's see how the model performs. Two values will be returned. Loss (a number which represents our error, lower values are better), and accuracy."
      ]
    },
    {
      "cell_type": "code",
      "execution_count": null,
      "metadata": {
        "colab": {
          "base_uri": "https://localhost:8080/"
        },
        "id": "zOMKywn4zReN",
        "outputId": "33ea7fc9-0279-4df6-f842-437a7712172b"
      },
      "outputs": [
        {
          "name": "stdout",
          "output_type": "stream",
          "text": [
            "782/782 [==============================] - 4s 5ms/step - loss: 0.6188 - accuracy: 0.8473\n",
            "[0.618827760219574, 0.8472800254821777]\n"
          ]
        }
      ],
      "source": [
        "OrigNN_results = OrigNN.evaluate(test_examples, test_labels)\n",
        "\n",
        "print(OrigNN_results)"
      ]
    },
    {
      "cell_type": "markdown",
      "metadata": {
        "id": "z1iEXVTR0Z2t"
      },
      "source": [
        "This fairly naive approach achieves an accuracy of about 87%. With more advanced approaches, the model should get closer to 95%."
      ]
    },
    {
      "cell_type": "markdown",
      "metadata": {
        "id": "5KggXVeL-llZ"
      },
      "source": [
        "#### Create a graph of accuracy and loss over time - Origin model\n",
        "\n",
        "`model.fit()` returns a `History` object that contains a dictionary with everything that happened during training:"
      ]
    },
    {
      "cell_type": "code",
      "execution_count": null,
      "metadata": {
        "colab": {
          "base_uri": "https://localhost:8080/"
        },
        "id": "VcvSXvhp-llb",
        "outputId": "b33a8b46-e148-43f9-fd10-6b5a9134c6bc"
      },
      "outputs": [
        {
          "data": {
            "text/plain": [
              "dict_keys(['loss', 'accuracy', 'val_loss', 'val_accuracy'])"
            ]
          },
          "execution_count": 14,
          "metadata": {},
          "output_type": "execute_result"
        }
      ],
      "source": [
        "OrigNN_history_dict = OrigNN_history.history\n",
        "OrigNN_history_dict.keys()"
      ]
    },
    {
      "cell_type": "markdown",
      "metadata": {
        "id": "nRKsqL40-lle"
      },
      "source": [
        "There are four entries: one for each monitored metric during training and validation. We can use these to plot the training and validation loss for comparison, as well as the training and validation accuracy:"
      ]
    },
    {
      "cell_type": "code",
      "execution_count": null,
      "metadata": {
        "colab": {
          "base_uri": "https://localhost:8080/",
          "height": 472
        },
        "id": "nGoYf2Js-lle",
        "outputId": "566359b2-5f2e-42a1-8124-c61d1e5ec00e"
      },
      "outputs": [
        {
          "data": {
            "image/png": "[encoded data removed]",
            "text/plain": [
              "<Figure size 640x480 with 1 Axes>"
            ]
          },
          "metadata": {},
          "output_type": "display_data"
        }
      ],
      "source": [
        "acc = OrigNN_history_dict['accuracy']\n",
        "val_acc = OrigNN_history_dict['val_accuracy']\n",
        "loss = OrigNN_history_dict['loss']\n",
        "val_loss = OrigNN_history_dict['val_loss']\n",
        "\n",
        "epochs = range(1, len(acc) + 1)\n",
        "\n",
        "# \"bo\" is for \"blue dot\"\n",
        "plt.plot(epochs, loss, 'bo', label='Training loss')\n",
        "# b is for \"solid blue line\"\n",
        "plt.plot(epochs, val_loss, 'b', label='Validation loss')\n",
        "plt.title('Training and validation loss')\n",
        "plt.xlabel('Epochs')\n",
        "plt.ylabel('Loss')\n",
        "plt.legend()\n",
        "\n",
        "plt.show()"
      ]
    },
    {
      "cell_type": "code",
      "execution_count": null,
      "metadata": {
        "colab": {
          "base_uri": "https://localhost:8080/",
          "height": 472
        },
        "id": "6hXx-xOv-llh",
        "outputId": "ef00e1c7-7c29-4bf0-cccc-72542113e2f8"
      },
      "outputs": [
        {
          "data": {
            "image/png": "[encoded data removed]",
            "text/plain": [
              "<Figure size 640x480 with 1 Axes>"
            ]
          },
          "metadata": {},
          "output_type": "display_data"
        }
      ],
      "source": [
        "plt.clf()   # clear figure\n",
        "\n",
        "plt.plot(epochs, acc, 'bo', label='Training acc')\n",
        "plt.plot(epochs, val_acc, 'b', label='Validation acc')\n",
        "plt.title('Training and validation accuracy')\n",
        "plt.xlabel('Epochs')\n",
        "plt.ylabel('Accuracy')\n",
        "plt.legend()\n",
        "\n",
        "plt.show()"
      ]
    },
    {
      "cell_type": "markdown",
      "metadata": {
        "id": "oFEmZ5zq-llk"
      },
      "source": [
        "In this plot, the dots represent the training loss and accuracy, and the solid lines are the validation loss and accuracy.\n",
        "\n",
        "Notice the training loss *decreases* with each epoch and the training accuracy *increases* with each epoch. This is expected when using a gradient descent optimization—it should minimize the desired quantity on every iteration.\n",
        "\n",
        "This isn't the case for the validation loss and accuracy—they seem to peak after about twenty epochs. This is an example of overfitting: the model performs better on the training data than it does on data it has never seen before. After this point, the model over-optimizes and learns representations *specific* to the training data that do not *generalize* to test data.\n",
        "\n",
        "For this particular case, we could prevent overfitting by simply stopping the training after twenty or so epochs. Later, you'll see how to do this automatically with a callback."
      ]
    },
    {
      "cell_type": "markdown",
      "metadata": {
        "id": "vXv47CzlyX5e"
      },
      "source": [
        "### 3.2 Model 2 - Sratch model\n",
        "<a class=\"anchor\" id=\"chapter_4_2\"></a>\n",
        "\n",
        "In this part, I reuse the Orgin model but remove the Dropout layers and add one Dense layer of size 16.  Call this modified model ScratchNN.  Then, compare the performance of ScratchNN with OrigNN, just considering the final validation and test accuracies."
      ]
    },
    {
      "cell_type": "markdown",
      "metadata": {
        "id": "yAKANYznrWBt"
      },
      "source": [
        "##### Build the Sratch model\n",
        "\n",
        "Now , I will standardize, tokenize, and vectorize the data using the helpful <code translate=\"no\" dir=\"ltr\">tf.keras.layers.TextVectorization</code> layer.\n",
        "\n",
        "Standardization refers to preprocessing the text, typically to remove punctuation or HTML elements to simplify the dataset. Tokenization refers to splitting strings into tokens (for example, splitting a sentence into individual words, by splitting on whitespace). Vectorization refers to converting tokens into numbers so they can be fed into a neural network. All of these tasks can be accomplished with this layer.\n",
        "\n",
        "<p>As you saw above, the reviews contain various HTML tags like <code translate=\"no\" dir=\"ltr\">&lt;br /&gt;</code>. These tags will not be removed by the default standardizer in the <code translate=\"no\" dir=\"ltr\">TextVectorization</code> layer (which converts text to lowercase and strips punctuation by default, but doesn't strip HTML). I will write a custom standardization function to remove the HTML.</p>"
      ]
    },
    {
      "cell_type": "code",
      "execution_count": null,
      "metadata": {
        "id": "cadmhURExcta"
      },
      "outputs": [],
      "source": [
        "# Function for preprocessing text data\n",
        "def custom_standardization(input_data):\n",
        "  lowercase = tf.strings.lower(input_data)\n",
        "  stripped_html = tf.strings.regex_replace(lowercase, '<br />', ' ')\n",
        "  return tf.strings.regex_replace(stripped_html,\n",
        "                                  '[%s]' % re.escape(string.punctuation),\n",
        "                                  '')"
      ]
    },
    {
      "cell_type": "markdown",
      "metadata": {
        "id": "pprexAwhyQcB"
      },
      "source": [
        "Next, I will create a <code translate=\"no\" dir=\"ltr\">TextVectorization</code> layer. I will use this layer to standardize, tokenize, and vectorize our data. I set the output_mode to int to create unique integer indices for each token.\n",
        "\n",
        "<p>Note that you're using the default split function, and the custom standardization function you defined above. You'll also define some constants for the model, like an explicit maximum <code translate=\"no\" dir=\"ltr\">sequence_length</code>, which will cause the layer to pad or truncate sequences to exactly <code translate=\"no\" dir=\"ltr\">sequence_length</code> values.</p>"
      ]
    },
    {
      "cell_type": "code",
      "execution_count": null,
      "metadata": {
        "id": "ejpHnytLsLuJ"
      },
      "outputs": [],
      "source": [
        "max_features = 100000\n",
        "sequence_length = 250\n",
        "\n",
        "vectorize_layer = layers.TextVectorization(\n",
        "    standardize=custom_standardization,\n",
        "    max_tokens=max_features,\n",
        "    output_mode='int',\n",
        "    output_sequence_length=sequence_length)"
      ]
    },
    {
      "cell_type": "code",
      "execution_count": null,
      "metadata": {
        "id": "N7-smaoKxzse"
      },
      "outputs": [],
      "source": [
        "# Make a text-only dataset (without labels), then call adapt\n",
        "vectorize_layer.adapt(train_examples)"
      ]
    },
    {
      "cell_type": "markdown",
      "metadata": {
        "id": "zNn82Kv0zYJu"
      },
      "source": [
        "Let's create a function to see the result of using this layer to preprocess some data."
      ]
    },
    {
      "cell_type": "code",
      "execution_count": null,
      "metadata": {
        "id": "RbeBotPFzauN"
      },
      "outputs": [],
      "source": [
        "# function to see the result\n",
        "def vectorize_text(text, label):\n",
        "  text = tf.expand_dims(text, -1)\n",
        "  return vectorize_layer(text), label"
      ]
    },
    {
      "cell_type": "code",
      "execution_count": null,
      "metadata": {
        "colab": {
          "base_uri": "https://localhost:8080/"
        },
        "id": "d7TFcRzYzcXY",
        "outputId": "cd9671a7-c550-41c0-9775-78157c5fc6ce",
        "collapsed": true
      },
      "outputs": [
        {
          "name": "stdout",
          "output_type": "stream",
          "text": [
            "Review b\"This was an absolutely terrible movie. Don't be lured in by Christopher Walken or Michael Ironside. Both are great actors, but this must simply be their worst role in history. Even their great acting could not redeem this movie's ridiculous storyline. This movie is an early nineties US propaganda piece. The most pathetic scenes were those when the Columbian rebels were making their cases for revolutions. Maria Conchita Alonso appeared phony, and her pseudo-love affair with Walken was nothing but a pathetic emotional plug in a movie that was devoid of any real meaning. I am disappointed that there are movies like this, ruining actor's like Christopher Walken's good name. I could barely sit through it.\"\n",
            "Label 0\n",
            "Vectorized review (<tf.Tensor: shape=(1, 250), dtype=int64, numpy=\n",
            "array([[   11,    13,    33,   414,   380,    17,    89,    26, 10552,\n",
            "            8,    32,  1336,  3544,    41,   489, 11365,   190,    23,\n",
            "           84,   151,    18,    11,   219,   318,    26,    64,   241,\n",
            "          211,     8,   476,    53,    64,    84,   111,    97,    21,\n",
            "         5574,    11,    92,   633,   729,    11,    17,     7,    33,\n",
            "          396,  9232,   167,  2462,   408,     2,    88,  1192,   135,\n",
            "           65,   143,    51,     2, 40229,  7488,    65,   247,    64,\n",
            "         2835,    15, 17840,  2869, 21637, 19460,  1436,  4862,     3,\n",
            "           39, 71161,  1546,    16,  3544,    13,   156,    18,     4,\n",
            "         1192,   894,  7960,     8,     4,    17,    12,    13,  4064,\n",
            "            5,    99,   146,  1229,    10,   236,   663,    12,    47,\n",
            "           23,    92,    38,    11,  7269,   151,    38,  1336, 13837,\n",
            "           49,   397,    10,    97,  1170,   856,   140,     9,     0,\n",
            "            0,     0,     0,     0,     0,     0,     0,     0,     0,\n",
            "            0,     0,     0,     0,     0,     0,     0,     0,     0,\n",
            "            0,     0,     0,     0,     0,     0,     0,     0,     0,\n",
            "            0,     0,     0,     0,     0,     0,     0,     0,     0,\n",
            "            0,     0,     0,     0,     0,     0,     0,     0,     0,\n",
            "            0,     0,     0,     0,     0,     0,     0,     0,     0,\n",
            "            0,     0,     0,     0,     0,     0,     0,     0,     0,\n",
            "            0,     0,     0,     0,     0,     0,     0,     0,     0,\n",
            "            0,     0,     0,     0,     0,     0,     0,     0,     0,\n",
            "            0,     0,     0,     0,     0,     0,     0,     0,     0,\n",
            "            0,     0,     0,     0,     0,     0,     0,     0,     0,\n",
            "            0,     0,     0,     0,     0,     0,     0,     0,     0,\n",
            "            0,     0,     0,     0,     0,     0,     0,     0,     0,\n",
            "            0,     0,     0,     0,     0,     0,     0,     0,     0,\n",
            "            0,     0,     0,     0,     0,     0,     0]])>, 0)\n"
          ]
        }
      ],
      "source": [
        "# retrieve a batch (of 32 reviews and labels) from the dataset\n",
        "first_review, first_label = train_examples[0], train_labels[0]\n",
        "print(\"Review\", first_review)\n",
        "print(\"Label\", first_label)\n",
        "print(\"Vectorized review\", vectorize_text(first_review, first_label))"
      ]
    },
    {
      "cell_type": "markdown",
      "metadata": {
        "id": "GuZqiOZHzveI"
      },
      "source": [
        "As you can see above, each token has been replaced by an integer. You can lookup the token (string) that each integer corresponds to by calling .get_vocabulary() on the layer."
      ]
    },
    {
      "cell_type": "code",
      "execution_count": null,
      "metadata": {
        "colab": {
          "base_uri": "https://localhost:8080/"
        },
        "id": "IhqXebKVz5sK",
        "outputId": "91930b99-978c-4023-cc64-c2f26dfdf1c1"
      },
      "outputs": [
        {
          "name": "stdout",
          "output_type": "stream",
          "text": [
            "1336 --->  christopher\n",
            " 489 --->  michael\n",
            "Vocabulary size: 100000\n"
          ]
        }
      ],
      "source": [
        "print(\"1336 ---> \",vectorize_layer.get_vocabulary()[1336])\n",
        "print(\" 489 ---> \",vectorize_layer.get_vocabulary()[489])\n",
        "print('Vocabulary size: {}'.format(len(vectorize_layer.get_vocabulary())))"
      ]
    },
    {
      "cell_type": "markdown",
      "metadata": {
        "id": "T7uTJoDqyDP7"
      },
      "source": [
        "It's time to create the neural network:"
      ]
    },
    {
      "cell_type": "code",
      "execution_count": null,
      "metadata": {
        "colab": {
          "base_uri": "https://localhost:8080/"
        },
        "id": "FwDehq0wrhM8",
        "outputId": "e3bd2f1d-e902-453a-a5ac-8ce1aa726550"
      },
      "outputs": [
        {
          "name": "stdout",
          "output_type": "stream",
          "text": [
            "Model: \"sequential_1\"\n",
            "_________________________________________________________________\n",
            " Layer (type)                Output Shape              Param #   \n",
            "=================================================================\n",
            " text_vectorization (TextVec  (None, 250)              0         \n",
            " torization)                                                     \n",
            "                                                                 \n",
            " embedding (Embedding)       (None, 250, 50)           5000000   \n",
            "                                                                 \n",
            " global_average_pooling1d (G  (None, 50)               0         \n",
            " lobalAveragePooling1D)                                          \n",
            "                                                                 \n",
            " dense_2 (Dense)             (None, 16)                816       \n",
            "                                                                 \n",
            " dense_3 (Dense)             (None, 1)                 17        \n",
            "                                                                 \n",
            "=================================================================\n",
            "Total params: 5,000,833\n",
            "Trainable params: 5,000,833\n",
            "Non-trainable params: 0\n",
            "_________________________________________________________________\n"
          ]
        }
      ],
      "source": [
        "embedding_dim = 50\n",
        "SratchNN = tf.keras.Sequential([\n",
        "  vectorize_layer,\n",
        "  layers.Embedding(max_features, embedding_dim),\n",
        "  layers.GlobalAveragePooling1D(),\n",
        "  layers.Dense(16, activation='relu'),\n",
        "  layers.Dense(1)])\n",
        "\n",
        "SratchNN.summary()"
      ]
    },
    {
      "cell_type": "markdown",
      "metadata": {
        "id": "zjpFAbuAzstC"
      },
      "source": [
        "The layers are stacked sequentially to build the classifier:\n",
        "\n",
        "<ol>\n",
        "<li>The first layer is an <code translate=\"no\" dir=\"ltr\">Embedding</code> layer. This layer takes the integer-encoded reviews and looks up an embedding vector for each word-index. These vectors are learned as the model trains. The vectors add a dimension to the output array. The resulting dimensions are: <code translate=\"no\" dir=\"ltr\">(batch, sequence, embedding)</code>.  To learn more about embeddings, check out the <a href=\"https://www.tensorflow.org/text/guide/word_embeddings\">Word embeddings</a> tutorial.</li>\n",
        "<li>Next, a <code translate=\"no\" dir=\"ltr\">GlobalAveragePooling1D</code> layer returns a fixed-length output vector for each example by averaging over the sequence dimension. This allows the model to handle input of variable length, in the simplest way possible.</li>\n",
        "<li>The fixed-length output vector is piped through a fully-connected (<code translate=\"no\" dir=\"ltr\">Dense</code>) layer with 16 hidden units.</li>\n",
        "<li>The last layer is densely connected with a single output node.</li>\n",
        "</ol>"
      ]
    },
    {
      "cell_type": "markdown",
      "metadata": {
        "id": "9KynZUXZ2qnV"
      },
      "source": [
        "##### Loss function and optimizer\n",
        "A model needs a loss function and an optimizer for training. Since this is a binary classification problem and the model outputs a probability (a single-unit layer with a sigmoid activation), you'll use <code translate=\"no\" dir=\"ltr\">losses.BinaryCrossentropy</code> loss function.\n",
        "\n",
        "Now, configure the model to use an optimizer and a loss function:"
      ]
    },
    {
      "cell_type": "code",
      "execution_count": null,
      "metadata": {
        "id": "pR5G4DIW21no"
      },
      "outputs": [],
      "source": [
        "SratchNN.compile(loss=losses.BinaryCrossentropy(from_logits=True),\n",
        "              optimizer='adam',\n",
        "              metrics=[tf.metrics.BinaryAccuracy(threshold=0.0, name='accuracy')])"
      ]
    },
    {
      "cell_type": "markdown",
      "metadata": {
        "id": "RwLv3OAA1TUW"
      },
      "source": [
        "##### Train the Sratch Model"
      ]
    },
    {
      "cell_type": "code",
      "execution_count": null,
      "metadata": {
        "colab": {
          "base_uri": "https://localhost:8080/"
        },
        "id": "dypno7x31UmI",
        "outputId": "f71e5c6f-1f7a-4d3b-9312-f08c59a02903",
        "collapsed": true
      },
      "outputs": [
        {
          "name": "stdout",
          "output_type": "stream",
          "text": [
            "Epoch 1/40\n",
            "30/30 [==============================] - 9s 257ms/step - loss: 0.6914 - accuracy: 0.6162 - val_loss: 0.6881 - val_accuracy: 0.6943\n",
            "Epoch 2/40\n",
            "30/30 [==============================] - 8s 265ms/step - loss: 0.6823 - accuracy: 0.7307 - val_loss: 0.6746 - val_accuracy: 0.7425\n",
            "Epoch 3/40\n",
            "30/30 [==============================] - 7s 222ms/step - loss: 0.6606 - accuracy: 0.7673 - val_loss: 0.6458 - val_accuracy: 0.7719\n",
            "Epoch 4/40\n",
            "30/30 [==============================] - 7s 241ms/step - loss: 0.6195 - accuracy: 0.7971 - val_loss: 0.5996 - val_accuracy: 0.7880\n",
            "Epoch 5/40\n",
            "30/30 [==============================] - 7s 233ms/step - loss: 0.5593 - accuracy: 0.8224 - val_loss: 0.5402 - val_accuracy: 0.8127\n",
            "Epoch 6/40\n",
            "30/30 [==============================] - 7s 229ms/step - loss: 0.4887 - accuracy: 0.8487 - val_loss: 0.4809 - val_accuracy: 0.8284\n",
            "Epoch 7/40\n",
            "30/30 [==============================] - 7s 241ms/step - loss: 0.4206 - accuracy: 0.8685 - val_loss: 0.4322 - val_accuracy: 0.8418\n",
            "Epoch 8/40\n",
            "30/30 [==============================] - 6s 196ms/step - loss: 0.3625 - accuracy: 0.8878 - val_loss: 0.3910 - val_accuracy: 0.8540\n",
            "Epoch 9/40\n",
            "30/30 [==============================] - 7s 233ms/step - loss: 0.3147 - accuracy: 0.9045 - val_loss: 0.3643 - val_accuracy: 0.8607\n",
            "Epoch 10/40\n",
            "30/30 [==============================] - 6s 195ms/step - loss: 0.2761 - accuracy: 0.9135 - val_loss: 0.3416 - val_accuracy: 0.8682\n",
            "Epoch 11/40\n",
            "30/30 [==============================] - 6s 210ms/step - loss: 0.2440 - accuracy: 0.9248 - val_loss: 0.3263 - val_accuracy: 0.8721\n",
            "Epoch 12/40\n",
            "30/30 [==============================] - 5s 168ms/step - loss: 0.2174 - accuracy: 0.9361 - val_loss: 0.3155 - val_accuracy: 0.8747\n",
            "Epoch 13/40\n",
            "30/30 [==============================] - 6s 198ms/step - loss: 0.1938 - accuracy: 0.9453 - val_loss: 0.3065 - val_accuracy: 0.8793\n",
            "Epoch 14/40\n",
            "30/30 [==============================] - 5s 168ms/step - loss: 0.1736 - accuracy: 0.9526 - val_loss: 0.2996 - val_accuracy: 0.8811\n",
            "Epoch 15/40\n",
            "30/30 [==============================] - 5s 155ms/step - loss: 0.1557 - accuracy: 0.9584 - val_loss: 0.2945 - val_accuracy: 0.8823\n",
            "Epoch 16/40\n",
            "30/30 [==============================] - 6s 195ms/step - loss: 0.1399 - accuracy: 0.9640 - val_loss: 0.2902 - val_accuracy: 0.8849\n",
            "Epoch 17/40\n",
            "30/30 [==============================] - 5s 150ms/step - loss: 0.1260 - accuracy: 0.9683 - val_loss: 0.2881 - val_accuracy: 0.8859\n",
            "Epoch 18/40\n",
            "30/30 [==============================] - 5s 165ms/step - loss: 0.1136 - accuracy: 0.9713 - val_loss: 0.2866 - val_accuracy: 0.8876\n",
            "Epoch 19/40\n",
            "30/30 [==============================] - 5s 158ms/step - loss: 0.1026 - accuracy: 0.9763 - val_loss: 0.2859 - val_accuracy: 0.8885\n",
            "Epoch 20/40\n",
            "30/30 [==============================] - 4s 126ms/step - loss: 0.0927 - accuracy: 0.9797 - val_loss: 0.2866 - val_accuracy: 0.8878\n",
            "Epoch 21/40\n",
            "30/30 [==============================] - 5s 163ms/step - loss: 0.0838 - accuracy: 0.9825 - val_loss: 0.2873 - val_accuracy: 0.8872\n",
            "Epoch 22/40\n",
            "30/30 [==============================] - 5s 160ms/step - loss: 0.0759 - accuracy: 0.9846 - val_loss: 0.2896 - val_accuracy: 0.8868\n",
            "Epoch 23/40\n",
            "30/30 [==============================] - 4s 133ms/step - loss: 0.0694 - accuracy: 0.9863 - val_loss: 0.2917 - val_accuracy: 0.8865\n",
            "Epoch 24/40\n",
            "30/30 [==============================] - 5s 155ms/step - loss: 0.0632 - accuracy: 0.9889 - val_loss: 0.2922 - val_accuracy: 0.8860\n",
            "Epoch 25/40\n",
            "30/30 [==============================] - 4s 140ms/step - loss: 0.0575 - accuracy: 0.9898 - val_loss: 0.2950 - val_accuracy: 0.8869\n",
            "Epoch 26/40\n",
            "30/30 [==============================] - 4s 147ms/step - loss: 0.0524 - accuracy: 0.9915 - val_loss: 0.2995 - val_accuracy: 0.8845\n",
            "Epoch 27/40\n",
            "30/30 [==============================] - 4s 139ms/step - loss: 0.0478 - accuracy: 0.9922 - val_loss: 0.2999 - val_accuracy: 0.8845\n",
            "Epoch 28/40\n",
            "30/30 [==============================] - 4s 139ms/step - loss: 0.0435 - accuracy: 0.9936 - val_loss: 0.3027 - val_accuracy: 0.8850\n",
            "Epoch 29/40\n",
            "30/30 [==============================] - 4s 127ms/step - loss: 0.0396 - accuracy: 0.9943 - val_loss: 0.3064 - val_accuracy: 0.8841\n",
            "Epoch 30/40\n",
            "30/30 [==============================] - 3s 107ms/step - loss: 0.0363 - accuracy: 0.9953 - val_loss: 0.3097 - val_accuracy: 0.8843\n",
            "Epoch 31/40\n",
            "30/30 [==============================] - 3s 92ms/step - loss: 0.0335 - accuracy: 0.9961 - val_loss: 0.3132 - val_accuracy: 0.8835\n",
            "Epoch 32/40\n",
            "30/30 [==============================] - 3s 109ms/step - loss: 0.0312 - accuracy: 0.9959 - val_loss: 0.3164 - val_accuracy: 0.8835\n",
            "Epoch 33/40\n",
            "30/30 [==============================] - 3s 98ms/step - loss: 0.0289 - accuracy: 0.9967 - val_loss: 0.3218 - val_accuracy: 0.8836\n",
            "Epoch 34/40\n",
            "30/30 [==============================] - 4s 145ms/step - loss: 0.0262 - accuracy: 0.9970 - val_loss: 0.3233 - val_accuracy: 0.8837\n",
            "Epoch 35/40\n",
            "30/30 [==============================] - 3s 114ms/step - loss: 0.0242 - accuracy: 0.9970 - val_loss: 0.3266 - val_accuracy: 0.8829\n",
            "Epoch 36/40\n",
            "30/30 [==============================] - 2s 57ms/step - loss: 0.0223 - accuracy: 0.9976 - val_loss: 0.3298 - val_accuracy: 0.8831\n",
            "Epoch 37/40\n",
            "30/30 [==============================] - 3s 105ms/step - loss: 0.0208 - accuracy: 0.9982 - val_loss: 0.3340 - val_accuracy: 0.8827\n",
            "Epoch 38/40\n",
            "30/30 [==============================] - 4s 125ms/step - loss: 0.0193 - accuracy: 0.9981 - val_loss: 0.3369 - val_accuracy: 0.8827\n",
            "Epoch 39/40\n",
            "30/30 [==============================] - 4s 133ms/step - loss: 0.0181 - accuracy: 0.9985 - val_loss: 0.3413 - val_accuracy: 0.8824\n",
            "Epoch 40/40\n",
            "30/30 [==============================] - 4s 126ms/step - loss: 0.0167 - accuracy: 0.9987 - val_loss: 0.3449 - val_accuracy: 0.8819\n"
          ]
        }
      ],
      "source": [
        "SratchNN_history = SratchNN.fit(\n",
        "    partial_x_train,\n",
        "    partial_y_train,\n",
        "    validation_data=(x_val,y_val),\n",
        "    epochs=40,\n",
        "    batch_size = 512,\n",
        "    verbose=1\n",
        "    )"
      ]
    },
    {
      "cell_type": "markdown",
      "metadata": {
        "id": "2cq0k1h67fmw"
      },
      "source": [
        "##### Evaluate the Scratch model"
      ]
    },
    {
      "cell_type": "code",
      "execution_count": null,
      "metadata": {
        "colab": {
          "base_uri": "https://localhost:8080/"
        },
        "id": "Hb6Wd5ev5JSN",
        "outputId": "6fe63656-db1a-4684-fdca-7c970429a5d0"
      },
      "outputs": [
        {
          "name": "stdout",
          "output_type": "stream",
          "text": [
            "782/782 [==============================] - 4s 5ms/step - loss: 0.4293 - accuracy: 0.8554\n",
            "[0.618827760219574, 0.8472800254821777]\n",
            "[0.4293387234210968, 0.8554400205612183]\n"
          ]
        }
      ],
      "source": [
        "SratchNN_results = SratchNN.evaluate(test_examples, test_labels)\n",
        "\n",
        "print(OrigNN_results)\n",
        "print(SratchNN_results)"
      ]
    },
    {
      "cell_type": "markdown",
      "metadata": {
        "id": "Mofay-z48fqQ"
      },
      "source": [
        "##### Graph of accuracy and loss over time"
      ]
    },
    {
      "cell_type": "markdown",
      "metadata": {
        "id": "4OaOlS-O8n-W"
      },
      "source": [
        "model.fit() returns a `History` object that contains a dictionary with everything that happened during training:"
      ]
    },
    {
      "cell_type": "code",
      "execution_count": null,
      "metadata": {
        "id": "L-YBfvzw8fEp"
      },
      "outputs": [],
      "source": [
        "OrigNN_history_dict = OrigNN_history.history\n",
        "SratchNN_history_dict = SratchNN_history.history"
      ]
    },
    {
      "cell_type": "markdown",
      "metadata": {
        "id": "-Q3KzKP89N1Z"
      },
      "source": [
        "There are four entries: one for each monitored metric during training and validation. We can use these to plot the training and validation loss for comparison, as well as the training and validation accuracy:"
      ]
    },
    {
      "cell_type": "code",
      "execution_count": null,
      "metadata": {
        "colab": {
          "base_uri": "https://localhost:8080/",
          "height": 487
        },
        "id": "FUCwUYtW9O7_",
        "outputId": "2db783b2-e418-48b1-a5c2-b42cd9f897a5"
      },
      "outputs": [
        {
          "data": {
            "image/png": "[encoded data removed]",
            "text/plain": [
              "<Figure size 1000x500 with 2 Axes>"
            ]
          },
          "metadata": {},
          "output_type": "display_data"
        }
      ],
      "source": [
        "# Origin Model\n",
        "OriginNN_acc = OrigNN_history_dict['accuracy']\n",
        "OriginNN_val_acc = OrigNN_history_dict['val_accuracy']\n",
        "OriginNN_loss = OrigNN_history_dict['loss']\n",
        "OriginNN_val_loss = OrigNN_history_dict['val_loss']\n",
        "\n",
        "# Sratch Model\n",
        "SratchNN_acc = SratchNN_history_dict['accuracy']\n",
        "SratchNN_val_acc = SratchNN_history_dict['val_accuracy']\n",
        "SratchNN_loss = SratchNN_history_dict['loss']\n",
        "SratchNN_val_loss = SratchNN_history_dict['val_loss']\n",
        "\n",
        "epochs = range(1, len(OriginNN_acc) + 1)\n",
        "\n",
        "fig, ((ax1, ax2)) = plt.subplots(nrows = 1,\n",
        "                                 ncols = 2,\n",
        "                                 figsize = (10,5))\n",
        "\n",
        "# plot for Origin Model\n",
        "# \"bo\" is for \"blue dot\"\n",
        "ax1.plot(epochs, OriginNN_loss, 'bo', label='Training loss')\n",
        "# b is for \"solid blue line\"\n",
        "ax1.plot(epochs, OriginNN_val_loss, 'b', label='Validation loss')\n",
        "ax1.title.set_text('Training and validation loss of Origin Model')\n",
        "ax1.set_xlabel('Epochs')\n",
        "ax1.set_ylabel('Loss')\n",
        "ax1.legend()\n",
        "\n",
        "# Plot for Sratch Model\n",
        "ax2.plot(epochs, SratchNN_loss, 'bo', label='Training loss')\n",
        "ax2.plot(epochs, SratchNN_val_loss, 'b', label='Validation loss')\n",
        "ax2.title.set_text('Training and validation loss of Sratch Moddel')\n",
        "ax2.set_xlabel('Epochs')\n",
        "ax2.set_ylabel('Loss')\n",
        "ax2.legend()\n",
        "\n",
        "plt.show()"
      ]
    },
    {
      "cell_type": "code",
      "execution_count": null,
      "metadata": {
        "colab": {
          "base_uri": "https://localhost:8080/",
          "height": 487
        },
        "id": "T79hHyWq9qYt",
        "outputId": "59d8d271-4907-4980-d755-9826b5345d0c"
      },
      "outputs": [
        {
          "data": {
            "image/png": "[encoded data removed]",
            "text/plain": [
              "<Figure size 1000x500 with 2 Axes>"
            ]
          },
          "metadata": {},
          "output_type": "display_data"
        }
      ],
      "source": [
        "fig, ((ax3, ax4)) = plt.subplots(nrows = 1,\n",
        "                                 ncols = 2,\n",
        "                                 figsize = (10,5))\n",
        "\n",
        "ax3.plot(epochs, OriginNN_acc, 'bo', label='Training acc')\n",
        "ax3.plot(epochs, OriginNN_val_acc, 'b', label='Validation acc')\n",
        "ax3.set_title('Training and validation accuracy of Origin Model')\n",
        "ax3.set_xlabel('Epochs')\n",
        "ax3.set_ylabel('Accuracy')\n",
        "ax3.set_ylim(0.60, 1.00)\n",
        "ax3.legend()\n",
        "\n",
        "ax4.plot(epochs, SratchNN_acc, 'bo', label='Training acc')\n",
        "ax4.plot(epochs, SratchNN_val_acc, 'b', label='Validation acc')\n",
        "ax4.set_title('Training and validation accuracy of Sratch Model')\n",
        "ax4.set_xlabel('Epochs')\n",
        "ax4.set_ylabel('Accuracy')\n",
        "ax4.set_ylim(0.60, 1.00)\n",
        "ax4.legend()\n",
        "\n",
        "plt.show()"
      ]
    },
    {
      "cell_type": "markdown",
      "metadata": {
        "id": "qNoImi0ZBxXr"
      },
      "source": [
        "##### Comment\n",
        "\n",
        "- **The trainning and validation loss graphs** shows that there is **the overfitting problem** which occurs with pretrained embeddings model. While the training loss goes down over time, the validation loss goes down until a turning point is found, and there it starts going up again. That point represents the beginning of overfitting. Sratch model has this problem but **the gap between trainning loss and validation is not as big as pretrained embeddings model.**\n",
        "\n",
        "<br>\n",
        "\n",
        "- Regards of the accuracy when predicting test dataset, **the accuracy of Origin model** is `84.56%` and that of **Sratch model** is `84.92%`. It can be concluded that there is no clear difference between two model's test accuracy. The reason for this might be that the **Sratch model** with embeddings defined from scratch allows for adaptation to the specific training data and can perform well when there is sufficient labeled data available.\n",
        "\n",
        "<br>\n",
        "\n",
        "In summary, the model with pretrained embeddings benefits from prelearned semantic representations, which can be useful when the pretrained embeddings align well with the target task or when data is limited.\n",
        "<br>On the other hand, the model with embeddings from scratch allows for adaptation to the specific training data and can perform well when there is sufficient labeled data available."
      ]
    },
    {
      "cell_type": "markdown",
      "metadata": {
        "id": "QHmgtIFUInEV"
      },
      "source": [
        "### 3.3 Model 3 - DenseNNi\n",
        "<a class=\"anchor\" id=\"chapter_4_3\"></a>"
      ]
    },
    {
      "cell_type": "markdown",
      "metadata": {
        "id": "_XXZhoj3JWmf"
      },
      "source": [
        "For this task, I'll revert to OrigNN as the starting point.  Change the Dense hidden layer in the neural net from 16 neurons to (50 + 10 * 9) neurons.  Call this network DenseNNi.  I'll train and evaluate this model and plot the graphs.Then, I compare the performance of DenseNNi with OrigNN."
      ]
    },
    {
      "cell_type": "markdown",
      "metadata": {
        "id": "H23NRLKtKyFr"
      },
      "source": [
        "#### Build the DenseNNi model"
      ]
    },
    {
      "cell_type": "code",
      "execution_count": null,
      "metadata": {
        "colab": {
          "base_uri": "https://localhost:8080/"
        },
        "id": "MDxn0auCK7Mq",
        "outputId": "24a2c2bb-7ff9-4c74-9e4b-14ce8b1a8c8f"
      },
      "outputs": [
        {
          "name": "stdout",
          "output_type": "stream",
          "text": [
            "Model: \"sequential_2\"\n",
            "_________________________________________________________________\n",
            " Layer (type)                Output Shape              Param #   \n",
            "=================================================================\n",
            " keras_layer (KerasLayer)    (None, 50)                48190600  \n",
            "                                                                 \n",
            " dense_4 (Dense)             (None, 140)               7140      \n",
            "                                                                 \n",
            " dense_5 (Dense)             (None, 1)                 141       \n",
            "                                                                 \n",
            "=================================================================\n",
            "Total params: 48,197,881\n",
            "Trainable params: 48,197,881\n",
            "Non-trainable params: 0\n",
            "_________________________________________________________________\n"
          ]
        }
      ],
      "source": [
        "N=9\n",
        "\n",
        "DenseNNi=tf.keras.Sequential()\n",
        "DenseNNi.add(hub_layer)\n",
        "DenseNNi.add(tf.keras.layers.Dense(50 + 10 * N, activation='relu'))\n",
        "DenseNNi.add(tf.keras.layers.Dense(1))\n",
        "\n",
        "DenseNNi.summary()"
      ]
    },
    {
      "cell_type": "markdown",
      "metadata": {
        "id": "78J9QWJgLRk6"
      },
      "source": [
        "#### Loss function and optimizer"
      ]
    },
    {
      "cell_type": "code",
      "execution_count": null,
      "metadata": {
        "id": "MV2skX6bLc1x"
      },
      "outputs": [],
      "source": [
        "DenseNNi.compile(optimizer='adam',\n",
        "              loss=tf.losses.BinaryCrossentropy(from_logits=True),\n",
        "              metrics=[tf.metrics.BinaryAccuracy(threshold=0.0, name='accuracy')])"
      ]
    },
    {
      "cell_type": "markdown",
      "metadata": {
        "id": "zIc0Jm65LB9R"
      },
      "source": [
        "#### Train the DenseNNi model"
      ]
    },
    {
      "cell_type": "code",
      "execution_count": null,
      "metadata": {
        "colab": {
          "base_uri": "https://localhost:8080/"
        },
        "id": "XYlW6RszKhut",
        "outputId": "08182577-fe1c-4ed6-bfd0-48d224da1c9d",
        "collapsed": true
      },
      "outputs": [
        {
          "name": "stdout",
          "output_type": "stream",
          "text": [
            "Epoch 1/40\n",
            "30/30 [==============================] - 7s 183ms/step - loss: 0.4597 - accuracy: 0.9094 - val_loss: 0.3745 - val_accuracy: 0.8644\n",
            "Epoch 2/40\n",
            "30/30 [==============================] - 7s 228ms/step - loss: 0.1364 - accuracy: 0.9981 - val_loss: 0.3064 - val_accuracy: 0.8719\n",
            "Epoch 3/40\n",
            "30/30 [==============================] - 6s 209ms/step - loss: 0.0494 - accuracy: 0.9995 - val_loss: 0.3184 - val_accuracy: 0.8741\n",
            "Epoch 4/40\n",
            "30/30 [==============================] - 7s 226ms/step - loss: 0.0236 - accuracy: 0.9999 - val_loss: 0.3432 - val_accuracy: 0.8723\n",
            "Epoch 5/40\n",
            "30/30 [==============================] - 5s 176ms/step - loss: 0.0135 - accuracy: 0.9999 - val_loss: 0.3672 - val_accuracy: 0.8711\n",
            "Epoch 6/40\n",
            "30/30 [==============================] - 6s 217ms/step - loss: 0.0084 - accuracy: 1.0000 - val_loss: 0.3896 - val_accuracy: 0.8712\n",
            "Epoch 7/40\n",
            "30/30 [==============================] - 5s 152ms/step - loss: 0.0054 - accuracy: 1.0000 - val_loss: 0.4119 - val_accuracy: 0.8692\n",
            "Epoch 8/40\n",
            "30/30 [==============================] - 6s 216ms/step - loss: 0.0037 - accuracy: 1.0000 - val_loss: 0.4322 - val_accuracy: 0.8690\n",
            "Epoch 9/40\n",
            "30/30 [==============================] - 5s 177ms/step - loss: 0.0026 - accuracy: 1.0000 - val_loss: 0.4519 - val_accuracy: 0.8682\n",
            "Epoch 10/40\n",
            "30/30 [==============================] - 6s 206ms/step - loss: 0.0019 - accuracy: 1.0000 - val_loss: 0.4702 - val_accuracy: 0.8683\n",
            "Epoch 11/40\n",
            "30/30 [==============================] - 5s 164ms/step - loss: 0.0014 - accuracy: 1.0000 - val_loss: 0.4877 - val_accuracy: 0.8676\n",
            "Epoch 12/40\n",
            "30/30 [==============================] - 5s 183ms/step - loss: 0.0011 - accuracy: 1.0000 - val_loss: 0.5043 - val_accuracy: 0.8663\n",
            "Epoch 13/40\n",
            "30/30 [==============================] - 6s 186ms/step - loss: 8.7208e-04 - accuracy: 1.0000 - val_loss: 0.5178 - val_accuracy: 0.8672\n",
            "Epoch 14/40\n",
            "30/30 [==============================] - 5s 165ms/step - loss: 7.0336e-04 - accuracy: 1.0000 - val_loss: 0.5313 - val_accuracy: 0.8671\n",
            "Epoch 15/40\n",
            "30/30 [==============================] - 6s 193ms/step - loss: 5.7839e-04 - accuracy: 1.0000 - val_loss: 0.5438 - val_accuracy: 0.8673\n",
            "Epoch 16/40\n",
            "30/30 [==============================] - 5s 167ms/step - loss: 4.8211e-04 - accuracy: 1.0000 - val_loss: 0.5555 - val_accuracy: 0.8673\n",
            "Epoch 17/40\n",
            "30/30 [==============================] - 5s 157ms/step - loss: 4.0405e-04 - accuracy: 1.0000 - val_loss: 0.5673 - val_accuracy: 0.8672\n",
            "Epoch 18/40\n",
            "30/30 [==============================] - 4s 151ms/step - loss: 3.4385e-04 - accuracy: 1.0000 - val_loss: 0.5779 - val_accuracy: 0.8664\n",
            "Epoch 19/40\n",
            "30/30 [==============================] - 4s 147ms/step - loss: 2.9620e-04 - accuracy: 1.0000 - val_loss: 0.5879 - val_accuracy: 0.8650\n",
            "Epoch 20/40\n",
            "30/30 [==============================] - 5s 164ms/step - loss: 2.5841e-04 - accuracy: 1.0000 - val_loss: 0.5968 - val_accuracy: 0.8652\n",
            "Epoch 21/40\n",
            "30/30 [==============================] - 4s 143ms/step - loss: 2.2697e-04 - accuracy: 1.0000 - val_loss: 0.6056 - val_accuracy: 0.8651\n",
            "Epoch 22/40\n",
            "30/30 [==============================] - 6s 190ms/step - loss: 2.0047e-04 - accuracy: 1.0000 - val_loss: 0.6138 - val_accuracy: 0.8660\n",
            "Epoch 23/40\n",
            "30/30 [==============================] - 5s 151ms/step - loss: 1.7866e-04 - accuracy: 1.0000 - val_loss: 0.6219 - val_accuracy: 0.8655\n",
            "Epoch 24/40\n",
            "30/30 [==============================] - 4s 131ms/step - loss: 1.6000e-04 - accuracy: 1.0000 - val_loss: 0.6295 - val_accuracy: 0.8649\n",
            "Epoch 25/40\n",
            "30/30 [==============================] - 5s 151ms/step - loss: 1.4397e-04 - accuracy: 1.0000 - val_loss: 0.6368 - val_accuracy: 0.8653\n",
            "Epoch 26/40\n",
            "30/30 [==============================] - 4s 124ms/step - loss: 1.2989e-04 - accuracy: 1.0000 - val_loss: 0.6437 - val_accuracy: 0.8658\n",
            "Epoch 27/40\n",
            "30/30 [==============================] - 4s 132ms/step - loss: 1.1781e-04 - accuracy: 1.0000 - val_loss: 0.6505 - val_accuracy: 0.8651\n",
            "Epoch 28/40\n",
            "30/30 [==============================] - 5s 165ms/step - loss: 1.0741e-04 - accuracy: 1.0000 - val_loss: 0.6570 - val_accuracy: 0.8656\n",
            "Epoch 29/40\n",
            "30/30 [==============================] - 4s 126ms/step - loss: 9.8216e-05 - accuracy: 1.0000 - val_loss: 0.6633 - val_accuracy: 0.8652\n",
            "Epoch 30/40\n",
            "30/30 [==============================] - 4s 116ms/step - loss: 9.0141e-05 - accuracy: 1.0000 - val_loss: 0.6694 - val_accuracy: 0.8654\n",
            "Epoch 31/40\n",
            "30/30 [==============================] - 4s 136ms/step - loss: 8.2930e-05 - accuracy: 1.0000 - val_loss: 0.6752 - val_accuracy: 0.8650\n",
            "Epoch 32/40\n",
            "30/30 [==============================] - 3s 94ms/step - loss: 7.6625e-05 - accuracy: 1.0000 - val_loss: 0.6809 - val_accuracy: 0.8650\n",
            "Epoch 33/40\n",
            "30/30 [==============================] - 3s 105ms/step - loss: 7.0981e-05 - accuracy: 1.0000 - val_loss: 0.6864 - val_accuracy: 0.8654\n",
            "Epoch 34/40\n",
            "30/30 [==============================] - 3s 110ms/step - loss: 6.5813e-05 - accuracy: 1.0000 - val_loss: 0.6918 - val_accuracy: 0.8649\n",
            "Epoch 35/40\n",
            "30/30 [==============================] - 4s 149ms/step - loss: 6.1199e-05 - accuracy: 1.0000 - val_loss: 0.6970 - val_accuracy: 0.8651\n",
            "Epoch 36/40\n",
            "30/30 [==============================] - 3s 106ms/step - loss: 5.7068e-05 - accuracy: 1.0000 - val_loss: 0.7021 - val_accuracy: 0.8652\n",
            "Epoch 37/40\n",
            "30/30 [==============================] - 3s 104ms/step - loss: 5.3323e-05 - accuracy: 1.0000 - val_loss: 0.7071 - val_accuracy: 0.8647\n",
            "Epoch 38/40\n",
            "30/30 [==============================] - 4s 141ms/step - loss: 4.9911e-05 - accuracy: 1.0000 - val_loss: 0.7119 - val_accuracy: 0.8646\n",
            "Epoch 39/40\n",
            "30/30 [==============================] - 4s 124ms/step - loss: 4.6806e-05 - accuracy: 1.0000 - val_loss: 0.7165 - val_accuracy: 0.8648\n",
            "Epoch 40/40\n",
            "30/30 [==============================] - 3s 98ms/step - loss: 4.3959e-05 - accuracy: 1.0000 - val_loss: 0.7211 - val_accuracy: 0.8646\n"
          ]
        }
      ],
      "source": [
        "# DenseNNi model\n",
        "DenseNNi_history = DenseNNi.fit(partial_x_train,\n",
        "                    partial_y_train,\n",
        "                    epochs=40,\n",
        "                    batch_size=512,\n",
        "                    validation_data=(x_val, y_val),\n",
        "                    verbose=1)"
      ]
    },
    {
      "cell_type": "markdown",
      "metadata": {
        "id": "WOX9ZdiCNCqa"
      },
      "source": [
        "#### Evaluate the DenseNNi model"
      ]
    },
    {
      "cell_type": "code",
      "execution_count": null,
      "metadata": {
        "colab": {
          "base_uri": "https://localhost:8080/"
        },
        "id": "62VDl2MLNF2W",
        "outputId": "e4317229-f033-431e-f163-b2009e0ae817"
      },
      "outputs": [
        {
          "name": "stdout",
          "output_type": "stream",
          "text": [
            "782/782 [==============================] - 4s 5ms/step - loss: 0.8081 - accuracy: 0.8470\n",
            "[0.8081465363502502, 0.847000002861023]\n"
          ]
        }
      ],
      "source": [
        "DenseNNi_results = DenseNNi.evaluate(test_examples, test_labels)\n",
        "\n",
        "print(DenseNNi_results)"
      ]
    },
    {
      "cell_type": "markdown",
      "metadata": {
        "id": "l_c2cXI8NcgC"
      },
      "source": [
        "#### Graph of accuracy and loss over time"
      ]
    },
    {
      "cell_type": "markdown",
      "metadata": {
        "id": "H06HI6XUNvpH"
      },
      "source": [
        "model.fit() returns a `History` object that contains a dictionary with everything that happened during training:"
      ]
    },
    {
      "cell_type": "code",
      "execution_count": null,
      "metadata": {
        "id": "pRIna_niNvpI"
      },
      "outputs": [],
      "source": [
        "DenseNNi_history_dict = DenseNNi_history.history"
      ]
    },
    {
      "cell_type": "markdown",
      "metadata": {
        "id": "CbxTcNUnNvpI"
      },
      "source": [
        "There are four entries: one for each monitored metric during training and validation. We can use these to plot the training and validation loss for comparison, as well as the training and validation accuracy:"
      ]
    },
    {
      "cell_type": "code",
      "execution_count": null,
      "metadata": {
        "colab": {
          "base_uri": "https://localhost:8080/",
          "height": 487
        },
        "id": "Y0WYRY31NvpJ",
        "outputId": "05922afc-c322-4a99-b931-d4d20ebd1b04"
      },
      "outputs": [
        {
          "data": {
            "image/png": "[encoded data removed]",
            "text/plain": [
              "<Figure size 1000x500 with 2 Axes>"
            ]
          },
          "metadata": {},
          "output_type": "display_data"
        }
      ],
      "source": [
        "# DenseNNi Model\n",
        "DenseNNi_acc = DenseNNi_history_dict['accuracy']\n",
        "DenseNNi_val_acc = DenseNNi_history_dict['val_accuracy']\n",
        "DenseNNi_loss = DenseNNi_history_dict['loss']\n",
        "DenseNNi_val_loss = DenseNNi_history_dict['val_loss']\n",
        "\n",
        "epochs = range(1, len(DenseNNi_acc) + 1)\n",
        "\n",
        "fig, ((ax5, ax6)) = plt.subplots(nrows = 1,\n",
        "                                 ncols = 2,\n",
        "                                 figsize = (10,5))\n",
        "\n",
        "# plot for Origin Model\n",
        "# \"bo\" is for \"blue dot\"\n",
        "ax5.plot(epochs, OriginNN_loss, 'bo', label='Training loss')\n",
        "# b is for \"solid blue line\"\n",
        "ax5.plot(epochs, OriginNN_val_loss, 'b', label='Validation loss')\n",
        "ax5.title.set_text('Training and validation loss of Origin Model')\n",
        "ax5.set_xlabel('Epochs')\n",
        "ax5.set_ylabel('Loss')\n",
        "ax5.legend()\n",
        "\n",
        "# Plot for DenseNNi Model\n",
        "ax6.plot(epochs, DenseNNi_loss, 'bo', label='Training loss')\n",
        "ax6.plot(epochs, DenseNNi_val_loss, 'b', label='Validation loss')\n",
        "ax6.title.set_text('Training and validation loss of DenseNNi Moddel')\n",
        "ax6.set_xlabel('Epochs')\n",
        "ax6.set_ylabel('Loss')\n",
        "ax6.legend()\n",
        "\n",
        "plt.show()"
      ]
    },
    {
      "cell_type": "code",
      "execution_count": null,
      "metadata": {
        "colab": {
          "base_uri": "https://localhost:8080/",
          "height": 487
        },
        "id": "eUcmZSToNvpJ",
        "outputId": "89697cf4-4c2b-4cae-b832-41d3dbaeb22c"
      },
      "outputs": [
        {
          "data": {
            "image/png": "[encoded data removed]",
            "text/plain": [
              "<Figure size 1000x500 with 2 Axes>"
            ]
          },
          "metadata": {},
          "output_type": "display_data"
        }
      ],
      "source": [
        "fig, ((ax7, ax8)) = plt.subplots(nrows = 1,\n",
        "                                 ncols = 2,\n",
        "                                 figsize = (10,5))\n",
        "\n",
        "ax7.plot(epochs, OriginNN_acc, 'bo', label='Training acc')\n",
        "ax7.plot(epochs, OriginNN_val_acc, 'b', label='Validation acc')\n",
        "ax7.set_title('Training and validation accuracy of Origin Model')\n",
        "ax7.set_xlabel('Epochs')\n",
        "ax7.set_ylabel('Accuracy')\n",
        "ax7.set_ylim(0.60, 1.00)\n",
        "ax7.legend()\n",
        "\n",
        "ax8.plot(epochs, DenseNNi_acc, 'bo', label='Training acc')\n",
        "ax8.plot(epochs, DenseNNi_val_acc, 'b', label='Validation acc')\n",
        "ax8.set_title('Training and validation accuracy of DenseNNi Model')\n",
        "ax8.set_xlabel('Epochs')\n",
        "ax8.set_ylabel('Accuracy')\n",
        "ax8.set_ylim(0.60, 1.00)\n",
        "ax8.legend()\n",
        "\n",
        "plt.show()"
      ]
    },
    {
      "cell_type": "markdown",
      "metadata": {
        "id": "JJUrB37uT2Fa"
      },
      "source": [
        "#### Comment\n",
        "\n",
        "The graphs indicate that from epoch 4, DenseNNi model reach 100% accuracy with trainning dataset while validation loss increases over time. In addition, the performance with test samples still remains the same as OrigNN model.\n",
        "\n",
        "&#8594; It is clear that DenseNNi model has more hidden units (a higher-dimensional representation space), and/or more layers. This makes the network more computationally expensive and lead to learning unwanted patterns—patterns that improve performance on training data but not on the test data. Severe overfitting problem occurs. **The overfitting problem with DenseNNi is more obvious and severe than OrigNN model.**"
      ]
    },
    {
      "cell_type": "markdown",
      "metadata": {
        "id": "tpuX9YPoVE5X"
      },
      "source": [
        "### 3.4 Model 4 - DenseNNii\n",
        "<a class=\"anchor\" id=\"chapter_4_4\"></a>"
      ]
    },
    {
      "cell_type": "markdown",
      "metadata": {
        "id": "9QwGWmz2WA85"
      },
      "source": [
        "For this task, I'll add an L2 (kernel) regulariser to your hidden Dense layer.  Call this network DenseNNii. I'll train and evaluate this model and plot the graphs.Then, I compare the performance of DenseNNi with DenseNNii."
      ]
    },
    {
      "cell_type": "markdown",
      "metadata": {
        "id": "Iti08e8vWA8_"
      },
      "source": [
        "#### Build the DenseNNii model"
      ]
    },
    {
      "cell_type": "code",
      "execution_count": null,
      "metadata": {
        "colab": {
          "base_uri": "https://localhost:8080/"
        },
        "id": "vPLcf679WA8_",
        "outputId": "bc38426c-dcfd-4cf0-d859-7bd70308840e"
      },
      "outputs": [
        {
          "name": "stdout",
          "output_type": "stream",
          "text": [
            "Model: \"sequential_3\"\n",
            "_________________________________________________________________\n",
            " Layer (type)                Output Shape              Param #   \n",
            "=================================================================\n",
            " keras_layer (KerasLayer)    (None, 50)                48190600  \n",
            "                                                                 \n",
            " dense_6 (Dense)             (None, 140)               7140      \n",
            "                                                                 \n",
            " dense_7 (Dense)             (None, 1)                 141       \n",
            "                                                                 \n",
            "=================================================================\n",
            "Total params: 48,197,881\n",
            "Trainable params: 48,197,881\n",
            "Non-trainable params: 0\n",
            "_________________________________________________________________\n"
          ]
        }
      ],
      "source": [
        "DenseNNii=tf.keras.Sequential()\n",
        "DenseNNii.add(hub_layer)\n",
        "DenseNNii.add(tf.keras.layers.Dense(50 + 10 * N, activation='relu', kernel_regularizer=tf.keras.regularizers.l2(0.01)))\n",
        "DenseNNii.add(tf.keras.layers.Dense(1))\n",
        "\n",
        "DenseNNii.summary()"
      ]
    },
    {
      "cell_type": "markdown",
      "metadata": {
        "id": "mv_5aaRkWA8_"
      },
      "source": [
        "#### Loss function and optimizer"
      ]
    },
    {
      "cell_type": "code",
      "execution_count": null,
      "metadata": {
        "id": "zI8n1jAsWA8_"
      },
      "outputs": [],
      "source": [
        "DenseNNii.compile(optimizer='adam',\n",
        "              loss=tf.losses.BinaryCrossentropy(from_logits=True),\n",
        "              metrics=[tf.metrics.BinaryAccuracy(threshold=0.0, name='accuracy')])"
      ]
    },
    {
      "cell_type": "markdown",
      "metadata": {
        "id": "zWbNy5iiWA8_"
      },
      "source": [
        "#### Train the DenseNNii model"
      ]
    },
    {
      "cell_type": "code",
      "execution_count": null,
      "metadata": {
        "colab": {
          "base_uri": "https://localhost:8080/"
        },
        "id": "bed97IbgWA9A",
        "outputId": "98ebc650-c0de-4e05-dd5b-a72fa57594dd",
        "collapsed": true
      },
      "outputs": [
        {
          "name": "stdout",
          "output_type": "stream",
          "text": [
            "Epoch 1/40\n",
            "30/30 [==============================] - 7s 198ms/step - loss: 1.0466 - accuracy: 0.9395 - val_loss: 0.9245 - val_accuracy: 0.8681\n",
            "Epoch 2/40\n",
            "30/30 [==============================] - 6s 202ms/step - loss: 0.6214 - accuracy: 0.9997 - val_loss: 0.7355 - val_accuracy: 0.8723\n",
            "Epoch 3/40\n",
            "30/30 [==============================] - 6s 189ms/step - loss: 0.4288 - accuracy: 0.9999 - val_loss: 0.6100 - val_accuracy: 0.8727\n",
            "Epoch 4/40\n",
            "30/30 [==============================] - 7s 230ms/step - loss: 0.3052 - accuracy: 0.9999 - val_loss: 0.5218 - val_accuracy: 0.8726\n",
            "Epoch 5/40\n",
            "30/30 [==============================] - 5s 155ms/step - loss: 0.2213 - accuracy: 0.9999 - val_loss: 0.4668 - val_accuracy: 0.8712\n",
            "Epoch 6/40\n",
            "30/30 [==============================] - 5s 171ms/step - loss: 0.1639 - accuracy: 0.9999 - val_loss: 0.4302 - val_accuracy: 0.8716\n",
            "Epoch 7/40\n",
            "30/30 [==============================] - 6s 189ms/step - loss: 0.1244 - accuracy: 1.0000 - val_loss: 0.4066 - val_accuracy: 0.8713\n",
            "Epoch 8/40\n",
            "30/30 [==============================] - 6s 195ms/step - loss: 0.0970 - accuracy: 1.0000 - val_loss: 0.3928 - val_accuracy: 0.8701\n",
            "Epoch 9/40\n",
            "30/30 [==============================] - 6s 215ms/step - loss: 0.0780 - accuracy: 1.0000 - val_loss: 0.3864 - val_accuracy: 0.8688\n",
            "Epoch 10/40\n",
            "30/30 [==============================] - 5s 155ms/step - loss: 0.0641 - accuracy: 1.0000 - val_loss: 0.3808 - val_accuracy: 0.8694\n",
            "Epoch 11/40\n",
            "30/30 [==============================] - 6s 194ms/step - loss: 0.0540 - accuracy: 1.0000 - val_loss: 0.3780 - val_accuracy: 0.8693\n",
            "Epoch 12/40\n",
            "30/30 [==============================] - 5s 165ms/step - loss: 0.0466 - accuracy: 1.0000 - val_loss: 0.3765 - val_accuracy: 0.8677\n",
            "Epoch 13/40\n",
            "30/30 [==============================] - 5s 165ms/step - loss: 0.0412 - accuracy: 1.0000 - val_loss: 0.3773 - val_accuracy: 0.8681\n",
            "Epoch 14/40\n",
            "30/30 [==============================] - 5s 161ms/step - loss: 0.0368 - accuracy: 1.0000 - val_loss: 0.3789 - val_accuracy: 0.8680\n",
            "Epoch 15/40\n",
            "30/30 [==============================] - 4s 149ms/step - loss: 0.0335 - accuracy: 1.0000 - val_loss: 0.3790 - val_accuracy: 0.8676\n",
            "Epoch 16/40\n",
            "30/30 [==============================] - 6s 190ms/step - loss: 0.0308 - accuracy: 1.0000 - val_loss: 0.3797 - val_accuracy: 0.8676\n",
            "Epoch 17/40\n",
            "30/30 [==============================] - 5s 162ms/step - loss: 0.0285 - accuracy: 1.0000 - val_loss: 0.3812 - val_accuracy: 0.8675\n",
            "Epoch 18/40\n",
            "30/30 [==============================] - 4s 123ms/step - loss: 0.0266 - accuracy: 1.0000 - val_loss: 0.3844 - val_accuracy: 0.8671\n",
            "Epoch 19/40\n",
            "30/30 [==============================] - 5s 151ms/step - loss: 0.0250 - accuracy: 1.0000 - val_loss: 0.3866 - val_accuracy: 0.8682\n",
            "Epoch 20/40\n",
            "30/30 [==============================] - 4s 117ms/step - loss: 0.0236 - accuracy: 1.0000 - val_loss: 0.3879 - val_accuracy: 0.8664\n",
            "Epoch 21/40\n",
            "30/30 [==============================] - 4s 134ms/step - loss: 0.0224 - accuracy: 1.0000 - val_loss: 0.3895 - val_accuracy: 0.8667\n",
            "Epoch 22/40\n",
            "30/30 [==============================] - 4s 136ms/step - loss: 0.0213 - accuracy: 1.0000 - val_loss: 0.3912 - val_accuracy: 0.8674\n",
            "Epoch 23/40\n",
            "30/30 [==============================] - 4s 126ms/step - loss: 0.0203 - accuracy: 1.0000 - val_loss: 0.3924 - val_accuracy: 0.8669\n",
            "Epoch 24/40\n",
            "30/30 [==============================] - 4s 141ms/step - loss: 0.0194 - accuracy: 1.0000 - val_loss: 0.3972 - val_accuracy: 0.8662\n",
            "Epoch 25/40\n",
            "30/30 [==============================] - 6s 192ms/step - loss: 0.0186 - accuracy: 1.0000 - val_loss: 0.3960 - val_accuracy: 0.8667\n",
            "Epoch 26/40\n",
            "30/30 [==============================] - 4s 128ms/step - loss: 0.0178 - accuracy: 1.0000 - val_loss: 0.3983 - val_accuracy: 0.8668\n",
            "Epoch 27/40\n",
            "30/30 [==============================] - 3s 113ms/step - loss: 0.0172 - accuracy: 1.0000 - val_loss: 0.4009 - val_accuracy: 0.8667\n",
            "Epoch 28/40\n",
            "30/30 [==============================] - 4s 141ms/step - loss: 0.0165 - accuracy: 1.0000 - val_loss: 0.4018 - val_accuracy: 0.8654\n",
            "Epoch 29/40\n",
            "30/30 [==============================] - 3s 103ms/step - loss: 0.0159 - accuracy: 1.0000 - val_loss: 0.4029 - val_accuracy: 0.8657\n",
            "Epoch 30/40\n",
            "30/30 [==============================] - 4s 122ms/step - loss: 0.0153 - accuracy: 1.0000 - val_loss: 0.4035 - val_accuracy: 0.8670\n",
            "Epoch 31/40\n",
            "30/30 [==============================] - 4s 132ms/step - loss: 0.0149 - accuracy: 1.0000 - val_loss: 0.4067 - val_accuracy: 0.8659\n",
            "Epoch 32/40\n",
            "30/30 [==============================] - 3s 108ms/step - loss: 0.0144 - accuracy: 1.0000 - val_loss: 0.4073 - val_accuracy: 0.8666\n",
            "Epoch 33/40\n",
            "30/30 [==============================] - 4s 135ms/step - loss: 0.0139 - accuracy: 1.0000 - val_loss: 0.4081 - val_accuracy: 0.8665\n",
            "Epoch 34/40\n",
            "30/30 [==============================] - 3s 115ms/step - loss: 0.0135 - accuracy: 1.0000 - val_loss: 0.4109 - val_accuracy: 0.8667\n",
            "Epoch 35/40\n",
            "30/30 [==============================] - 4s 140ms/step - loss: 0.0131 - accuracy: 1.0000 - val_loss: 0.4124 - val_accuracy: 0.8668\n",
            "Epoch 36/40\n",
            "30/30 [==============================] - 3s 111ms/step - loss: 0.0127 - accuracy: 1.0000 - val_loss: 0.4144 - val_accuracy: 0.8661\n",
            "Epoch 37/40\n",
            "30/30 [==============================] - 4s 132ms/step - loss: 0.0123 - accuracy: 1.0000 - val_loss: 0.4172 - val_accuracy: 0.8653\n",
            "Epoch 38/40\n",
            "30/30 [==============================] - 5s 161ms/step - loss: 0.0120 - accuracy: 1.0000 - val_loss: 0.4159 - val_accuracy: 0.8669\n",
            "Epoch 39/40\n",
            "30/30 [==============================] - 3s 99ms/step - loss: 0.0117 - accuracy: 1.0000 - val_loss: 0.4170 - val_accuracy: 0.8666\n",
            "Epoch 40/40\n",
            "30/30 [==============================] - 4s 120ms/step - loss: 0.0114 - accuracy: 1.0000 - val_loss: 0.4198 - val_accuracy: 0.8660\n"
          ]
        }
      ],
      "source": [
        "# DenseNNii model\n",
        "DenseNNii_history = DenseNNii.fit(partial_x_train,\n",
        "                    partial_y_train,\n",
        "                    epochs=40,\n",
        "                    batch_size=512,\n",
        "                    validation_data=(x_val, y_val),\n",
        "                    verbose=1)"
      ]
    },
    {
      "cell_type": "markdown",
      "metadata": {
        "id": "kGQOBLktWA9A"
      },
      "source": [
        "#### Evaluate the DenseNNii model"
      ]
    },
    {
      "cell_type": "code",
      "execution_count": null,
      "metadata": {
        "colab": {
          "base_uri": "https://localhost:8080/"
        },
        "id": "zq0KVwx4WA9A",
        "outputId": "02cbab11-3f95-446d-a9e2-6ff1fdce3b72"
      },
      "outputs": [
        {
          "name": "stdout",
          "output_type": "stream",
          "text": [
            "782/782 [==============================] - 4s 6ms/step - loss: 0.4713 - accuracy: 0.8450\n",
            "[0.47132042050361633, 0.8450000286102295]\n"
          ]
        }
      ],
      "source": [
        "DenseNNii_results = DenseNNii.evaluate(test_examples, test_labels)\n",
        "\n",
        "print(DenseNNii_results)"
      ]
    },
    {
      "cell_type": "markdown",
      "metadata": {
        "id": "6C1_NNwmWA9A"
      },
      "source": [
        "#### Graph of accuracy and loss over time"
      ]
    },
    {
      "cell_type": "markdown",
      "metadata": {
        "id": "pIQpzYxfWA9A"
      },
      "source": [
        "model.fit() returns a `History` object that contains a dictionary with everything that happened during training:"
      ]
    },
    {
      "cell_type": "code",
      "execution_count": null,
      "metadata": {
        "id": "zONinucDWA9A"
      },
      "outputs": [],
      "source": [
        "DenseNNii_history_dict =DenseNNii_history.history"
      ]
    },
    {
      "cell_type": "markdown",
      "metadata": {
        "id": "cmi5ZLuQWA9A"
      },
      "source": [
        "There are four entries: one for each monitored metric during training and validation. We can use these to plot the training and validation loss for comparison, as well as the training and validation accuracy:"
      ]
    },
    {
      "cell_type": "code",
      "execution_count": null,
      "metadata": {
        "colab": {
          "base_uri": "https://localhost:8080/",
          "height": 487
        },
        "id": "ZcweItDUWA9A",
        "outputId": "7f6275e7-ba3e-490d-8378-1f222fc2cdfe"
      },
      "outputs": [
        {
          "data": {
            "image/png": "[encoded data removed]",
            "text/plain": [
              "<Figure size 1000x500 with 2 Axes>"
            ]
          },
          "metadata": {},
          "output_type": "display_data"
        }
      ],
      "source": [
        "# DenseNNii Model\n",
        "DenseNNii_acc = DenseNNii_history_dict['accuracy']\n",
        "DenseNNii_val_acc = DenseNNii_history_dict['val_accuracy']\n",
        "DenseNNii_loss = DenseNNii_history_dict['loss']\n",
        "DenseNNii_val_loss = DenseNNii_history_dict['val_loss']\n",
        "\n",
        "epochs = range(1, len(DenseNNii_acc) + 1)\n",
        "\n",
        "fig, ((ax9, ax10)) = plt.subplots(nrows = 1,\n",
        "                                 ncols = 2,\n",
        "                                 figsize = (10,5))\n",
        "\n",
        "# plot for Origin Model\n",
        "# \"bo\" is for \"blue dot\"\n",
        "ax9.plot(epochs, DenseNNi_loss, 'bo', label='Training loss')\n",
        "# b is for \"solid blue line\"\n",
        "ax9.plot(epochs, DenseNNi_val_loss, 'b', label='Validation loss')\n",
        "ax9.title.set_text('Training and validation loss of DenseNNi Model')\n",
        "ax9.set_xlabel('Epochs')\n",
        "ax9.set_ylabel('Loss')\n",
        "ax9.legend()\n",
        "\n",
        "# Plot for DenseNNi Model\n",
        "ax10.plot(epochs, DenseNNii_loss, 'bo', label='Training loss')\n",
        "ax10.plot(epochs, DenseNNii_val_loss, 'b', label='Validation loss')\n",
        "ax10.title.set_text('Training and validation loss of DenseNNii Moddel')\n",
        "ax10.set_xlabel('Epochs')\n",
        "ax10.set_ylabel('Loss')\n",
        "ax10.legend()\n",
        "\n",
        "plt.show()"
      ]
    },
    {
      "cell_type": "code",
      "execution_count": null,
      "metadata": {
        "colab": {
          "base_uri": "https://localhost:8080/",
          "height": 487
        },
        "id": "tG5-NjoCWA9A",
        "outputId": "00b1856e-66e9-4ce9-b7f8-0deedc66e4b4"
      },
      "outputs": [
        {
          "data": {
            "image/png": "[encoded data removed]",
            "text/plain": [
              "<Figure size 1000x500 with 2 Axes>"
            ]
          },
          "metadata": {},
          "output_type": "display_data"
        }
      ],
      "source": [
        "fig, ((ax11, ax12)) = plt.subplots(nrows = 1,\n",
        "                                 ncols = 2,\n",
        "                                 figsize = (10,5))\n",
        "\n",
        "ax11.plot(epochs, DenseNNi_acc, 'bo', label='Training acc')\n",
        "ax11.plot(epochs, DenseNNi_val_acc, 'b', label='Validation acc')\n",
        "ax11.set_title('Training and validation accuracy of DenseNNi Model')\n",
        "ax11.set_xlabel('Epochs')\n",
        "ax11.set_ylabel('Accuracy')\n",
        "ax11.set_ylim(0.60, 1.00)\n",
        "ax11.legend()\n",
        "\n",
        "ax12.plot(epochs, DenseNNii_acc, 'bo', label='Training acc')\n",
        "ax12.plot(epochs, DenseNNii_val_acc, 'b', label='Validation acc')\n",
        "ax12.set_title('DenseNNii Model')\n",
        "ax12.set_xlabel('Epochs')\n",
        "ax12.set_ylabel('Accuracy')\n",
        "ax12.set_ylim(0.60, 1.00)\n",
        "ax12.legend()\n",
        "\n",
        "plt.show()"
      ]
    },
    {
      "cell_type": "markdown",
      "metadata": {
        "id": "9Abfbi_tWA9A"
      },
      "source": [
        "#### Comment\n",
        "\n",
        "The epochs of DenseNNii model start with high accuracy for trainning dataset because of having many hidden units. Beside that, the validation loss are lower than DenseNNi model. The gap between train_loss and val_loss of DenseNNii is smaller in comparision with that of DenseNNi. While trainning and validation accuracy curve of DenseNNi look normal when they start at low and grow higher over time, DenseNNi provide the sign of overfitting when trainning accuracy start over 90% and reach 100% at 4th epoch.   \n",
        "\n",
        "**Adding an L2 (kernel) regularizer to the hidden Dense layer of DenseNNii model can reduce overfitting which is the weakness of last model - DenseNNi.**"
      ]
    },
    {
      "cell_type": "markdown",
      "metadata": {
        "id": "bhU0jXfZefZP"
      },
      "source": [
        "### 3.5 Model 5 - DenseNNiii\n",
        "<a class=\"anchor\" id=\"chapter_4_5\"></a>"
      ]
    },
    {
      "cell_type": "markdown",
      "metadata": {
        "id": "houtvg9zefZP"
      },
      "source": [
        "For this task, I'll add a second regularised Dense hidden layer in the neural net, of the same size as the Dense layer of Task 2 and inserted immediately following it.  Call this network DenseNNiii. I'll train and evaluate this model and plot the graphs.Then, I compare the performance of DenseNNiii with DenseNNii."
      ]
    },
    {
      "cell_type": "markdown",
      "metadata": {
        "id": "4q4ZBdw7efZP"
      },
      "source": [
        "#### Build the DenseNNiii model"
      ]
    },
    {
      "cell_type": "code",
      "execution_count": null,
      "metadata": {
        "colab": {
          "base_uri": "https://localhost:8080/"
        },
        "id": "7f7yEnxsefZP",
        "outputId": "974a7d28-bb0d-466c-9e1d-1fbd9050e438"
      },
      "outputs": [
        {
          "name": "stdout",
          "output_type": "stream",
          "text": [
            "Model: \"sequential_4\"\n",
            "_________________________________________________________________\n",
            " Layer (type)                Output Shape              Param #   \n",
            "=================================================================\n",
            " keras_layer (KerasLayer)    (None, 50)                48190600  \n",
            "                                                                 \n",
            " dense_8 (Dense)             (None, 140)               7140      \n",
            "                                                                 \n",
            " dense_9 (Dense)             (None, 140)               19740     \n",
            "                                                                 \n",
            " dense_10 (Dense)            (None, 1)                 141       \n",
            "                                                                 \n",
            "=================================================================\n",
            "Total params: 48,217,621\n",
            "Trainable params: 48,217,621\n",
            "Non-trainable params: 0\n",
            "_________________________________________________________________\n"
          ]
        }
      ],
      "source": [
        "DenseNNiii=tf.keras.Sequential()\n",
        "DenseNNiii.add(hub_layer)\n",
        "DenseNNiii.add(tf.keras.layers.Dense(50 + 10 * N, activation='relu', kernel_regularizer=tf.keras.regularizers.l2(0.01)))\n",
        "DenseNNiii.add(tf.keras.layers.Dense(50 + 10 * N, activation='relu', kernel_regularizer=tf.keras.regularizers.l2(0.01)))\n",
        "DenseNNiii.add(tf.keras.layers.Dense(1))\n",
        "\n",
        "DenseNNiii.summary()"
      ]
    },
    {
      "cell_type": "markdown",
      "metadata": {
        "id": "uSgEIwEPefZQ"
      },
      "source": [
        "#### Loss function and optimizer"
      ]
    },
    {
      "cell_type": "code",
      "execution_count": null,
      "metadata": {
        "id": "M3Rc2VuEefZQ"
      },
      "outputs": [],
      "source": [
        "DenseNNiii.compile(optimizer='adam',\n",
        "              loss=tf.losses.BinaryCrossentropy(from_logits=True),\n",
        "              metrics=[tf.metrics.BinaryAccuracy(threshold=0.0, name='accuracy')])"
      ]
    },
    {
      "cell_type": "markdown",
      "metadata": {
        "id": "i6nfIiwtefZQ"
      },
      "source": [
        "#### Train the DenseNNiii model"
      ]
    },
    {
      "cell_type": "code",
      "execution_count": null,
      "metadata": {
        "colab": {
          "base_uri": "https://localhost:8080/"
        },
        "id": "fCd8QlIfefZQ",
        "outputId": "a3a7e7e2-d785-4e8f-f02f-d20ce32316b2",
        "collapsed": true
      },
      "outputs": [
        {
          "name": "stdout",
          "output_type": "stream",
          "text": [
            "Epoch 1/40\n",
            "30/30 [==============================] - 7s 198ms/step - loss: 2.0184 - accuracy: 0.9382 - val_loss: 1.7802 - val_accuracy: 0.8689\n",
            "Epoch 2/40\n",
            "30/30 [==============================] - 6s 215ms/step - loss: 1.2041 - accuracy: 1.0000 - val_loss: 1.2492 - val_accuracy: 0.8691\n",
            "Epoch 3/40\n",
            "30/30 [==============================] - 6s 190ms/step - loss: 0.7563 - accuracy: 1.0000 - val_loss: 0.9052 - val_accuracy: 0.8691\n",
            "Epoch 4/40\n",
            "30/30 [==============================] - 6s 195ms/step - loss: 0.4800 - accuracy: 1.0000 - val_loss: 0.7055 - val_accuracy: 0.8683\n",
            "Epoch 5/40\n",
            "30/30 [==============================] - 6s 182ms/step - loss: 0.3116 - accuracy: 1.0000 - val_loss: 0.5850 - val_accuracy: 0.8687\n",
            "Epoch 6/40\n",
            "30/30 [==============================] - 6s 188ms/step - loss: 0.2091 - accuracy: 1.0000 - val_loss: 0.5142 - val_accuracy: 0.8685\n",
            "Epoch 7/40\n",
            "30/30 [==============================] - 9s 291ms/step - loss: 0.1461 - accuracy: 1.0000 - val_loss: 0.4722 - val_accuracy: 0.8679\n",
            "Epoch 8/40\n",
            "30/30 [==============================] - 8s 238ms/step - loss: 0.1068 - accuracy: 1.0000 - val_loss: 0.4454 - val_accuracy: 0.8673\n",
            "Epoch 9/40\n",
            "30/30 [==============================] - 5s 167ms/step - loss: 0.0818 - accuracy: 1.0000 - val_loss: 0.4299 - val_accuracy: 0.8671\n",
            "Epoch 10/40\n",
            "30/30 [==============================] - 6s 200ms/step - loss: 0.0655 - accuracy: 1.0000 - val_loss: 0.4201 - val_accuracy: 0.8669\n",
            "Epoch 11/40\n",
            "30/30 [==============================] - 5s 157ms/step - loss: 0.0545 - accuracy: 1.0000 - val_loss: 0.4138 - val_accuracy: 0.8667\n",
            "Epoch 12/40\n",
            "30/30 [==============================] - 6s 186ms/step - loss: 0.0469 - accuracy: 1.0000 - val_loss: 0.4115 - val_accuracy: 0.8672\n",
            "Epoch 13/40\n",
            "30/30 [==============================] - 5s 161ms/step - loss: 0.0415 - accuracy: 1.0000 - val_loss: 0.4084 - val_accuracy: 0.8662\n",
            "Epoch 14/40\n",
            "30/30 [==============================] - 4s 135ms/step - loss: 0.0376 - accuracy: 1.0000 - val_loss: 0.4082 - val_accuracy: 0.8666\n",
            "Epoch 15/40\n",
            "30/30 [==============================] - 5s 154ms/step - loss: 0.0345 - accuracy: 1.0000 - val_loss: 0.4088 - val_accuracy: 0.8666\n",
            "Epoch 16/40\n",
            "30/30 [==============================] - 4s 135ms/step - loss: 0.0322 - accuracy: 1.0000 - val_loss: 0.4068 - val_accuracy: 0.8669\n",
            "Epoch 17/40\n",
            "30/30 [==============================] - 5s 184ms/step - loss: 0.0303 - accuracy: 1.0000 - val_loss: 0.4084 - val_accuracy: 0.8663\n",
            "Epoch 18/40\n",
            "30/30 [==============================] - 5s 159ms/step - loss: 0.0288 - accuracy: 1.0000 - val_loss: 0.4087 - val_accuracy: 0.8671\n",
            "Epoch 19/40\n",
            "30/30 [==============================] - 4s 144ms/step - loss: 0.0276 - accuracy: 1.0000 - val_loss: 0.4087 - val_accuracy: 0.8672\n",
            "Epoch 20/40\n",
            "30/30 [==============================] - 5s 159ms/step - loss: 0.0265 - accuracy: 1.0000 - val_loss: 0.4112 - val_accuracy: 0.8656\n",
            "Epoch 21/40\n",
            "30/30 [==============================] - 4s 139ms/step - loss: 0.0256 - accuracy: 1.0000 - val_loss: 0.4122 - val_accuracy: 0.8669\n",
            "Epoch 22/40\n",
            "30/30 [==============================] - 5s 150ms/step - loss: 0.0247 - accuracy: 1.0000 - val_loss: 0.4118 - val_accuracy: 0.8657\n",
            "Epoch 23/40\n",
            "30/30 [==============================] - 5s 173ms/step - loss: 0.0240 - accuracy: 1.0000 - val_loss: 0.4155 - val_accuracy: 0.8651\n",
            "Epoch 24/40\n",
            "30/30 [==============================] - 4s 118ms/step - loss: 0.0233 - accuracy: 1.0000 - val_loss: 0.4156 - val_accuracy: 0.8666\n",
            "Epoch 25/40\n",
            "30/30 [==============================] - 4s 130ms/step - loss: 0.0225 - accuracy: 1.0000 - val_loss: 0.4185 - val_accuracy: 0.8650\n",
            "Epoch 26/40\n",
            "30/30 [==============================] - 4s 135ms/step - loss: 0.0218 - accuracy: 1.0000 - val_loss: 0.4188 - val_accuracy: 0.8665\n",
            "Epoch 27/40\n",
            "30/30 [==============================] - 4s 121ms/step - loss: 0.0211 - accuracy: 1.0000 - val_loss: 0.4208 - val_accuracy: 0.8664\n",
            "Epoch 28/40\n",
            "30/30 [==============================] - 4s 133ms/step - loss: 0.0204 - accuracy: 1.0000 - val_loss: 0.4230 - val_accuracy: 0.8655\n",
            "Epoch 29/40\n",
            "30/30 [==============================] - 5s 144ms/step - loss: 0.0197 - accuracy: 1.0000 - val_loss: 0.4254 - val_accuracy: 0.8659\n",
            "Epoch 30/40\n",
            "30/30 [==============================] - 4s 138ms/step - loss: 0.0191 - accuracy: 1.0000 - val_loss: 0.4260 - val_accuracy: 0.8672\n",
            "Epoch 31/40\n",
            "30/30 [==============================] - 4s 122ms/step - loss: 0.0186 - accuracy: 1.0000 - val_loss: 0.4280 - val_accuracy: 0.8658\n",
            "Epoch 32/40\n",
            "30/30 [==============================] - 4s 144ms/step - loss: 0.0181 - accuracy: 1.0000 - val_loss: 0.4277 - val_accuracy: 0.8662\n",
            "Epoch 33/40\n",
            "30/30 [==============================] - 4s 138ms/step - loss: 0.0176 - accuracy: 1.0000 - val_loss: 0.4266 - val_accuracy: 0.8668\n",
            "Epoch 34/40\n",
            "30/30 [==============================] - 3s 117ms/step - loss: 0.0172 - accuracy: 1.0000 - val_loss: 0.4304 - val_accuracy: 0.8658\n",
            "Epoch 35/40\n",
            "30/30 [==============================] - 4s 146ms/step - loss: 0.0168 - accuracy: 1.0000 - val_loss: 0.4346 - val_accuracy: 0.8654\n",
            "Epoch 36/40\n",
            "30/30 [==============================] - 4s 127ms/step - loss: 0.0164 - accuracy: 1.0000 - val_loss: 0.4350 - val_accuracy: 0.8642\n",
            "Epoch 37/40\n",
            "30/30 [==============================] - 6s 185ms/step - loss: 0.0161 - accuracy: 1.0000 - val_loss: 0.4346 - val_accuracy: 0.8653\n",
            "Epoch 38/40\n",
            "30/30 [==============================] - 5s 152ms/step - loss: 0.0157 - accuracy: 1.0000 - val_loss: 0.4366 - val_accuracy: 0.8641\n",
            "Epoch 39/40\n",
            "30/30 [==============================] - 4s 118ms/step - loss: 0.0154 - accuracy: 1.0000 - val_loss: 0.4350 - val_accuracy: 0.8654\n",
            "Epoch 40/40\n",
            "30/30 [==============================] - 3s 100ms/step - loss: 0.0151 - accuracy: 1.0000 - val_loss: 0.4371 - val_accuracy: 0.8656\n"
          ]
        }
      ],
      "source": [
        "# DenseNNiii model\n",
        "DenseNNiii_history = DenseNNiii.fit(partial_x_train,\n",
        "                    partial_y_train,\n",
        "                    epochs=40,\n",
        "                    batch_size=512,\n",
        "                    validation_data=(x_val, y_val),\n",
        "                    verbose=1)"
      ]
    },
    {
      "cell_type": "markdown",
      "metadata": {
        "id": "EDNa_lcCefZQ"
      },
      "source": [
        "#### Evaluate the DenseNNi model"
      ]
    },
    {
      "cell_type": "code",
      "execution_count": null,
      "metadata": {
        "colab": {
          "base_uri": "https://localhost:8080/"
        },
        "id": "MT90AU1ZefZQ",
        "outputId": "b33fface-fd91-4cba-b771-0756474e286b"
      },
      "outputs": [
        {
          "name": "stdout",
          "output_type": "stream",
          "text": [
            "782/782 [==============================] - 4s 6ms/step - loss: 0.4908 - accuracy: 0.8442\n",
            "[0.49076247215270996, 0.8442000150680542]\n"
          ]
        }
      ],
      "source": [
        "DenseNNiii_results = DenseNNiii.evaluate(test_examples, test_labels)\n",
        "\n",
        "print(DenseNNiii_results)"
      ]
    },
    {
      "cell_type": "markdown",
      "metadata": {
        "id": "28Dim_hRefZQ"
      },
      "source": [
        "#### Graph of accuracy and loss over time"
      ]
    },
    {
      "cell_type": "markdown",
      "metadata": {
        "id": "2SRFLmNuefZQ"
      },
      "source": [
        "model.fit() returns a `History` object that contains a dictionary with everything that happened during training:"
      ]
    },
    {
      "cell_type": "code",
      "execution_count": null,
      "metadata": {
        "id": "Kg55vLQkefZR"
      },
      "outputs": [],
      "source": [
        "DenseNNiii_history_dict = DenseNNiii_history.history"
      ]
    },
    {
      "cell_type": "markdown",
      "metadata": {
        "id": "37l_HbmeefZR"
      },
      "source": [
        "There are four entries: one for each monitored metric during training and validation. We can use these to plot the training and validation loss for comparison, as well as the training and validation accuracy:"
      ]
    },
    {
      "cell_type": "code",
      "execution_count": null,
      "metadata": {
        "colab": {
          "base_uri": "https://localhost:8080/",
          "height": 487
        },
        "id": "xjaNmLMLefZR",
        "outputId": "50e16764-8c5f-4c61-8cbd-b30d3f2dd985"
      },
      "outputs": [
        {
          "data": {
            "image/png": "[encoded data removed]",
            "text/plain": [
              "<Figure size 1000x500 with 2 Axes>"
            ]
          },
          "metadata": {},
          "output_type": "display_data"
        }
      ],
      "source": [
        "# DenseNNii Model\n",
        "DenseNNiii_acc = DenseNNiii_history_dict['accuracy']\n",
        "DenseNNiii_val_acc = DenseNNiii_history_dict['val_accuracy']\n",
        "DenseNNiii_loss = DenseNNiii_history_dict['loss']\n",
        "DenseNNiii_val_loss = DenseNNiii_history_dict['val_loss']\n",
        "\n",
        "epochs = range(1, len(DenseNNiii_acc) + 1)\n",
        "\n",
        "fig, ((ax13, ax14)) = plt.subplots(nrows = 1,\n",
        "                                 ncols = 2,\n",
        "                                 figsize = (10,5))\n",
        "\n",
        "# plot for Origin Model\n",
        "# \"bo\" is for \"blue dot\"\n",
        "ax13.plot(epochs, DenseNNii_loss, 'bo', label='Training loss')\n",
        "# b is for \"solid blue line\"\n",
        "ax13.plot(epochs, DenseNNii_val_loss, 'b', label='Validation loss')\n",
        "ax13.title.set_text('Training and validation loss of DenseNNii Model')\n",
        "ax13.set_xlabel('Epochs')\n",
        "ax13.set_ylabel('Loss')\n",
        "ax13.set_ylim(0.00, 2.00)\n",
        "ax13.legend()\n",
        "\n",
        "# Plot for DenseNNi Model\n",
        "ax14.plot(epochs, DenseNNiii_loss, 'bo', label='Training loss')\n",
        "ax14.plot(epochs, DenseNNiii_val_loss, 'b', label='Validation loss')\n",
        "ax14.title.set_text('Training and validation loss of DenseNNiii Moddel')\n",
        "ax14.set_xlabel('Epochs')\n",
        "ax14.set_ylabel('Loss')\n",
        "ax14.set_ylim(0.00, 2.00)\n",
        "ax14.legend()\n",
        "\n",
        "plt.show()"
      ]
    },
    {
      "cell_type": "code",
      "execution_count": null,
      "metadata": {
        "colab": {
          "base_uri": "https://localhost:8080/",
          "height": 487
        },
        "id": "0lCw_k-PefZR",
        "outputId": "1c31322a-53e9-43b1-c531-2ef44cbfab0f"
      },
      "outputs": [
        {
          "data": {
            "image/png": "[encoded data removed]",
            "text/plain": [
              "<Figure size 1000x500 with 2 Axes>"
            ]
          },
          "metadata": {},
          "output_type": "display_data"
        }
      ],
      "source": [
        "fig, ((ax15, ax16)) = plt.subplots(nrows = 1,\n",
        "                                 ncols = 2,\n",
        "                                 figsize = (10,5))\n",
        "\n",
        "ax15.plot(epochs, DenseNNii_acc, 'bo', label='Training acc')\n",
        "ax15.plot(epochs, DenseNNii_val_acc, 'b', label='Validation acc')\n",
        "ax15.set_title('Training and validation accuracy of DenseNNii Model')\n",
        "ax15.set_xlabel('Epochs')\n",
        "ax15.set_ylabel('Accuracy')\n",
        "ax15.set_ylim(0.60, 1.00)\n",
        "ax15.legend()\n",
        "\n",
        "ax16.plot(epochs, DenseNNiii_acc, 'bo', label='Training acc')\n",
        "ax16.plot(epochs, DenseNNiii_val_acc, 'b', label='Validation acc')\n",
        "ax16.set_title('DenseNNiii Model')\n",
        "ax16.set_xlabel('Epochs')\n",
        "ax16.set_ylabel('Accuracy')\n",
        "ax16.set_ylim(0.60, 1.00)\n",
        "ax16.legend()\n",
        "\n",
        "plt.show()"
      ]
    },
    {
      "cell_type": "markdown",
      "metadata": {
        "id": "pB4TSIM6efZR"
      },
      "source": [
        "#### Comment\n",
        "\n",
        "- After adding second L2 (kernel) regularizer, there are significant differences in validation loss of DenseNNiii. Trainning and validation loss start around 2 at epoch 0  and then gradually drop until turining point. After turning point, the loss remain unchanged around 0.43. The gap between trainning and validation loss of DenseNNiii is likely same as those of DenseNNii.\n",
        "\n",
        "- In regard of trainning and validation accuracy, the new model - DenseNNiii reachs high accuracy - 96% at first epoch. In conclusion, add second L2 (kernel) regularizer help controlling overfitting and improve the model performance. It can prevent the model from relying too heavily on specific features or patterns that may only be present in the training data."
      ]
    },
    {
      "cell_type": "markdown",
      "metadata": {
        "id": "b2tqJTvmmG1Z"
      },
      "source": [
        "### 3.6 Model 6 - DropNNi\n",
        "<a class=\"anchor\" id=\"chapter_4_6\"></a>"
      ]
    },
    {
      "cell_type": "markdown",
      "metadata": {
        "id": "H6tpK7VSmG1f"
      },
      "source": [
        "For this task, I'll add a Dropout layer to DenseNNii (note: not to DenseNNiii), with dropout parameter 0.2, after your single hidden Dense layer.  Call this network DropNNi. I'll train and evaluate this model and plot the graphs.Then, I compare the performance of DropNNi with DenseNNii."
      ]
    },
    {
      "cell_type": "markdown",
      "metadata": {
        "id": "KWDiOerQmG1f"
      },
      "source": [
        "#### Build the DropNNi model"
      ]
    },
    {
      "cell_type": "code",
      "execution_count": null,
      "metadata": {
        "colab": {
          "base_uri": "https://localhost:8080/"
        },
        "id": "rq1Lh7aQmG1g",
        "outputId": "90592990-9cfc-4378-ebfe-5c7c699f2774"
      },
      "outputs": [
        {
          "name": "stdout",
          "output_type": "stream",
          "text": [
            "Model: \"sequential_5\"\n",
            "_________________________________________________________________\n",
            " Layer (type)                Output Shape              Param #   \n",
            "=================================================================\n",
            " keras_layer (KerasLayer)    (None, 50)                48190600  \n",
            "                                                                 \n",
            " dense_11 (Dense)            (None, 140)               7140      \n",
            "                                                                 \n",
            " dropout (Dropout)           (None, 140)               0         \n",
            "                                                                 \n",
            " dense_12 (Dense)            (None, 1)                 141       \n",
            "                                                                 \n",
            "=================================================================\n",
            "Total params: 48,197,881\n",
            "Trainable params: 48,197,881\n",
            "Non-trainable params: 0\n",
            "_________________________________________________________________\n"
          ]
        }
      ],
      "source": [
        "DropNNi=tf.keras.Sequential()\n",
        "DropNNi.add(hub_layer)\n",
        "DropNNi.add(tf.keras.layers.Dense(50 + 10 * N, activation='relu', kernel_regularizer=tf.keras.regularizers.l2(0.01)))\n",
        "DropNNi.add(tf.keras.layers.Dropout(0.2))\n",
        "DropNNi.add(tf.keras.layers.Dense(1))\n",
        "\n",
        "DropNNi.summary()"
      ]
    },
    {
      "cell_type": "markdown",
      "metadata": {
        "id": "jBM8PzSbmG1g"
      },
      "source": [
        "#### Loss function and optimizer"
      ]
    },
    {
      "cell_type": "code",
      "execution_count": null,
      "metadata": {
        "id": "Mk170BSomG1g"
      },
      "outputs": [],
      "source": [
        "DropNNi.compile(optimizer='adam',\n",
        "              loss=tf.losses.BinaryCrossentropy(from_logits=True),\n",
        "              metrics=[tf.metrics.BinaryAccuracy(threshold=0.0, name='accuracy')])"
      ]
    },
    {
      "cell_type": "markdown",
      "metadata": {
        "id": "h1PgSoYJmG1g"
      },
      "source": [
        "#### Train the DropNNi model"
      ]
    },
    {
      "cell_type": "code",
      "execution_count": null,
      "metadata": {
        "colab": {
          "base_uri": "https://localhost:8080/"
        },
        "id": "tmui8RKimG1g",
        "outputId": "2577764a-a3dd-416d-e2dd-2c135c695d15",
        "collapsed": true
      },
      "outputs": [
        {
          "name": "stdout",
          "output_type": "stream",
          "text": [
            "Epoch 1/40\n",
            "30/30 [==============================] - 7s 197ms/step - loss: 0.8558 - accuracy: 0.9640 - val_loss: 0.8964 - val_accuracy: 0.8657\n",
            "Epoch 2/40\n",
            "30/30 [==============================] - 6s 212ms/step - loss: 0.5453 - accuracy: 0.9999 - val_loss: 0.7615 - val_accuracy: 0.8668\n",
            "Epoch 3/40\n",
            "30/30 [==============================] - 5s 182ms/step - loss: 0.3977 - accuracy: 1.0000 - val_loss: 0.6515 - val_accuracy: 0.8678\n",
            "Epoch 4/40\n",
            "30/30 [==============================] - 6s 200ms/step - loss: 0.2928 - accuracy: 1.0000 - val_loss: 0.5734 - val_accuracy: 0.8672\n",
            "Epoch 5/40\n",
            "30/30 [==============================] - 5s 166ms/step - loss: 0.2181 - accuracy: 1.0000 - val_loss: 0.5206 - val_accuracy: 0.8674\n",
            "Epoch 6/40\n",
            "30/30 [==============================] - 6s 191ms/step - loss: 0.1644 - accuracy: 1.0000 - val_loss: 0.4827 - val_accuracy: 0.8673\n",
            "Epoch 7/40\n",
            "30/30 [==============================] - 5s 167ms/step - loss: 0.1255 - accuracy: 1.0000 - val_loss: 0.4587 - val_accuracy: 0.8668\n",
            "Epoch 8/40\n",
            "30/30 [==============================] - 5s 158ms/step - loss: 0.0970 - accuracy: 1.0000 - val_loss: 0.4427 - val_accuracy: 0.8673\n",
            "Epoch 9/40\n",
            "30/30 [==============================] - 6s 196ms/step - loss: 0.0761 - accuracy: 1.0000 - val_loss: 0.4313 - val_accuracy: 0.8663\n",
            "Epoch 10/40\n",
            "30/30 [==============================] - 5s 156ms/step - loss: 0.0607 - accuracy: 1.0000 - val_loss: 0.4237 - val_accuracy: 0.8667\n",
            "Epoch 11/40\n",
            "30/30 [==============================] - 5s 170ms/step - loss: 0.0493 - accuracy: 1.0000 - val_loss: 0.4198 - val_accuracy: 0.8665\n",
            "Epoch 12/40\n",
            "30/30 [==============================] - 5s 157ms/step - loss: 0.0406 - accuracy: 1.0000 - val_loss: 0.4171 - val_accuracy: 0.8659\n",
            "Epoch 13/40\n",
            "30/30 [==============================] - 5s 170ms/step - loss: 0.0340 - accuracy: 1.0000 - val_loss: 0.4151 - val_accuracy: 0.8658\n",
            "Epoch 14/40\n",
            "30/30 [==============================] - 5s 157ms/step - loss: 0.0290 - accuracy: 1.0000 - val_loss: 0.4143 - val_accuracy: 0.8664\n",
            "Epoch 15/40\n",
            "30/30 [==============================] - 5s 155ms/step - loss: 0.0252 - accuracy: 1.0000 - val_loss: 0.4146 - val_accuracy: 0.8654\n",
            "Epoch 16/40\n",
            "30/30 [==============================] - 5s 174ms/step - loss: 0.0222 - accuracy: 1.0000 - val_loss: 0.4155 - val_accuracy: 0.8655\n",
            "Epoch 17/40\n",
            "30/30 [==============================] - 4s 133ms/step - loss: 0.0198 - accuracy: 1.0000 - val_loss: 0.4163 - val_accuracy: 0.8653\n",
            "Epoch 18/40\n",
            "30/30 [==============================] - 4s 148ms/step - loss: 0.0180 - accuracy: 1.0000 - val_loss: 0.4168 - val_accuracy: 0.8658\n",
            "Epoch 19/40\n",
            "30/30 [==============================] - 5s 170ms/step - loss: 0.0164 - accuracy: 1.0000 - val_loss: 0.4189 - val_accuracy: 0.8652\n",
            "Epoch 20/40\n",
            "30/30 [==============================] - 5s 158ms/step - loss: 0.0153 - accuracy: 1.0000 - val_loss: 0.4213 - val_accuracy: 0.8653\n",
            "Epoch 21/40\n",
            "30/30 [==============================] - 5s 156ms/step - loss: 0.0143 - accuracy: 1.0000 - val_loss: 0.4232 - val_accuracy: 0.8653\n",
            "Epoch 22/40\n",
            "30/30 [==============================] - 5s 165ms/step - loss: 0.0134 - accuracy: 1.0000 - val_loss: 0.4243 - val_accuracy: 0.8661\n",
            "Epoch 23/40\n",
            "30/30 [==============================] - 3s 103ms/step - loss: 0.0126 - accuracy: 1.0000 - val_loss: 0.4259 - val_accuracy: 0.8644\n",
            "Epoch 24/40\n",
            "30/30 [==============================] - 4s 120ms/step - loss: 0.0120 - accuracy: 1.0000 - val_loss: 0.4293 - val_accuracy: 0.8650\n",
            "Epoch 25/40\n",
            "30/30 [==============================] - 5s 167ms/step - loss: 0.0115 - accuracy: 1.0000 - val_loss: 0.4318 - val_accuracy: 0.8654\n",
            "Epoch 26/40\n",
            "30/30 [==============================] - 6s 188ms/step - loss: 0.0110 - accuracy: 1.0000 - val_loss: 0.4338 - val_accuracy: 0.8660\n",
            "Epoch 27/40\n",
            "30/30 [==============================] - 4s 120ms/step - loss: 0.0106 - accuracy: 1.0000 - val_loss: 0.4346 - val_accuracy: 0.8663\n",
            "Epoch 28/40\n",
            "30/30 [==============================] - 3s 99ms/step - loss: 0.0101 - accuracy: 1.0000 - val_loss: 0.4367 - val_accuracy: 0.8643\n",
            "Epoch 29/40\n",
            "30/30 [==============================] - 4s 148ms/step - loss: 0.0098 - accuracy: 1.0000 - val_loss: 0.4383 - val_accuracy: 0.8656\n",
            "Epoch 30/40\n",
            "30/30 [==============================] - 4s 127ms/step - loss: 0.0095 - accuracy: 1.0000 - val_loss: 0.4414 - val_accuracy: 0.8652\n",
            "Epoch 31/40\n",
            "30/30 [==============================] - 4s 130ms/step - loss: 0.0091 - accuracy: 1.0000 - val_loss: 0.4432 - val_accuracy: 0.8652\n",
            "Epoch 32/40\n",
            "30/30 [==============================] - 4s 140ms/step - loss: 0.0089 - accuracy: 1.0000 - val_loss: 0.4448 - val_accuracy: 0.8650\n",
            "Epoch 33/40\n",
            "30/30 [==============================] - 3s 95ms/step - loss: 0.0087 - accuracy: 1.0000 - val_loss: 0.4465 - val_accuracy: 0.8649\n",
            "Epoch 34/40\n",
            "30/30 [==============================] - 4s 132ms/step - loss: 0.0084 - accuracy: 1.0000 - val_loss: 0.4486 - val_accuracy: 0.8646\n",
            "Epoch 35/40\n",
            "30/30 [==============================] - 4s 120ms/step - loss: 0.0082 - accuracy: 1.0000 - val_loss: 0.4496 - val_accuracy: 0.8651\n",
            "Epoch 36/40\n",
            "30/30 [==============================] - 3s 116ms/step - loss: 0.0081 - accuracy: 1.0000 - val_loss: 0.4518 - val_accuracy: 0.8652\n",
            "Epoch 37/40\n",
            "30/30 [==============================] - 3s 106ms/step - loss: 0.0078 - accuracy: 1.0000 - val_loss: 0.4509 - val_accuracy: 0.8640\n",
            "Epoch 38/40\n",
            "30/30 [==============================] - 4s 121ms/step - loss: 0.0076 - accuracy: 1.0000 - val_loss: 0.4551 - val_accuracy: 0.8648\n",
            "Epoch 39/40\n",
            "30/30 [==============================] - 3s 85ms/step - loss: 0.0074 - accuracy: 1.0000 - val_loss: 0.4564 - val_accuracy: 0.8641\n",
            "Epoch 40/40\n",
            "30/30 [==============================] - 3s 108ms/step - loss: 0.0072 - accuracy: 1.0000 - val_loss: 0.4571 - val_accuracy: 0.8648\n"
          ]
        }
      ],
      "source": [
        "# DropNNi model\n",
        "DropNNi_history = DropNNi.fit(partial_x_train,\n",
        "                    partial_y_train,\n",
        "                    epochs=40,\n",
        "                    batch_size=512,\n",
        "                    validation_data=(x_val, y_val),\n",
        "                    verbose=1)"
      ]
    },
    {
      "cell_type": "markdown",
      "metadata": {
        "id": "VhLSrImWmG1g"
      },
      "source": [
        "#### Evaluate the DropNNi model"
      ]
    },
    {
      "cell_type": "code",
      "execution_count": null,
      "metadata": {
        "colab": {
          "base_uri": "https://localhost:8080/"
        },
        "id": "iSrAIqpLmG1g",
        "outputId": "c6213168-add1-4b6b-ae20-47c66f84e21c"
      },
      "outputs": [
        {
          "name": "stdout",
          "output_type": "stream",
          "text": [
            "782/782 [==============================] - 4s 6ms/step - loss: 0.5144 - accuracy: 0.8452\n",
            "[0.5144283175468445, 0.8452399969100952]\n"
          ]
        }
      ],
      "source": [
        "DropNNi_results = DropNNi.evaluate(test_examples, test_labels)\n",
        "\n",
        "print(DropNNi_results)"
      ]
    },
    {
      "cell_type": "markdown",
      "metadata": {
        "id": "toGWrsF_mG1g"
      },
      "source": [
        "#### Graph of accuracy and loss over time"
      ]
    },
    {
      "cell_type": "markdown",
      "metadata": {
        "id": "gBpOr0nJmG1g"
      },
      "source": [
        "model.fit() returns a `History` object that contains a dictionary with everything that happened during training:"
      ]
    },
    {
      "cell_type": "code",
      "execution_count": null,
      "metadata": {
        "id": "3jY6_2tsmG1h"
      },
      "outputs": [],
      "source": [
        "DropNNi_history_dict = DropNNi_history.history"
      ]
    },
    {
      "cell_type": "markdown",
      "metadata": {
        "id": "hPndv5Q9mG1h"
      },
      "source": [
        "There are four entries: one for each monitored metric during training and validation. We can use these to plot the training and validation loss for comparison, as well as the training and validation accuracy:"
      ]
    },
    {
      "cell_type": "code",
      "execution_count": null,
      "metadata": {
        "colab": {
          "base_uri": "https://localhost:8080/",
          "height": 487
        },
        "id": "fbHh7XlUmG1h",
        "outputId": "f3eb68df-6e1d-4f6a-a8aa-6579f4c4a75d"
      },
      "outputs": [
        {
          "data": {
            "image/png": "[encoded data removed]",
            "text/plain": [
              "<Figure size 1000x500 with 2 Axes>"
            ]
          },
          "metadata": {},
          "output_type": "display_data"
        }
      ],
      "source": [
        "# DenseNNii Model\n",
        "DropNNi_acc = DropNNi_history_dict['accuracy']\n",
        "DropNNi_val_acc = DropNNi_history_dict['val_accuracy']\n",
        "DropNNi_loss = DropNNi_history_dict['loss']\n",
        "DropNNi_val_loss = DropNNi_history_dict['val_loss']\n",
        "\n",
        "epochs = range(1, len(DropNNi_acc) + 1)\n",
        "\n",
        "fig, ((ax17, ax18)) = plt.subplots(nrows = 1,\n",
        "                                 ncols = 2,\n",
        "                                 figsize = (10,5))\n",
        "\n",
        "# plot for DropNNi Model\n",
        "# \"bo\" is for \"blue dot\"\n",
        "ax17.plot(epochs, DropNNi_loss, 'bo', label='Training loss')\n",
        "# b is for \"solid blue line\"\n",
        "ax17.plot(epochs, DropNNi_val_loss, 'b', label='Validation loss')\n",
        "ax17.title.set_text('Training and validation loss of DropNNi Model')\n",
        "ax17.set_xlabel('Epochs')\n",
        "ax17.set_ylabel('Loss')\n",
        "ax17.legend()\n",
        "\n",
        "# Plot for DenseNNii Model\n",
        "ax18.plot(epochs, DenseNNii_loss, 'bo', label='Training loss')\n",
        "ax18.plot(epochs, DenseNNii_val_loss, 'b', label='Validation loss')\n",
        "ax18.title.set_text('Training and validation loss of DenseNNii Moddel')\n",
        "ax18.set_xlabel('Epochs')\n",
        "ax18.set_ylabel('Loss')\n",
        "ax18.legend()\n",
        "\n",
        "plt.show()"
      ]
    },
    {
      "cell_type": "code",
      "execution_count": null,
      "metadata": {
        "colab": {
          "base_uri": "https://localhost:8080/",
          "height": 487
        },
        "id": "mWSFydvImG1h",
        "outputId": "fbaecdc9-41b7-4a04-aacb-d91a7df602ca"
      },
      "outputs": [
        {
          "data": {
            "image/png": "[encoded data removed]",
            "text/plain": [
              "<Figure size 1000x500 with 2 Axes>"
            ]
          },
          "metadata": {},
          "output_type": "display_data"
        }
      ],
      "source": [
        "fig, ((ax19, ax20)) = plt.subplots(nrows = 1,\n",
        "                                 ncols = 2,\n",
        "                                 figsize = (10,5))\n",
        "\n",
        "ax19.plot(epochs, DropNNi_acc, 'bo', label='Training acc')\n",
        "ax19.plot(epochs, DropNNi_val_acc, 'b', label='Validation acc')\n",
        "ax19.set_title('Training and validation accuracy of DropNNi Model')\n",
        "ax19.set_xlabel('Epochs')\n",
        "ax19.set_ylabel('Accuracy')\n",
        "ax19.legend()\n",
        "\n",
        "ax20.plot(epochs, DenseNNii_acc, 'bo', label='Training acc')\n",
        "ax20.plot(epochs, DenseNNii_val_acc, 'b', label='Validation acc')\n",
        "ax20.set_title('DenseNNii Model')\n",
        "ax20.set_xlabel('Epochs')\n",
        "ax20.set_ylabel('Accuracy')\n",
        "ax20.legend()\n",
        "\n",
        "plt.show()"
      ]
    },
    {
      "cell_type": "markdown",
      "metadata": {
        "id": "X-SXwn3DmG1h"
      },
      "source": [
        "#### Comment\n",
        "\n",
        "- In comparision with DenseNNii model, DropNNi model has higher loss and val_loss from first epochs. The trainning loss and val loss graphs show that while val_loss of **DenseNNii model** mostly below 0.4 until the last epoch, al_loss of **DropNNii model** always above 0.4.\n",
        "\n",
        "- In term of accuracy, both **DenseNNii model** and  **DropNNii model** start around 95% accuracy when working with tranning set at first epochs and reach 100% at the beginning. There is no clear differences in accuracy between two models.\n",
        "\n",
        "The **DenseNNii model** seems to control overfitting better than **DropNNii model** when the gap between loss and val_loss is not big. The val_loss value of **DenseNNii model**  only increase slightly after turning point.\n",
        ""
      ]
    },
    {
      "cell_type": "markdown",
      "metadata": {
        "id": "zEPW_ZQwr4xF"
      },
      "source": [
        "### 3.7 Model 7 - DropNNii\n",
        "<a class=\"anchor\" id=\"chapter_4_7\"></a>"
      ]
    },
    {
      "cell_type": "markdown",
      "metadata": {
        "id": "6H7NMbD1r4xL"
      },
      "source": [
        "For this task, I'll take DropNNi and change the parameter to be (0.3 + 0.05 * N).  Call this network DropNNii. I'll train and evaluate this model and plot the graphs.Then, I compare the performance of DropNNi with DropNNii."
      ]
    },
    {
      "cell_type": "markdown",
      "metadata": {
        "id": "LNk-nt2Tr4xL"
      },
      "source": [
        "#### Build the DropNNii model"
      ]
    },
    {
      "cell_type": "code",
      "execution_count": null,
      "metadata": {
        "colab": {
          "base_uri": "https://localhost:8080/"
        },
        "id": "MPkYqXdXr4xM",
        "outputId": "5b17672a-8df4-4486-e1ab-60ec78d27af0"
      },
      "outputs": [
        {
          "name": "stdout",
          "output_type": "stream",
          "text": [
            "Model: \"sequential_6\"\n",
            "_________________________________________________________________\n",
            " Layer (type)                Output Shape              Param #   \n",
            "=================================================================\n",
            " keras_layer (KerasLayer)    (None, 50)                48190600  \n",
            "                                                                 \n",
            " dense_13 (Dense)            (None, 140)               7140      \n",
            "                                                                 \n",
            " dropout_1 (Dropout)         (None, 140)               0         \n",
            "                                                                 \n",
            " dense_14 (Dense)            (None, 1)                 141       \n",
            "                                                                 \n",
            "=================================================================\n",
            "Total params: 48,197,881\n",
            "Trainable params: 48,197,881\n",
            "Non-trainable params: 0\n",
            "_________________________________________________________________\n"
          ]
        }
      ],
      "source": [
        "DropNNii=tf.keras.Sequential()\n",
        "DropNNii.add(hub_layer)\n",
        "DropNNii.add(tf.keras.layers.Dense(50 + 10 * N, activation='relu', kernel_regularizer=tf.keras.regularizers.l2(0.01)))\n",
        "DropNNii.add(tf.keras.layers.Dropout(0.3 + 0.05 * N))\n",
        "DropNNii.add(tf.keras.layers.Dense(1))\n",
        "\n",
        "DropNNii.summary()"
      ]
    },
    {
      "cell_type": "markdown",
      "metadata": {
        "id": "EbnBvrlUr4xM"
      },
      "source": [
        "#### Loss function and optimizer"
      ]
    },
    {
      "cell_type": "code",
      "execution_count": null,
      "metadata": {
        "id": "K8KjhGwZr4xM"
      },
      "outputs": [],
      "source": [
        "DropNNii.compile(optimizer='adam',\n",
        "              loss=tf.losses.BinaryCrossentropy(from_logits=True),\n",
        "              metrics=[tf.metrics.BinaryAccuracy(threshold=0.0, name='accuracy')])"
      ]
    },
    {
      "cell_type": "markdown",
      "metadata": {
        "id": "HF2cXpeFr4xM"
      },
      "source": [
        "#### Train the DropNNii model"
      ]
    },
    {
      "cell_type": "code",
      "execution_count": null,
      "metadata": {
        "colab": {
          "base_uri": "https://localhost:8080/"
        },
        "id": "3ps4Dnumr4xM",
        "outputId": "b4fdfa10-3979-4939-aca3-507697cd34e6",
        "collapsed": true
      },
      "outputs": [
        {
          "name": "stdout",
          "output_type": "stream",
          "text": [
            "Epoch 1/40\n",
            "30/30 [==============================] - 7s 210ms/step - loss: 0.9795 - accuracy: 0.8748 - val_loss: 0.9131 - val_accuracy: 0.8667\n",
            "Epoch 2/40\n",
            "30/30 [==============================] - 6s 210ms/step - loss: 0.5739 - accuracy: 0.9968 - val_loss: 0.7906 - val_accuracy: 0.8676\n",
            "Epoch 3/40\n",
            "30/30 [==============================] - 6s 188ms/step - loss: 0.4235 - accuracy: 0.9985 - val_loss: 0.6874 - val_accuracy: 0.8670\n",
            "Epoch 4/40\n",
            "30/30 [==============================] - 6s 218ms/step - loss: 0.3180 - accuracy: 0.9993 - val_loss: 0.6136 - val_accuracy: 0.8673\n",
            "Epoch 5/40\n",
            "30/30 [==============================] - 6s 194ms/step - loss: 0.2413 - accuracy: 0.9997 - val_loss: 0.5673 - val_accuracy: 0.8673\n",
            "Epoch 6/40\n",
            "30/30 [==============================] - 6s 205ms/step - loss: 0.1847 - accuracy: 0.9998 - val_loss: 0.5329 - val_accuracy: 0.8660\n",
            "Epoch 7/40\n",
            "30/30 [==============================] - 5s 159ms/step - loss: 0.1440 - accuracy: 0.9998 - val_loss: 0.5081 - val_accuracy: 0.8666\n",
            "Epoch 8/40\n",
            "30/30 [==============================] - 7s 220ms/step - loss: 0.1141 - accuracy: 0.9997 - val_loss: 0.4900 - val_accuracy: 0.8664\n",
            "Epoch 9/40\n",
            "30/30 [==============================] - 6s 189ms/step - loss: 0.0910 - accuracy: 1.0000 - val_loss: 0.4758 - val_accuracy: 0.8662\n",
            "Epoch 10/40\n",
            "30/30 [==============================] - 8s 251ms/step - loss: 0.0745 - accuracy: 0.9998 - val_loss: 0.4689 - val_accuracy: 0.8660\n",
            "Epoch 11/40\n",
            "30/30 [==============================] - 6s 183ms/step - loss: 0.0617 - accuracy: 0.9998 - val_loss: 0.4627 - val_accuracy: 0.8662\n",
            "Epoch 12/40\n",
            "30/30 [==============================] - 4s 151ms/step - loss: 0.0517 - accuracy: 0.9999 - val_loss: 0.4586 - val_accuracy: 0.8654\n",
            "Epoch 13/40\n",
            "30/30 [==============================] - 3s 103ms/step - loss: 0.0445 - accuracy: 0.9998 - val_loss: 0.4604 - val_accuracy: 0.8658\n",
            "Epoch 14/40\n",
            "30/30 [==============================] - 5s 150ms/step - loss: 0.0381 - accuracy: 0.9999 - val_loss: 0.4594 - val_accuracy: 0.8655\n",
            "Epoch 15/40\n",
            "30/30 [==============================] - 5s 183ms/step - loss: 0.0332 - accuracy: 1.0000 - val_loss: 0.4600 - val_accuracy: 0.8661\n",
            "Epoch 16/40\n",
            "30/30 [==============================] - 4s 130ms/step - loss: 0.0294 - accuracy: 1.0000 - val_loss: 0.4607 - val_accuracy: 0.8658\n",
            "Epoch 17/40\n",
            "30/30 [==============================] - 4s 144ms/step - loss: 0.0262 - accuracy: 1.0000 - val_loss: 0.4612 - val_accuracy: 0.8663\n",
            "Epoch 18/40\n",
            "30/30 [==============================] - 6s 185ms/step - loss: 0.0242 - accuracy: 0.9999 - val_loss: 0.4660 - val_accuracy: 0.8660\n",
            "Epoch 19/40\n",
            "30/30 [==============================] - 5s 149ms/step - loss: 0.0219 - accuracy: 1.0000 - val_loss: 0.4655 - val_accuracy: 0.8654\n",
            "Epoch 20/40\n",
            "30/30 [==============================] - 8s 283ms/step - loss: 0.0206 - accuracy: 0.9999 - val_loss: 0.4737 - val_accuracy: 0.8660\n",
            "Epoch 21/40\n",
            "30/30 [==============================] - 5s 162ms/step - loss: 0.0192 - accuracy: 1.0000 - val_loss: 0.4736 - val_accuracy: 0.8654\n",
            "Epoch 22/40\n",
            "30/30 [==============================] - 7s 218ms/step - loss: 0.0179 - accuracy: 1.0000 - val_loss: 0.4750 - val_accuracy: 0.8658\n",
            "Epoch 23/40\n",
            "30/30 [==============================] - 6s 189ms/step - loss: 0.0169 - accuracy: 1.0000 - val_loss: 0.4725 - val_accuracy: 0.8662\n",
            "Epoch 24/40\n",
            "30/30 [==============================] - 3s 102ms/step - loss: 0.0163 - accuracy: 0.9999 - val_loss: 0.4788 - val_accuracy: 0.8660\n",
            "Epoch 25/40\n",
            "30/30 [==============================] - 6s 217ms/step - loss: 0.0156 - accuracy: 0.9999 - val_loss: 0.4842 - val_accuracy: 0.8660\n",
            "Epoch 26/40\n",
            "30/30 [==============================] - 4s 120ms/step - loss: 0.0151 - accuracy: 0.9999 - val_loss: 0.4858 - val_accuracy: 0.8659\n",
            "Epoch 27/40\n",
            "30/30 [==============================] - 6s 202ms/step - loss: 0.0142 - accuracy: 1.0000 - val_loss: 0.4827 - val_accuracy: 0.8662\n",
            "Epoch 28/40\n",
            "30/30 [==============================] - 3s 99ms/step - loss: 0.0140 - accuracy: 1.0000 - val_loss: 0.4891 - val_accuracy: 0.8663\n",
            "Epoch 29/40\n",
            "30/30 [==============================] - 3s 119ms/step - loss: 0.0137 - accuracy: 0.9999 - val_loss: 0.4933 - val_accuracy: 0.8663\n",
            "Epoch 30/40\n",
            "30/30 [==============================] - 5s 154ms/step - loss: 0.0130 - accuracy: 1.0000 - val_loss: 0.4916 - val_accuracy: 0.8659\n",
            "Epoch 31/40\n",
            "30/30 [==============================] - 4s 152ms/step - loss: 0.0129 - accuracy: 1.0000 - val_loss: 0.4966 - val_accuracy: 0.8659\n",
            "Epoch 32/40\n",
            "30/30 [==============================] - 3s 98ms/step - loss: 0.0127 - accuracy: 0.9999 - val_loss: 0.4992 - val_accuracy: 0.8662\n",
            "Epoch 33/40\n",
            "30/30 [==============================] - 4s 134ms/step - loss: 0.0123 - accuracy: 1.0000 - val_loss: 0.5019 - val_accuracy: 0.8665\n",
            "Epoch 34/40\n",
            "30/30 [==============================] - 5s 159ms/step - loss: 0.0118 - accuracy: 0.9999 - val_loss: 0.4984 - val_accuracy: 0.8655\n",
            "Epoch 35/40\n",
            "30/30 [==============================] - 4s 140ms/step - loss: 0.0117 - accuracy: 1.0000 - val_loss: 0.5062 - val_accuracy: 0.8668\n",
            "Epoch 36/40\n",
            "30/30 [==============================] - 4s 143ms/step - loss: 0.0113 - accuracy: 1.0000 - val_loss: 0.5103 - val_accuracy: 0.8656\n",
            "Epoch 37/40\n",
            "30/30 [==============================] - 5s 167ms/step - loss: 0.0113 - accuracy: 1.0000 - val_loss: 0.5088 - val_accuracy: 0.8665\n",
            "Epoch 38/40\n",
            "30/30 [==============================] - 5s 163ms/step - loss: 0.0110 - accuracy: 1.0000 - val_loss: 0.5130 - val_accuracy: 0.8661\n",
            "Epoch 39/40\n",
            "30/30 [==============================] - 5s 159ms/step - loss: 0.0107 - accuracy: 1.0000 - val_loss: 0.5160 - val_accuracy: 0.8653\n",
            "Epoch 40/40\n",
            "30/30 [==============================] - 4s 138ms/step - loss: 0.0104 - accuracy: 1.0000 - val_loss: 0.5170 - val_accuracy: 0.8663\n"
          ]
        }
      ],
      "source": [
        "# DropNNii model\n",
        "DropNNii_history = DropNNii.fit(partial_x_train,\n",
        "                    partial_y_train,\n",
        "                    epochs=40,\n",
        "                    batch_size=512,\n",
        "                    validation_data=(x_val, y_val),\n",
        "                    verbose=1)"
      ]
    },
    {
      "cell_type": "markdown",
      "metadata": {
        "id": "bynExWfEr4xM"
      },
      "source": [
        "#### Evaluate the DropNNii model"
      ]
    },
    {
      "cell_type": "code",
      "execution_count": null,
      "metadata": {
        "colab": {
          "base_uri": "https://localhost:8080/"
        },
        "id": "rnKuj33pr4xM",
        "outputId": "377e10c6-6253-42af-e000-44e572e630fb"
      },
      "outputs": [
        {
          "name": "stdout",
          "output_type": "stream",
          "text": [
            "782/782 [==============================] - 4s 5ms/step - loss: 0.5820 - accuracy: 0.8461\n",
            "[0.5819534659385681, 0.8460800051689148]\n"
          ]
        }
      ],
      "source": [
        "DropNNii_results = DropNNii.evaluate(test_examples, test_labels)\n",
        "\n",
        "print(DropNNii_results)"
      ]
    },
    {
      "cell_type": "markdown",
      "metadata": {
        "id": "vq2A7RLjr4xM"
      },
      "source": [
        "#### Graph of accuracy and loss over time"
      ]
    },
    {
      "cell_type": "markdown",
      "metadata": {
        "id": "RjGdcRe6r4xM"
      },
      "source": [
        "model.fit() returns a `History` object that contains a dictionary with everything that happened during training:"
      ]
    },
    {
      "cell_type": "code",
      "execution_count": null,
      "metadata": {
        "id": "-_Xbwh5Lr4xM"
      },
      "outputs": [],
      "source": [
        "DropNNii_history_dict = DropNNii_history.history"
      ]
    },
    {
      "cell_type": "markdown",
      "metadata": {
        "id": "4gRlMH5Nr4xN"
      },
      "source": [
        "There are four entries: one for each monitored metric during training and validation. We can use these to plot the training and validation loss for comparison, as well as the training and validation accuracy:"
      ]
    },
    {
      "cell_type": "code",
      "execution_count": null,
      "metadata": {
        "colab": {
          "base_uri": "https://localhost:8080/",
          "height": 487
        },
        "id": "_gaezpPRr4xN",
        "outputId": "8d2d4afa-3777-4c66-cbab-095b9e236047"
      },
      "outputs": [
        {
          "data": {
            "image/png": "[encoded data removed]",
            "text/plain": [
              "<Figure size 1000x500 with 2 Axes>"
            ]
          },
          "metadata": {},
          "output_type": "display_data"
        }
      ],
      "source": [
        "# DropNNii Model\n",
        "DropNNii_acc = DropNNii_history_dict['accuracy']\n",
        "DropNNii_val_acc = DropNNii_history_dict['val_accuracy']\n",
        "DropNNii_loss = DropNNii_history_dict['loss']\n",
        "DropNNii_val_loss = DropNNii_history_dict['val_loss']\n",
        "\n",
        "epochs = range(1, len(DropNNii_acc) + 1)\n",
        "\n",
        "fig, ((ax21, ax22)) = plt.subplots(nrows = 1,\n",
        "                                 ncols = 2,\n",
        "                                 figsize = (10,5))\n",
        "\n",
        "# plot for Origin Model\n",
        "# \"bo\" is for \"blue dot\"\n",
        "ax21.plot(epochs, DropNNii_loss, 'bo', label='Training loss')\n",
        "# b is for \"solid blue line\"\n",
        "ax21.plot(epochs, DropNNii_val_loss, 'b', label='Validation loss')\n",
        "ax21.title.set_text('Training and validation loss of DropNNii Model')\n",
        "ax21.set_xlabel('Epochs')\n",
        "ax21.set_ylabel('Loss')\n",
        "ax21.set_ylim(0.00, 1.00)\n",
        "ax21.legend()\n",
        "\n",
        "# Plot for DenseNNi Model\n",
        "ax22.plot(epochs, DropNNi_loss, 'bo', label='Training loss')\n",
        "ax22.plot(epochs, DropNNi_val_loss, 'b', label='Validation loss')\n",
        "ax22.title.set_text('Training and validation loss of DropNNi Moddel')\n",
        "ax22.set_xlabel('Epochs')\n",
        "ax22.set_ylabel('Loss')\n",
        "ax22.set_ylim(0.00, 1.00)\n",
        "ax22.legend()\n",
        "\n",
        "plt.show()"
      ]
    },
    {
      "cell_type": "code",
      "execution_count": null,
      "metadata": {
        "colab": {
          "base_uri": "https://localhost:8080/",
          "height": 487
        },
        "id": "vCO49VSvr4xN",
        "outputId": "cc682667-215a-4395-d741-80a8f54e876a"
      },
      "outputs": [
        {
          "data": {
            "image/png": "[encoded data removed]",
            "text/plain": [
              "<Figure size 1000x500 with 2 Axes>"
            ]
          },
          "metadata": {},
          "output_type": "display_data"
        }
      ],
      "source": [
        "fig, ((ax21, ax22)) = plt.subplots(nrows = 1,\n",
        "                                 ncols = 2,\n",
        "                                 figsize = (10,5))\n",
        "\n",
        "ax21.plot(epochs, DropNNii_acc, 'bo', label='Training acc')\n",
        "ax21.plot(epochs, DropNNii_val_acc, 'b', label='Validation acc')\n",
        "ax21.set_title('Training and validation accuracy of DropNNii Model')\n",
        "ax21.set_xlabel('Epochs')\n",
        "ax21.set_ylabel('Accuracy')\n",
        "ax21.set_ylim(0.60, 1.00)\n",
        "ax21.legend()\n",
        "\n",
        "ax22.plot(epochs, DropNNi_acc, 'bo', label='Training acc')\n",
        "ax22.plot(epochs, DropNNi_val_acc, 'b', label='Validation acc')\n",
        "ax22.set_title('DropNNi Model')\n",
        "ax22.set_xlabel('Epochs')\n",
        "ax22.set_ylabel('Accuracy')\n",
        "ax22.set_ylim(0.60, 1.00)\n",
        "ax22.legend()\n",
        "\n",
        "plt.show()"
      ]
    },
    {
      "cell_type": "markdown",
      "metadata": {
        "id": "GRYwPI79r4xN"
      },
      "source": [
        "#### Comment\n",
        "\n",
        "- Increasing the dropout rate make **DropNNii model** becomes less likely to rely on specific features or patterns in the training data which can help prevent overfitting. The evidence is that the model get trainning accuracy at 87% and this value increase overtime. The loss and val_loss are around 1 at first epoch and reach the best value at 0.45 at epoch 13.\n",
        "\n",
        "- In comparison with **DropNNi model** , the **DropNNii** performance is likely to be slightly worse than **DropNNi model** in regard of loss and val_loss. Therefore, **dropout rate** at 0.2 seems to work more productive.\n",
        "\n",
        "- About the accuracy, there is no clear difference between two models except for that while **DropNNii model** starts at 87% accuracy for trainning set, **DropNNi model** begins with 96%. The val_acc are the same.\n",
        ""
      ]
    },
    {
      "cell_type": "markdown",
      "metadata": {
        "id": "k1zUpGjsQ7dg"
      },
      "source": [
        "### 4. Best Model & Sentiment Prediction\n",
        "<a class=\"anchor\" id=\"chapter_5\"></a>\n",
        "\n",
        "After evaluating seven different model architectures, the second model — referred to as the **Scratch Model** — was selected as the best-performing one based on its overall accuracy and consistency."
      ]
    },
    {
      "cell_type": "markdown",
      "source": [
        "#### 4.1 Clone the Scratch Model\n",
        "<a class=\"anchor\" id=\"chapter_5_1\"></a>"
      ],
      "metadata": {
        "id": "DtNjB2fvfyVV"
      }
    },
    {
      "cell_type": "code",
      "execution_count": null,
      "metadata": {
        "id": "-N4iZTZnQ2bj"
      },
      "outputs": [],
      "source": [
        "NNBest = tf.keras.models.clone_model(SratchNN)\n",
        "NNBest.set_weights(SratchNN.get_weights())"
      ]
    },
    {
      "cell_type": "code",
      "execution_count": null,
      "metadata": {
        "colab": {
          "base_uri": "https://localhost:8080/"
        },
        "id": "nihIbNCmTyO8",
        "outputId": "b5607651-b8c0-4561-f359-f1967fa5e9b7"
      },
      "outputs": [
        {
          "name": "stdout",
          "output_type": "stream",
          "text": [
            "Model: \"sequential_1\"\n",
            "_________________________________________________________________\n",
            " Layer (type)                Output Shape              Param #   \n",
            "=================================================================\n",
            " text_vectorization (TextVec  (None, 250)              0         \n",
            " torization)                                                     \n",
            "                                                                 \n",
            " embedding (Embedding)       (None, 250, 50)           5000000   \n",
            "                                                                 \n",
            " global_average_pooling1d (G  (None, 50)               0         \n",
            " lobalAveragePooling1D)                                          \n",
            "                                                                 \n",
            " dense_2 (Dense)             (None, 16)                816       \n",
            "                                                                 \n",
            " dense_3 (Dense)             (None, 1)                 17        \n",
            "                                                                 \n",
            "=================================================================\n",
            "Total params: 5,000,833\n",
            "Trainable params: 5,000,833\n",
            "Non-trainable params: 0\n",
            "_________________________________________________________________\n"
          ]
        }
      ],
      "source": [
        "NNBest.summary()"
      ]
    },
    {
      "cell_type": "code",
      "execution_count": null,
      "metadata": {
        "id": "cGOV_FktT1fX"
      },
      "outputs": [],
      "source": [
        "NNBest.compile(optimizer='adam',\n",
        "                 loss=tf.losses.BinaryCrossentropy(from_logits=True),\n",
        "                 metrics=[tf.metrics.BinaryAccuracy(threshold=0.0, name='accuracy')])"
      ]
    },
    {
      "cell_type": "markdown",
      "metadata": {
        "id": "T6EKOkPzVT94"
      },
      "source": [
        "#### 4.2 Predict the test set\n",
        "<a class=\"anchor\" id=\"chapter_5_2\"></a>"
      ]
    },
    {
      "cell_type": "code",
      "execution_count": null,
      "metadata": {
        "colab": {
          "base_uri": "https://localhost:8080/"
        },
        "id": "c4gtw2s5VZHQ",
        "outputId": "46cefff6-dbc9-46cd-fad6-88a0b279d0e0"
      },
      "outputs": [
        {
          "name": "stdout",
          "output_type": "stream",
          "text": [
            "782/782 [==============================] - 3s 4ms/step\n"
          ]
        }
      ],
      "source": [
        "# Generate predictions for the reviews\n",
        "prediction = NNBest.predict(test_examples)"
      ]
    },
    {
      "cell_type": "code",
      "execution_count": null,
      "metadata": {
        "id": "TQeUF_TiVrcA"
      },
      "outputs": [],
      "source": [
        "# Sort the reviews based on the predicted sentiment scores\n",
        "sorted_reviews = sorted(zip(test_examples, prediction), key=lambda x: x[1], reverse=True)"
      ]
    },
    {
      "cell_type": "markdown",
      "metadata": {
        "id": "lyvWg4Hld2hm"
      },
      "source": [
        "#### 4.3 Top 5 most positive reviews\n",
        "<a class=\"anchor\" id=\"chapter_5_3\"></a>"
      ]
    },
    {
      "cell_type": "code",
      "execution_count": null,
      "metadata": {
        "colab": {
          "base_uri": "https://localhost:8080/"
        },
        "id": "aNOODruBd1eq",
        "outputId": "0f0b8726-3d19-41c2-d573-630d3e967042"
      },
      "outputs": [
        {
          "name": "stdout",
          "output_type": "stream",
          "text": [
            "Top 1 Positive Review:\n",
            "b\"This is one of Bruce's most underrated films in my opinion, its an awesome heartwarming film, with a neat story and an amazing performance from Bruce Willis!. All the characters are great, and I thought Willis and Spencer Breslin were just awesome together, plus Bruce Willis is simply amazing in this!. This is definitely one of Bruce's best comedic performances (The waaaaaaaaaamabulance thing was great) and I thought it was very well written and made as well, plus The finale is especially cool!. It's good natured and it was cool how you can see Russell's (Willis) character change throughout the film! plus the ending was pretty good. I think this should be higher then 6.0 and it's one of the best Disney films I have ever seen! plus it has many surprising moments throughout. All the characters are extremely likable, and it also has a cute love story angle too it as well, plus Bruce and Spencer Breslin both had some really funny lines (Holy Smokes!). This is one of Bruce's most underrated films in my opinion, its an awesome heartwarming film, with a neat story and an an amazing performance from Bruce Willis and I say its a must see!. The Direction is great!. Jon Turteltaub does a great job here with really good camera work, and just keeping the film at a very fast pace. The Acting is excellent!. Bruce Willis is amazing as always and is amazing here, he gives one of his best comedic performances, is hilarious had wonderful chemistry with both Spencer Breslin and Emily Mortimer, had some funny lines, and was dead on throughout the movie, he was one of the main reasons I liked this movie so much! (Willis Rules!!!!!!!). Spencer Breslin is fantastic as the younger version of Russell, he was very funny and didn't get on my nerves once, he is one of the better child actors out there!. Emily Mortimer is good as Amy and was really cute I liked her she had decent chemistry with Bruce too. Lily Tomlin is funny as Janet I liked her quite a bit. Jean Smart is good with what she had to do, which was not much. Rest of the cast do fine. Overall a must see!. **** out pf 5\"\n",
            "Sentiment Score: [17.677164]\n",
            "\n",
            "Top 2 Positive Review:\n",
            "b'This wonderful movie captures so many elements of what makes a family comedy funny, entertaining, sweet and memorable, it\\'s difficult to decide where to start.<br /><br />From the opening number, \"Rainbow Connection,\" Paul Williams\\'s excellent score sung with gusto by Kermit D. Frog, which gives us a prologue of what the whole adventure is about, throughout the story, this is one fun movie.<br /><br />Essentially, it\\'s a road trip movie, where Kermit travels cross-country with a dream of pursuing a \"rich and famous contract\" to entertain. Along the way, our green hero meets a series of other aspiring actors, comedians, singers, and musicians, who coincidentally, are muppets like Kermit himself. Is this how the Muppets really started? \"Approximately how it happened,\" Kermit tells us.<br /><br />Not since \"It\\'s a Mad, Mad, Mad, Mad World\" has the cameo formula been used so prolifically and successfully. The aspiring stars encounter many recognizable faces during their Odyssey; some just blink across the screen, but others have very memorable cameos. Steve Martin\\'s amusing bit as a rude waiter is probably the best. Puppeteer Jim Henson\\'s nod to his inspiration, Edgar Bergen, is especially touching.<br /><br />Anyone who ever watched the Muppets TV show will get to see all of their favorite characters, they\\'re all here. The puppetry work is magnificent; look especially for Kermit riding a bicycle (how dey do dat???) In-jokes and references to old movies are everywhere, but the best one-liners are reserved for Kermit himself. An example: when the crooks are terrorizing Kermit and Piggy, she affectionately says to her short, green, and handsome beau, \"I wouldn\\'t give up this evening together for anything, would you?\" \"Uhhh, make me an offer....\" I also love the gunfight at the OK Corral scene: brilliantly absurd silliness.<br /><br />Gotta get \"Movin\\' right along\" now, but to summarize: a good natured movie that can be enjoyed by anyone, regardless of age or movie genre taste. Highly recommended.'\n",
            "Sentiment Score: [14.733066]\n",
            "\n",
            "Top 3 Positive Review:\n",
            "b\"This is a great German slasher, that's often quite suspenseful, and creative, with a fun story and solid performances. All the characters are cool, and Benno F\\xc3\\xbcrmann is great as the psycho killer, plus Franka Potente gives a fantastic performance as the main lead. It did take a little while to get going, but it was never boring, and it had some good death scenes as well, plus the music is wonderfully creepy. I was lucky enough to get the subtitled version, instead of the dubbed, and I thought all the characters were quite likable, plus it's very well made and written as well. It has some really good plot twists too, and the effects are extremely well done, plus the ending is great. The finale is especially suspenseful, and Franka Potente was the perfect casting choice in my opinion, plus I wish Arndt Schwering-Sohnrey(David) didn't get killed of so soon, because he was a really cool character. There were actually a couple of moments where I felt uncomfortable but in a good way, and I must say this film deserved all it's praise, plus while it does have plot holes, it's not enough to hamper the film. This is a great German slasher, that's often quite suspenseful, and creative, with a fun story, and solid performances, I highly recommend this one!. The Direction is great!. Stefan Ruzowitzky does a great! Job here with excellent camera work, very good angles, great close ups (see the opening sex scene), doing a great job of adding creepy atmosphere, and just keeping the film at a very fast pace.<br /><br />There is quite a bit of blood and gore. We get cadavers cut open,plenty of very gory surgery scenes,lots of bloody stabbings,people are dissected while still being conscious, severed finger, self mutilation, gutting's, bloody slit throat, lots of wicked looking frozen corpses, plenty of blood and more.<br /><br />The Acting is very solid!. Franka Potente is fantastic as the main lead, she was very likable, remained cool under pressure, was vulnerable, easy on the eyes, and we are able to care for her character, the only time she seemed to suffer, was when she had to spurt out some bad dialog here and there, but that wasn't very often, she was wonderful!. Benno F\\xc3\\xbcrmann is excellent as the psycho killer, he was simply chilling, and wonderfully OTT, he really gave me the creeps, and was one effective killer!. Anna Loos played her role very well, as the smart slut, I dug her. Sebastian Blomberg was great here as Caspar, he was quite likable, and had a mysterious character,his chemistry with Potente was also on, and there was a great twists involving him at the end. Holger Speckhahn was good as the Idiot Phil and did his job well. Traugott Buhre is good as Prof. Grombek. Arndt Schwering-Sohnrey was great as David, he had a really cool character, and I wish he didn't get killed of so soon. Rest of the cast do fine.<br /><br />Overall I highly recommend this great German slasher!. ***1/2 out of 5\"\n",
            "Sentiment Score: [14.462514]\n",
            "\n",
            "Top 4 Positive Review:\n",
            "b\"I am 17, and a biased Muppet fan, and while I love Treasure Island, Christmas Carol and Great Muppet Caper, The Muppet Movie absolutely deserves to be up there with the best of them. It is enormously entertaining, thanks to the snappy script by Jerry Juhl, and the film looks lovely, with some beautifully staged musical numbers. Speaking of the songs, I really liked them, sure they aren't the best song score out of the Muppet franchise, but they were very nice to listen to, especially Never Before. Never Before is now one of my favourite Muppet songs along with First Time It Happens and Professional Pirate. The Muppets as usual were fantastic, particularly the always delightful Miss Piggy, and the chemistry between Kermit and Fozzie was great. And what a brilliant human cast- from Bob Hope to Orson Welles, from Madeleine Kahn(the same wonderful actress who brought us hilarious movies like What's Up Doc?, Blazing Saddles and Clue) to Cloris Leachman, from Steve Martin to Richard Pryor, all of whom made memorable guest appearances, if careful not to overshadow the Muppets in a fantastic film. 10/10 Bethany Cox\"\n",
            "Sentiment Score: [14.023463]\n",
            "\n",
            "Top 5 Positive Review:\n",
            "b\"This is a solid underrated little thriller, that has thrills-a plenty, with a cool story, Sandra Bullock is terrific!. All the characters are great, and I was surprised by how unpredictable it was as there were only a few predictable moments, plus Sandra Bullock is simply amazing in this!. Jeremy Northam played an awesome villain, and I know what Bullock's character in this is all about, because I'm kind of the same type of person(I hardly ever go out), plus this is pretty well made and written for the most part. This should be higher then 5.5 in my opinion, plus Denis Miller was surprisingly better then expected in his small role. The scene where Northam terrorizes Bullock on his boat was quite suspenseful, and was one of my favorite moments, and I also liked the chase scene in the carnival, plus I liked the ending too, as it was quite well done, even If i did think Northam was defeated too quickly. There are lots of other good chase scenes as well, and it's also clever at times too, plus there are quite a few shocking moments as well, This is a solid underrated little thriller, that has thrills a-plenty, with a cool story, Sandra Bullock is terrific, I highly recommend this one!. The Direction is great!. Irwin Winkler does a great! job here with excellent camera work, adding good atmosphere, good angles and keeping the film at a very fast pace. The Acting is fantastic!. Sandra Bullock is amazing as always and is amazing here, she is extremely likable, tough as nails yet quite vulnerable, and I was able to feel for her because as I said I'm sort of like Angela,I hardly ever go out, I really enjoyed her work in this movie! (Bullock Rules!!!!!!!). Jeremy Northam is excellent as the villain, he was sneaky, unpredictable and very menacing, he was great. Dennis Miller is surprisingly OK and non annoying in his small role, and managed to bring some comic relief. Rest of the cast are fine. Overall I highly recommend this one!. ***1/2 out of 5\"\n",
            "Sentiment Score: [13.971688]\n",
            "\n"
          ]
        }
      ],
      "source": [
        "for i in range(5) :\n",
        "  # Select the most positive and negative reviews\n",
        "  most_positive_review = sorted_reviews[i]\n",
        "\n",
        "  # Print and analyze the selected reviews\n",
        "  print(f\"Top {i+1} Positive Review:\")\n",
        "  print(most_positive_review[0])\n",
        "  print(\"Sentiment Score:\", most_positive_review[1])\n",
        "  print()"
      ]
    },
    {
      "cell_type": "markdown",
      "metadata": {
        "id": "Vc8LaV_Qe1U4"
      },
      "source": [
        "#### 4.4 Top 5 negative reviews\n",
        "<a class=\"anchor\" id=\"chapter_5_4\"></a>"
      ]
    },
    {
      "cell_type": "code",
      "execution_count": null,
      "metadata": {
        "colab": {
          "base_uri": "https://localhost:8080/"
        },
        "id": "k-U377Bue32R",
        "outputId": "2245cd86-cc5a-4e7e-cbfb-18bfd931f81a"
      },
      "outputs": [
        {
          "name": "stdout",
          "output_type": "stream",
          "text": [
            "Top 1 Negative Review:\n",
            "b'Hollywood has churned out yet another garbage that\\'s wildly overhyped and underwhelming on a first-time viewing basis. Hannibal is bad, terrible, inept, lame, droll, idiotic, contrived, laughable and utterly atrocious (no pun intended). Minor spoilers follow...<br /><br />This movie has huge logic holes - more than any Bruckheimer/Bay movie - or for that matter - any movie that exemplify the indulgence of Hollywood exaggeration. It\\'s a slick Hollywood production designed to cash in on Hannibal Lector mania, directed by \"so-somber-he-takes-this-way-too-seriously\" hack director Ridley Scott and produced by a hack Italian producer with an inflated ego whose credo is \"doesn\\'t matter whether film is s**t, money is good\".<br /><br />I can\\'t get over the fact that acclaimed screenwriters David Mamet and Steven Zaillian wrote this tripe adapted from a lame and pretentious book by a good-novelist-turned-hack-author Thomas Harris. David and Steven - well-known and immensely talented screenwriters - wasted their effort on a poor screenplay in exchange for fat paychecks. Another factor in the disappointment of this film.<br /><br />There are too many ludicrous scenes to list that are laughable in clunky execution and poor logic e.g. Starling/Pazzi cell-phone in the midst of Lecter pursuit that turns up Inspector Pazzi as the victim. Not to mention laughably bad dialogues delivered by Tony Hopkins with a smirk and Julianne Moore, Ray Liotta and others who cannot act with the straight face. Hopkins gives the true meaning of \"scenery-chewing\" along with hammy acting by Gary Oldman as a deformed psychopath bent on exacting revenge against Lecter.<br /><br />The gore effect is good, but only serves to repulse rather than provide suspense which is notably absent from Hannibal. The predecessor - Silence of the Lambs - is more believable with tension and suspense. Suspense is what made Silence of the Lamb work as a spectacular mix of psychological horror and thriller, not to mention superbly written and tensely directed. The \"brain dinner\" sequence is so laughably fake it borders on self-parody.<br /><br />The ending is kinda blatant and idiotic - are we supposed to believe that Lecter is still a menace to society with the last shot establishing his glittering eye glaring at you? Ooh, scary... <br /><br />'\n",
            "Sentiment Score: [-16.826437]\n",
            "\n",
            "Top 2 Negative Review:\n",
            "b\"This is just the same old crap that is spewed from amateur idiots who have no clue how to make a movie--gee maybe that's why it is a straight-to-video wanna-be movie!<br /><br />I guess it is my fault for actually spending money to see it (one of the worst decisions I have ever made). What a waste. I usually like B movies, some of them are actually quite good--but this is just too ridiculous and stupid to even be funny.<br /><br />The losers that made this junk deserve to be put out of business for wasting everyone's time and money making a movie that obviously doesn't even deserve to be on film! These so-called movie makers have absolutely NO talent!<br /><br />Stupid plot, horrible acting (especially the drag queens--what sicko would actually find that sexy?!), lame writing (if there even was a script--seems like the kinda bull**** someone just made up on the spot)<br /><br />What is stunning about this movie is its utter lack of anything well-done at all.<br /><br />How much attention to detail would it take to insure that every frame of a film would be so far below any reasonable standards? I don't think it would be possible to make such a bad movie intentionally, and it is inconceivable that sheer bad luck could produce such consistently awful results.<br /><br />Anyway, avoid this stink bomb at all costs!!!!!!!!!!!!!!!!\"\n",
            "Sentiment Score: [-16.771723]\n",
            "\n",
            "Top 3 Negative Review:\n",
            "b'As you can tell from the other comments, this movie is just about the WORST film ever made. Let me see how many different words I can use to describe it: Boring, Unbearable, Laughable, Lousy, Stupid, Horrible.....<br /><br />I could go on with such descriptions but you probably get the point.<br /><br />I would have given this a 0, if possible--bad acting, bad directing, bad production, bad plot.<br /><br />This was made in 2001 and it looks more like 1965. Very low budget, boring plot, horrible acting, really bad special effects, etc...<br /><br />I rarely ever see a Sci-Fi film I absolutely think is this bad. I mean this is pure garbage. It has nothing going for it either. As far as a \"B-movie\" this is the very bottom of the lot.<br /><br />I think I would be more entertained by staring at a blank piece of paper for 90 minutes. Junk like this gives good low-budget \"B\" movies a bad name. This makes Ed Wood movies look good.<br /><br />The thing about watching direct-to-video movies is, just when you think you\\'ve seen the worst, you see something even worse!<br /><br />DJ Perry is a horrible actor and has no individual characteristics that make him stand out.<br /><br />Avoid this waste at all costs! Oh the humanity!'\n",
            "Sentiment Score: [-16.768122]\n",
            "\n",
            "Top 4 Negative Review:\n",
            "b'One night on an independent channel famous for showing off-the-wall films was aired this monstrosity. Though tempted to turn it off, we watched it to the bitter end, hoping to see some semblance of redeeming value. Alas, there was none. Absolutely nothing. The film quality was cheap; the soundtrack was muddy; the editing was ridiculous. Then again, there was precious little to salvage. After a few minutes of Cameron Mitchell\\'s doctor character narrating about some patient of his, the viewer is tortured by no plot, pathetic writing, abysmally terrible acting, and an utter lack of cohesion and continuity. The rotting cherry on top of this fetid mess was the most horrendous \"special effects\" and \"makeup\" to ever disgrace the screen, even for television. The main character stumbles through his role in a dimestore rubber mask and a pair of dishwashing gloves which appear to have been dipped in glue and rolled in beads. Perhaps the poor lighting and gag-worthy film quality were attempting to cover up how bad-to-the-tenth-power the makeup was. One can only hope that at least one deliberate decision was made in the course of this hopelessly amateurish video. Seriously, a handful of three-year-old kids could\\'ve produced a better project. At the end, poor Mr. Mitchell returns (how desperate he must\\'ve been for money!) and drones out some nonsense that\\'s supposed to connect this pile of crap with the AIDS epidemic. Please spare you and your loved ones the inhuman cruelty of sitting through this. It was so bad, even Mystery Science Theater 3000 couldn\\'t have salvaged it.'\n",
            "Sentiment Score: [-16.651205]\n",
            "\n",
            "Top 5 Negative Review:\n",
            "b\"I knew it was going to be awful but not this awful!!, as it's one of the most boring movies i have ever seen, not a damn thing happens!. All the characters are dull, and the story is stupid and incredibly boring!,plus The ending is especially lame!. The only reason i rented this piece of crap because i am a big fan of Michael Dudikoff, however he is wasted here, and looks extremely bored and shows no emotion what so ever!, plus i cheered out loud when the movie was over!. It's like the movie had no plot and it was all about nothing, and Ice-T is god awful(even though he is OK in some stuff), plus Dudikoff and Yvette Nipar had no chemistry together at all. There's one scene that the director tried to make emotional but he fails miserably as Yvette Nipar didn't really show all that much emotion, however there is a decent Car chase scene, but that's not enough for me to recommend this god awful film!, plus the dialog is atrocious. Avoid this movie like the plague not a damn thing happens, please avoid and trust me on this one you may thank me afterwords. The Direction is horrible!. Fred Olen Ray does a horrible job here, with shoddy camera work, laughably cheap looking set pieces, terrible angles, laughable use of stock footage, and keeping the film at an incredibly dull pace. The Acting is terrible!. Michael Dudikoff is nowhere near his usual amazing self, he looks extremely bored, and shows no emotion what so ever, his character is also extremely dull, as i can't believe he signed on for this piece of garbage, he also had no chemistry with Yvette Nipar(Dudikoff still rules!!!). Ice-T has barely anything to do and also looks bored, and he didn't convince me one bit. Hannes Jaenicke is not very good here, he had somewhat of a wimpy character, i didn't like him. Yvette Nipar is pretty but was really terrible here, she didn't show much emotion, and had no chemistry with Dudikoff, and as a result i didn't give a damn about her character!. Art Hindle,(Owen Marsh),Kathy Harren(Katharine Marsh), and the rest of the cast are bad as well. Overall Please avoid like the plague!, Fred Olen Ray and Steve Lathshaw should be ashamed of themselves!. BOMB out of 5\"\n",
            "Sentiment Score: [-16.23405]\n",
            "\n"
          ]
        }
      ],
      "source": [
        "for i in range(5) :\n",
        "  # Select the most positive and negative reviews\n",
        "  most_negative_review = sorted_reviews[-(i+1)]\n",
        "\n",
        "  # Print and analyze the selected reviews\n",
        "  print(f\"Top {(i+1)} Negative Review:\")\n",
        "  print(most_negative_review[0])\n",
        "  print(\"Sentiment Score:\", most_negative_review[1])\n",
        "  print()"
      ]
    },
    {
      "cell_type": "markdown",
      "metadata": {
        "id": "9nhrvB8uhMyz"
      },
      "source": [
        "The model performed well by accurately predicting the sentiment of all the sample reviews, correctly identifying both positive and negative cases."
      ]
    },
    {
      "cell_type": "markdown",
      "metadata": {
        "id": "iN9IUBSPhqPO"
      },
      "source": [
        "#### 4.5 The best model with Dropout layer\n",
        "<a class=\"anchor\" id=\"chapter_5_5\"></a>"
      ]
    },
    {
      "cell_type": "code",
      "execution_count": null,
      "metadata": {
        "colab": {
          "base_uri": "https://localhost:8080/"
        },
        "id": "bb_yVB2ihoK_",
        "outputId": "4ee73c7f-e5a8-4ad9-afb3-49cd5d8a0b4a"
      },
      "outputs": [
        {
          "name": "stdout",
          "output_type": "stream",
          "text": [
            "Model: \"sequential_8\"\n",
            "_________________________________________________________________\n",
            " Layer (type)                Output Shape              Param #   \n",
            "=================================================================\n",
            " text_vectorization (TextVec  (None, 250)              0         \n",
            " torization)                                                     \n",
            "                                                                 \n",
            " embedding_2 (Embedding)     (None, 250, 50)           5000000   \n",
            "                                                                 \n",
            " global_average_pooling1d_2   (None, 50)               0         \n",
            " (GlobalAveragePooling1D)                                        \n",
            "                                                                 \n",
            " dropout_4 (Dropout)         (None, 50)                0         \n",
            "                                                                 \n",
            " dense_17 (Dense)            (None, 16)                816       \n",
            "                                                                 \n",
            " dropout_5 (Dropout)         (None, 16)                0         \n",
            "                                                                 \n",
            " dense_18 (Dense)            (None, 1)                 17        \n",
            "                                                                 \n",
            "=================================================================\n",
            "Total params: 5,000,833\n",
            "Trainable params: 5,000,833\n",
            "Non-trainable params: 0\n",
            "_________________________________________________________________\n"
          ]
        }
      ],
      "source": [
        "NNBestDrop = tf.keras.Sequential([\n",
        "  vectorize_layer,\n",
        "  layers.Embedding(max_features, embedding_dim),\n",
        "  layers.GlobalAveragePooling1D(),\n",
        "  layers.Dropout(0.2),\n",
        "  layers.Dense(16, activation='relu'),\n",
        "  layers.Dropout(0.2),\n",
        "  layers.Dense(1)])\n",
        "\n",
        "NNBestDrop.summary()"
      ]
    },
    {
      "cell_type": "code",
      "execution_count": null,
      "metadata": {
        "id": "GVebfkuMiqxT"
      },
      "outputs": [],
      "source": [
        "NNBestDrop.compile(optimizer='adam',\n",
        "                 loss=tf.losses.BinaryCrossentropy(from_logits=True),\n",
        "                 metrics=[tf.metrics.BinaryAccuracy(threshold=0.0, name='accuracy')])"
      ]
    },
    {
      "cell_type": "code",
      "execution_count": null,
      "metadata": {
        "colab": {
          "base_uri": "https://localhost:8080/"
        },
        "id": "GmhNTYU7lB_g",
        "outputId": "f803d5de-0792-4f48-82cd-0a5bf0fc4e17",
        "collapsed": true
      },
      "outputs": [
        {
          "name": "stdout",
          "output_type": "stream",
          "text": [
            "Epoch 1/40\n",
            "30/30 [==============================] - 8s 240ms/step - loss: 0.6913 - accuracy: 0.5900 - val_loss: 0.6881 - val_accuracy: 0.7026\n",
            "Epoch 2/40\n",
            "30/30 [==============================] - 6s 189ms/step - loss: 0.6817 - accuracy: 0.6975 - val_loss: 0.6730 - val_accuracy: 0.7503\n",
            "Epoch 3/40\n",
            "30/30 [==============================] - 6s 213ms/step - loss: 0.6587 - accuracy: 0.7507 - val_loss: 0.6422 - val_accuracy: 0.7774\n",
            "Epoch 4/40\n",
            "30/30 [==============================] - 6s 192ms/step - loss: 0.6169 - accuracy: 0.7864 - val_loss: 0.5937 - val_accuracy: 0.8031\n",
            "Epoch 5/40\n",
            "30/30 [==============================] - 7s 232ms/step - loss: 0.5571 - accuracy: 0.8133 - val_loss: 0.5357 - val_accuracy: 0.8223\n",
            "Epoch 6/40\n",
            "30/30 [==============================] - 5s 171ms/step - loss: 0.4913 - accuracy: 0.8365 - val_loss: 0.4770 - val_accuracy: 0.8378\n",
            "Epoch 7/40\n",
            "30/30 [==============================] - 5s 169ms/step - loss: 0.4273 - accuracy: 0.8611 - val_loss: 0.4281 - val_accuracy: 0.8505\n",
            "Epoch 8/40\n",
            "30/30 [==============================] - 6s 203ms/step - loss: 0.3732 - accuracy: 0.8763 - val_loss: 0.3899 - val_accuracy: 0.8590\n",
            "Epoch 9/40\n",
            "30/30 [==============================] - 5s 167ms/step - loss: 0.3271 - accuracy: 0.8945 - val_loss: 0.3620 - val_accuracy: 0.8643\n",
            "Epoch 10/40\n",
            "30/30 [==============================] - 6s 199ms/step - loss: 0.2923 - accuracy: 0.9060 - val_loss: 0.3407 - val_accuracy: 0.8705\n",
            "Epoch 11/40\n",
            "30/30 [==============================] - 4s 147ms/step - loss: 0.2590 - accuracy: 0.9211 - val_loss: 0.3250 - val_accuracy: 0.8731\n",
            "Epoch 12/40\n",
            "30/30 [==============================] - 6s 193ms/step - loss: 0.2355 - accuracy: 0.9257 - val_loss: 0.3125 - val_accuracy: 0.8773\n",
            "Epoch 13/40\n",
            "30/30 [==============================] - 4s 123ms/step - loss: 0.2124 - accuracy: 0.9352 - val_loss: 0.3033 - val_accuracy: 0.8815\n",
            "Epoch 14/40\n",
            "30/30 [==============================] - 4s 141ms/step - loss: 0.1871 - accuracy: 0.9451 - val_loss: 0.2966 - val_accuracy: 0.8821\n",
            "Epoch 15/40\n",
            "30/30 [==============================] - 6s 196ms/step - loss: 0.1698 - accuracy: 0.9495 - val_loss: 0.2922 - val_accuracy: 0.8854\n",
            "Epoch 16/40\n",
            "30/30 [==============================] - 4s 138ms/step - loss: 0.1513 - accuracy: 0.9579 - val_loss: 0.2891 - val_accuracy: 0.8858\n",
            "Epoch 17/40\n",
            "30/30 [==============================] - 3s 103ms/step - loss: 0.1351 - accuracy: 0.9635 - val_loss: 0.2861 - val_accuracy: 0.8891\n",
            "Epoch 18/40\n",
            "30/30 [==============================] - 4s 144ms/step - loss: 0.1220 - accuracy: 0.9683 - val_loss: 0.2853 - val_accuracy: 0.8880\n",
            "Epoch 19/40\n",
            "30/30 [==============================] - 4s 129ms/step - loss: 0.1090 - accuracy: 0.9714 - val_loss: 0.2862 - val_accuracy: 0.8873\n",
            "Epoch 20/40\n",
            "30/30 [==============================] - 4s 132ms/step - loss: 0.0966 - accuracy: 0.9777 - val_loss: 0.2874 - val_accuracy: 0.8877\n",
            "Epoch 21/40\n",
            "30/30 [==============================] - 5s 161ms/step - loss: 0.0880 - accuracy: 0.9808 - val_loss: 0.2895 - val_accuracy: 0.8870\n",
            "Epoch 22/40\n",
            "30/30 [==============================] - 3s 104ms/step - loss: 0.0797 - accuracy: 0.9825 - val_loss: 0.2916 - val_accuracy: 0.8878\n",
            "Epoch 23/40\n",
            "30/30 [==============================] - 3s 116ms/step - loss: 0.0723 - accuracy: 0.9852 - val_loss: 0.2935 - val_accuracy: 0.8877\n",
            "Epoch 24/40\n",
            "30/30 [==============================] - 6s 187ms/step - loss: 0.0650 - accuracy: 0.9866 - val_loss: 0.2961 - val_accuracy: 0.8861\n",
            "Epoch 25/40\n",
            "30/30 [==============================] - 3s 109ms/step - loss: 0.0592 - accuracy: 0.9882 - val_loss: 0.2991 - val_accuracy: 0.8866\n",
            "Epoch 26/40\n",
            "30/30 [==============================] - 4s 117ms/step - loss: 0.0539 - accuracy: 0.9897 - val_loss: 0.3020 - val_accuracy: 0.8865\n",
            "Epoch 27/40\n",
            "30/30 [==============================] - 4s 142ms/step - loss: 0.0498 - accuracy: 0.9913 - val_loss: 0.3077 - val_accuracy: 0.8866\n",
            "Epoch 28/40\n",
            "30/30 [==============================] - 4s 124ms/step - loss: 0.0443 - accuracy: 0.9923 - val_loss: 0.3116 - val_accuracy: 0.8860\n",
            "Epoch 29/40\n",
            "30/30 [==============================] - 3s 96ms/step - loss: 0.0408 - accuracy: 0.9928 - val_loss: 0.3162 - val_accuracy: 0.8862\n",
            "Epoch 30/40\n",
            "30/30 [==============================] - 3s 97ms/step - loss: 0.0365 - accuracy: 0.9941 - val_loss: 0.3209 - val_accuracy: 0.8857\n",
            "Epoch 31/40\n",
            "30/30 [==============================] - 5s 156ms/step - loss: 0.0324 - accuracy: 0.9951 - val_loss: 0.3283 - val_accuracy: 0.8843\n",
            "Epoch 32/40\n",
            "30/30 [==============================] - 3s 112ms/step - loss: 0.0304 - accuracy: 0.9949 - val_loss: 0.3322 - val_accuracy: 0.8834\n",
            "Epoch 33/40\n",
            "30/30 [==============================] - 3s 79ms/step - loss: 0.0273 - accuracy: 0.9962 - val_loss: 0.3385 - val_accuracy: 0.8825\n",
            "Epoch 34/40\n",
            "30/30 [==============================] - 4s 124ms/step - loss: 0.0255 - accuracy: 0.9964 - val_loss: 0.3424 - val_accuracy: 0.8836\n",
            "Epoch 35/40\n",
            "30/30 [==============================] - 3s 93ms/step - loss: 0.0232 - accuracy: 0.9971 - val_loss: 0.3477 - val_accuracy: 0.8830\n",
            "Epoch 36/40\n",
            "30/30 [==============================] - 2s 72ms/step - loss: 0.0214 - accuracy: 0.9971 - val_loss: 0.3532 - val_accuracy: 0.8826\n",
            "Epoch 37/40\n",
            "30/30 [==============================] - 3s 88ms/step - loss: 0.0198 - accuracy: 0.9977 - val_loss: 0.3593 - val_accuracy: 0.8826\n",
            "Epoch 38/40\n",
            "30/30 [==============================] - 4s 122ms/step - loss: 0.0184 - accuracy: 0.9973 - val_loss: 0.3668 - val_accuracy: 0.8835\n",
            "Epoch 39/40\n",
            "30/30 [==============================] - 3s 92ms/step - loss: 0.0169 - accuracy: 0.9981 - val_loss: 0.3682 - val_accuracy: 0.8834\n",
            "Epoch 40/40\n",
            "30/30 [==============================] - 3s 92ms/step - loss: 0.0158 - accuracy: 0.9987 - val_loss: 0.3735 - val_accuracy: 0.8830\n"
          ]
        }
      ],
      "source": [
        "NNBestDrop_history = NNBestDrop.fit(partial_x_train,\n",
        "                       partial_y_train,\n",
        "                       epochs=40,\n",
        "                       batch_size=512,\n",
        "                       validation_data=(x_val, y_val),\n",
        "                       verbose=1)"
      ]
    },
    {
      "cell_type": "code",
      "execution_count": null,
      "metadata": {
        "colab": {
          "base_uri": "https://localhost:8080/"
        },
        "id": "5FKOlWjAih-L",
        "outputId": "eb56c420-27fb-4e14-e71b-25fd40ecc2c1"
      },
      "outputs": [
        {
          "name": "stdout",
          "output_type": "stream",
          "text": [
            "782/782 [==============================] - 4s 5ms/step - loss: 0.4625 - accuracy: 0.8563\n",
            "[0.4624897539615631, 0.8563200235366821]\n"
          ]
        }
      ],
      "source": [
        "# Evaluate with test dataset\n",
        "NNBestDrop_results = NNBestDrop.evaluate(test_examples, test_labels)\n",
        "\n",
        "print(NNBestDrop_results)"
      ]
    },
    {
      "cell_type": "code",
      "execution_count": null,
      "metadata": {
        "colab": {
          "base_uri": "https://localhost:8080/"
        },
        "id": "krICVOrhj7EV",
        "outputId": "4fcf244b-4575-4b98-9184-cd29c17420d2"
      },
      "outputs": [
        {
          "name": "stdout",
          "output_type": "stream",
          "text": [
            "782/782 [==============================] - 3s 4ms/step\n"
          ]
        }
      ],
      "source": [
        "# Get the predictions for NNBestDrop\n",
        "predictions_NNBestDrop = NNBestDrop.predict(test_examples)"
      ]
    },
    {
      "cell_type": "code",
      "execution_count": null,
      "metadata": {
        "colab": {
          "base_uri": "https://localhost:8080/"
        },
        "id": "bxc7Bd_6la7V",
        "outputId": "fa15c4c6-7465-471a-c13c-9e10d5189e6d"
      },
      "outputs": [
        {
          "name": "stdout",
          "output_type": "stream",
          "text": [
            "Review 280 : \n",
            " b\"*spoiler alert!* it just gets to me the nerve some people have to remake (and i use the term loosely here..) good movies. in the american version of this dutch thriller, someone decided the original ending wasn't pasteurized enough for american audiences. so what do they do? they create a new one! a stupid, improbable, i-pretend-i'm-dead-but-come-to-life-again-so-the-good-guy-can-kick-my-butt- some-more kind of ending. do yourself a favor and get the original one.\"\n",
            "NNBest Sentiment Score: [-2.620389]\n",
            "NNBestDrop Sentiment Score: [-2.8376644]\n",
            "Test label for this review :  0\n",
            "\n",
            "Review 281 : \n",
            " b'This guy is a real piece of work. An angry, immature boy in a grown man\\'s body, packing all the charisma of a rock, he goes around to places most people would only wish to visit and does his best to be as miserable as possible.<br /><br />Give this job to someone else who actually appreciates it.<br /><br />I could go down an endless list of all the stupid things this guy does in his \"episodes,\" though I\\'ll just highlight the worst: Crete. While the locals are putting up seaside picnics in his \"honour,\" this clown has the gall to act like a petulant, spoiled child. He complains about everything, including the fashion sense of the people who live there. What an imbecile.<br /><br />When he went to Sweden, he spent at least five minutes feigning incredulity at a bunch of chefs (who probably had better things to do than talk with some dimwit American, like work) because they didn\\'t think Abba was horrible. Everywhere he went, he brought up Abba. This is the kind of talk you\\'d hear from 13-year-olds who watch too much MTV.<br /><br />When he was in New Orleans, he got upset that a certain restaurant had better-tasting fries than his, so he \"accidentally\" spilled some wine on them in order to ruin them. What a strange, emotionally unstable person.<br /><br />The worst of it all are his clumsy voice-overs, where he attempts in vain to add some kind of perspective on a situation he was too thick and ignorant to appreciate. He tries to use all these \"big\" words in order to sound like an author, but he\\'s really just a pretentious hack whose lack of awareness has convinced him he has something to say. That, by the way, is probably the one good thing about this joker\\'s TV show. It goes to show you, no matter how inept you are, as long as you take yourself seriously enough, the world will as well.<br /><br />Then there\\'s the way he speaks with local guides whose English is obviously only rudimentary. He\\'ll use vocabulary any writer--as he believes himself to be--would instinctively know will most likely not be understood by these people. Does he care? No. Self-important schmucks like this Bourdain clown do not use language to communicate; they use it to make themselves look important.<br /><br />Mcg13jthm\\'s review on this same page is a perfect example of the kind of mind Bourdain attracts--that of a low IQ social misfit. Observe how the reviewer attempts to justify Bourdain\\'s sociopath nature with simple-minded, childish excuses that hardly make sense. \"Bourdain may complain but he goes through \\'a lot\\' and, not only that, he was \\'forced\\' to do this show but is trying to redeem himself.\" A dolt attracts dolts, and reading Mcg13jthm\\'s review should let you know perfectly well whether or not you are the kind of person who\\'d enjoy this utterly useless, pointless show.<br /><br />Finally, to add a bit of \"fairness\" to my diatribe, I admit Bourdain would have been momentarily amusing had I met him in a bar. But as a TV host of a travel show whose purpose is to show the viewer the beauty of other places and cultures, Bourdain is a miserable, abject, hopeless, grim and depressing failure.<br /><br />A failure.'\n",
            "NNBest Sentiment Score: [-6.4459424]\n",
            "NNBestDrop Sentiment Score: [-6.1822405]\n",
            "Test label for this review :  0\n",
            "\n",
            "Review 282 : \n",
            " b\"Saw the film at the closing gala of the Ealing Film Festival in West London(England). Enjoyed it immensely. Although the Crow & the Chinese Policeman don't appear, and Dan Milligan becomes Dan Madigan (played by Sean Hughes (I)). The interaction between Dan and the Author (Writer/Director) voiced/played by Lord Richard Attenborough, works very well.<br /><br />The rumour is that Lord Attenborough and Elliott Gould (as Dr. Goldstein) appeared in the film for just a pint of beer.<br /><br />Spike was shown the film, on video before he died and by all accounts enjoyed it immensely.\"\n",
            "NNBest Sentiment Score: [3.345345]\n",
            "NNBestDrop Sentiment Score: [4.241981]\n",
            "Test label for this review :  1\n",
            "\n",
            "Review 283 : \n",
            " b\"A movie about a mysterious love letter that puts a small town on its ear should be fun, romantic and easy-going entertainment. Instead this movie is more about things not said and not expressed, so it gets to the point where you are grateful anything is said at all, even if the dialogue is not exactly quotable. <br /><br />SPOILER --<br /><br />When the relationship that says the most is the one least seen on the screen (Danner and McEwan), you know you're in trouble. But those two actresses are a very welcome sight in a movie screaming for some genuine people.<br /><br />END OF SPOILER<br /><br />Capshaw is given the task of creating a character from not much and she is not entirely successful. Like I said above, the theme seems to be repression and I understand that is an element of life and love but I don't want to see a movie about it either, at least not this one. <br /><br />I can't recommend this at all, despite the very talented cast who are left to fend for themselves.\"\n",
            "NNBest Sentiment Score: [-0.7906219]\n",
            "NNBestDrop Sentiment Score: [-0.747442]\n",
            "Test label for this review :  0\n",
            "\n",
            "Review 284 : \n",
            " b'Steven Seagal has made a really dull, bad and boring movie. Steven Seagal plays a doctor!!!!!!???! This movie has got a few action-scenes but they are poorly directed and have nothing to do with the rest of the movie. A group of American Nazis spread a lethal virus, which is able to wipe out the state of Montana. Wesley(Seagal`s character)tries desperately to find a cure, and that is the story of The Patriot. The Patriot is an extremely boring film, because nothing happens. It is filled with boring dialogue, and illogical gaps between events, and stupid actors. Steven Seagal has totally scre#\\xc2\\xa4d up in this movie, and I would not recommend this guff to my worst enemy. 3/10'\n",
            "NNBest Sentiment Score: [-11.185592]\n",
            "NNBestDrop Sentiment Score: [-10.661092]\n",
            "Test label for this review :  0\n",
            "\n",
            "Review 285 : \n",
            " b\"I don't understand why more people have not commented on this, other than the fact that perhaps not very many have seen it. It's an amazing cast of characters, one after another after another, all done by the guy who wrote the play. If you don't like filmed plays, you may not like this (after all, plays usually don't look good on TV), but it's a one-man show that will have you paying attention throughout. Highly recommended.\"\n",
            "NNBest Sentiment Score: [3.0041306]\n",
            "NNBestDrop Sentiment Score: [4.132851]\n",
            "Test label for this review :  1\n",
            "\n",
            "Review 286 : \n",
            " b\"I mean really, really, REALLY high and this movie has a shot at entertainment. I don't mean regular high, i mean the high where reading the phonebook would have you in stitches. otherwise save the time out of your life and go do something more constructive with it, like hitting your head on a brick wall and insulting your own intelligence. A complete waste of talent in some cases (Bernie Mac, John C. McGinley, Tom Kenny, and the master of hams Shatner) and exactly the kind of crap they deserve to make (the myriad of rappers who insist on making movies). Not without it's laughs (again chemical aid is crucial) and certainly not without offending the politically over-sensitive (which I'm always in favor of) but ultimately not worth the time out of your life.\"\n",
            "NNBest Sentiment Score: [-5.7810535]\n",
            "NNBestDrop Sentiment Score: [-5.5019064]\n",
            "Test label for this review :  0\n",
            "\n",
            "Review 287 : \n",
            " b'An Epic Story of Hope constrained by budget and limited artistic ambition. Seeing as Terrence Malick produced this, I expected something haunting and lyrical. Instead, we get a typical Norwegian co-production (\"Revolution\" with Al Pacino, anyone?), where - quite possibly - good intentions are scuppered by a dreadful screenplay, and where many of the characters are reduced to stereotypes. The \"me-Tarzan-you-Jane\" English dialogue between the non-English-speaking protagonists is particularly cringeworthy \\xc2\\x96 one could speculate whether Nick Nolte and Tim Roth ad-libbed their own, as they almost sound like real people. The story is loaded with implausibility: we are expected to believe that Binh can speak a smattering of English after having spent his entire life living as a peasant slave (his vocabulary, but unfortunately not grammatical command, increases impressively in the Malayan refugee camp, without the benefit of night classes). Coincidence is rife; I wonder whether an hour or two has been edited from the first third: he tracks down his mother in Ho Chi Minh City almost immediately - after bumping into his thirty year younger half brother, who nonchalantly recognises him! Mum gives him a gold locket (or something similar of great value) as they part, but this is never referred to again. His relationship with \"Me Dead Inside\" Ling is supposed to provide the obligatory \"love interest\", but feels as artificial as Leonardo and Cameron in \"Gangs Of New York\". <br /><br />The voyage in the rust bucket of a boat does convey a sense of the appalling conditions that human trafficking entails. Indeed, the only time the film is remotely exciting and unpredictable, is the jerky, hand-held footage shot from the bridge during choppy weather conditions. (Incidentally, a boat cruise from Malaysia to New York via The Cape Of Good Hope and the African coast, without stopping for fuel or supplies, is certainly an epic journey). The beautiful shot of the New York skyline echoes Malick\\'s use of magic hour, but I want to know why the Coast Guard didn\\'t show up. Perhaps they were watching the Super Bowl, or something. Of course, Binh manages to track down his blind old Dad on a remote farm in Texas, with the same navigational flair he displayed in Ho Chi Minh City. I was impressed at how Nick Nolte could wander around digging fields and feeding horses on a large ranch without the aid of a guide dog or white stick. For demonstration of how a story about the travails befalling refugees could be structured and shot on a small budget, check out Michael Winterbottom\\'s far superior \"In This World\".'\n",
            "NNBest Sentiment Score: [-2.4819221]\n",
            "NNBestDrop Sentiment Score: [-2.7452266]\n",
            "Test label for this review :  0\n",
            "\n",
            "Review 288 : \n",
            " b'I totally agree that the reenactments kill what could otherwise be a great show. I\\'ll admit that I\\'d seen 1 or 2 episodes last season and was not clear at all that it was all reenacted. But when I caught one episode recently it suddenly jumped out at me BIG TIME and I lost interest immediately. Then I noticed the disclaimer at the start before an episode that followed. Has anyone followed the show closely enough to tell me, did they actually make the \"acting\" and reenacting parts more artificial on purpose, or did I just not notice before. I\\'m usually pretty good at sensing this stuff, but the recent episode was so obviously artificial I practically tripped over it. Now I have no interest whatsoever in watching and have given up entirely on it. It just doesn\\'t have any real value if it\\'s all scripted and acted. And at least lately, it seems VERY poorly scripted and acted. The comment above that says who cares if it\\'s all reenactments, I do. Without visual truth, this is just a bunch of \"you know what happened, one time this guy\" heresay. It\\'s info better read in a book.'\n",
            "NNBest Sentiment Score: [-6.4858193]\n",
            "NNBestDrop Sentiment Score: [-5.898624]\n",
            "Test label for this review :  0\n",
            "\n",
            "Review 289 : \n",
            " b'Cedric Klapisch\\'s movie L\\'AUBERGE ESPAGNOLE is easy, breezy charm wrapped in nostalgia for our younger years and attractive youths. At its core, it\\'s the feature-length presentation of the long-running MTV reality soap opera known as \"The Real World\" in which, as its motto goes: \"This is the \\'true story\\' of seven strangers picked to live in a house and have their lives taped... so watch what happens when people stop being polite and start getting real.\" This is exactly what happens -- minus the cameras planted at every minuscule corner of the house in Barcelona, Spain, where Xavier (Romain Duris) comes to stay, having to learn Spanish to fill into his job\\'s requirements. An outsider in many ways, he slowly forms a camaraderie with his house-mates who come from all corners of Europe except America... this is a movie in which the only American shown is an unlikable character with whom Wendy (the adorable Kelly Reilly) is having an affair with (\"Only for sex,\" she confesses, since she has her own boyfriend who makes a late but dazed appearance.). Throughout his stay there, he tries to maintain a long-distance relationship with his girlfriend played by Audrey Tautou while he begins a tentative flirtation with the wife of the owner of the Spanish house where he is staying at and gets some advice from a lesbian house-mate (Cecile de France) as to how to seduce a woman. A sweet little feature that presents a moment in time that twenty-somethings will never see again, L\\'AUBERGE ESPAGNOLE is forgettable fun containing within itself the threshold into the \"real world\" experienced through Xavier\\'s eyes.'\n",
            "NNBest Sentiment Score: [2.1429482]\n",
            "NNBestDrop Sentiment Score: [2.3930023]\n",
            "Test label for this review :  1\n",
            "\n",
            "Review 290 : \n",
            " b'This film does not have the outstanding visuals that American Beauty or The Ice Storm offered and because it was made after those films, it cannot be marked as very original either: the music, though subtly brilliant, sounds very much like that of American Beauty. <br /><br />The story has some similarities with The Ice Storm in particular (as well as Sigourney Weaver). Without intent perhaps, the film seems to try to recreate the success of the two aforementioned movies too much. At times, the story tends to stay a bit more shallow than it\\'s bigger, more successful \"brothers\" by having too much going on, or by not delivering the most effective dialogs. Here, the writing cannot measure with that of American Beauty. But that can be said about most movies ever made, even the best and there is still a lot to like: said music score and (expectable, given the cast) effective performances. Of note is Emile Hirsch who would shine a couple of years later in the outstanding \"Into The Wild\".<br /><br />Overall I can recommend this film if you like suburban dramas though it\\'s not the first one on a list of must-sees, which would be topped by: 1 American beauty 2 The Ice Storm 3 Little Children.<br /><br />After you\\'ve seen and liked those, check out this one.'\n",
            "NNBest Sentiment Score: [8.189952]\n",
            "NNBestDrop Sentiment Score: [9.392964]\n",
            "Test label for this review :  1\n",
            "\n",
            "Review 291 : \n",
            " b'Moving beyond words is this heart breaking story of a divorce which results in a tragic custody battle over a seven year old boy.<br /><br />One of \"Kramer v. Kramer\\'s\" great strengths is its screenwriter director Robert Benton, who has marvellously adapted Avery Corman\\'s novel to the big screen. He keeps things beautifully simple and most realistic, while delivering all the drama straight from the heart. His talent for telling emotional tales like this was to prove itself again with \"Places in the Heart\", where he showed, as in \"Kramer v. Kramer\", that he has a natural ability for working with children.<br /><br />The picture\\'s other strong point is the splendid acting which deservedly received four of the film\\'s nine Academy Award nominations, two of them walking away winners. One of those was Dustin Hoffman (Best Actor), who is superb as frustrated business man Ted Kramer, a man who has forgotten that his wife is a person. As said wife Joanne, Meryl Streep claimed the supporting actress Oscar for a strong, sensitive portrayal of a woman who had lost herself in eight years of marriage. Also nominated was Jane Alexander for her fantastic turn as the Kramer\\'s good friend Margaret. Final word in the acting stakes must go to young Justin Henry, whose incredibly moving performance will find you choking back tears again and again, and a thoroughly deserved Oscar nomination came his way.<br /><br />Brilliant also is Nestor Almendros\\' cinematography and Jerry Greenberg\\'s timely editing, while musically Henry Purcell\\'s classical piece is used to effect.<br /><br />Truly this is a touching story of how a father and son come to depend on each other when their wife and mother leaves. They grow together, come to know each other and form an entirely new and wonderful relationship. Ted finds himself with new responsibilities and a new outlook on life, and slowly comes to realise why Joanne had to go.<br /><br />Certainly if nothing else, \"Kramer v. Kramer\" demonstrates that nobody wins when it comes to a custody battle over a young child, especially not the child himself.<br /><br />Saturday, June 10, 1995 - T.V.<br /><br />Strong drama from Avery Corman\\'s novel about the heartache of a custody battle between estranged parents who both feel they have the child\\'s best interests at heart. Aside from a superb screenplay and amazingly controlled direction, both from Robert Benton, it\\'s the superlative cast that make this picture such a winner.<br /><br />Hoffman is brilliant as Ted Kramer, the man torn between his toppling career and the son whom he desperately wants to keep. Excellent too is Streep as the woman lost in eight years of marriage who had to get out before she faded to nothing as a person. In support of these two is a very strong Jane Alexander as mutual friend Margaret, an outstanding Justin Henry as the boy caught in the middle, and a top cast of extras.<br /><br />This highly emotional, heart rending drama more than deserved it\\'s 1979 Academy Awards for best film, best actor (Hoffman) and best supporting actress (Streep).<br /><br />Wednesday, February 28, 1996 - T.V.'\n",
            "NNBest Sentiment Score: [12.610264]\n",
            "NNBestDrop Sentiment Score: [16.04521]\n",
            "Test label for this review :  1\n",
            "\n",
            "Review 292 : \n",
            " b'I went to see Random Hearts with 3 friends, and at first, I thought maybe it was just me who wasn\\'t enjoying the movie. After all, I didn\\'t like As Good As it Gets and that movie won all sorts of awards. Well, it wasn\\'t just me...none of my friends liked it either. It was unbelievable slow, much like getting teeth pulled. The only action that is in the movie is what is in previews. We didn\\'t walk out of the theatre because we all assumed something more would happen. We weren\\'t as smart as the 7 or 8 people who did walk out. I have never walked out on a movie in my life, but I definitely should have. This is all tough for me to write, considering I am relatively easy to please when it comes to movies. It takes a lot for me to think a movie is awesome, but not much for me to just like it. This movie didn\\'t even come close in the like category. Not only was the movie about 2 hours too long, but it was like two separate trite stories in one, but they weren\\'t smoothly sewn together. Plus, the \"soundtrack\" if you could even call it that was so annoying. Like Seinfeld has the same riff that is played over and over again (difference being that i like Seinfeld)..this movie had this jazz riff that it kept playing, which sounded highly inappropriate at times, especially when people were dealing with the deaths of the plane crash. Hard to explain what I mean, but trust me it was awful. I cannot say enough to make people not waste their money. After I left the theatre, I honestly wanted to write to the movie company and demand my $7 back..sheeesh, I could have gone bowling or something for that money.'\n",
            "NNBest Sentiment Score: [-0.30814624]\n",
            "NNBestDrop Sentiment Score: [0.38531563]\n",
            "Test label for this review :  0\n",
            "\n",
            "Review 293 : \n",
            " b'Ben Stryker an ex-green beret stops off at a little town called Agua Dolee to visit an old friend Tick Rand. Soon after riding into town on his Suzuki and settling in. A motorcycle gang known as \\'The Savages\\' who\\'s led by tyrant Pigiron invade and finally take over the place. Stryker doesn\\'t want to get involved, but that changes when he friends become the actual targets.<br /><br />Is there anything good to say about this scuzzy item? Tough call, as the only fundamental reason to watch this low-budget car wreck is for the tremendous b-cast the crew managed to get hold off for this project. While I don\\'t think it\\'s a complete botch job, it\\'s not terribly good either. Now what a cast! Lance Henriksen (being the main character, he strangely doesn\\'t have top billing, but the final one), Karen Black, George Kennedy, Richard Lynch, Bill Forsythe, Mickey Jones and Leo Gordon. Now what went wrong with this scummy low-budget bungle. The shallowness of the material is too one-dimensional that it heavily borrows ideas from better movies (namely Mad Max) and comes up with a complete mess of ideas that just don\\'t gel and could have been better thought out. The clich\\xc3\\xa9s that are used can be manipulated into a good viewing, despite being predictable, but \"Savage Dawn\" seems to let it skimpily rush all by without letting the viewer soak it all up. The cast are mostly wasted in nothing roles. A bleached-blonde Henriksen is capably solid and even with his commending presence that provides an enigmatic glow to his character. He doesn\\'t get up to hell of a lot and sometimes goes missing in action. Too much sideline action, but when he did kick some bikers\\' ass, the good times flowed. Karen Black\\'s hissing performance is a very odd one and is all about the screaming and cursing. Although she does get into one memorable catfight with Claudia Udy\\'s flirtatious vixen character Katie. A wheelchair bound George Kennedy roams around aimlessly until the final assault and Richard Lynch looks embarrassed as a wayward priest / town mayor in a very redundant role. An on edge Bill Forsythe simply chews it up as the head honcho of the notorious biker pack.<br /><br />The junky story (written by William Milling and Max Bloom) has that cheesy comic book getup and very much is influenced by the western genre. Just look at the villains for that. How they came up with their names is mystery. Maybe they drew them out of a hat. It\\'s pretty second rate material that more often moves onto one lacklustre scene after another. Unfunny comical elements are chucked in and as well a bit of sleaze. Tacky exploitation that doesn\\'t get gritty enough and the deaths are quite laughable. A clumsy script is filled convoluted details and unbearable trite. Simon Nuchtern\\'s spotty direction was by the numbers and tepidly laid out. One or two intense scenes can\\'t makeup for its tortoise-like pacing and many cack-handed stunts. The cardboard sets had down \\'n dirty look, but lack that organic sense. The gravel-like cinematography by Gerald Feil was better handled when the main focus wasn\\'t on the town, but on the desolate backdrop (like the beginning and ending climax of the film) with some neat camera touches. Pino Donaggio\\'s clunky music choices are drowned out by its own incompetence.<br /><br />\"Savage Dawn\" is a forgettable quickie midnight movie that\\'s a definite misfire for most part. There are better and more convincing exercises of the same ilk out there.'\n",
            "NNBest Sentiment Score: [-8.5580015]\n",
            "NNBestDrop Sentiment Score: [-8.277341]\n",
            "Test label for this review :  0\n",
            "\n",
            "Review 294 : \n",
            " b\"Human Traffic is purely a `been there, done that' experience \\xc2\\x96 only this time it's quite limp.<br /><br />Major themes explored are paranoia, male impotence and jealousy \\xc2\\x96 but only mildly and poorly.<br /><br />A lot of the movie seems to want to imitate Trainspotting (drug / `clubbing' culture) \\xc2\\x96 but it fails to include the low times / come-downs that Trainspotting deals with (eg: issues with death / dependence, etc). It even tries to come up with a similar monologue to Ewan McGreggor's classic `Choose Life' speech \\xc2\\x96 but `The Milky Bars are on me! Yeah!' \\xc2\\x96 what the fudge is that all about?!<br /><br />The characters try to analyse their lifestyle but when their lifestyle is so shallow \\xc2\\x96 their analysis becomes boring and repetitious.<br /><br />The soundtrack (for a movie that is trying to be cool) is pathetic. It includes the likes of Fat Boy Slim and CJ Bolland \\xc2\\x96 come on people \\xc2\\x96 good dance music IS be better than this!<br /><br />The characters become grating and annoying (especially half way through the movie) and the lack of care-for-the-characters soon dawns.<br /><br />There are a couple of funny scenes \\xc2\\x96 but they are few and far between. The mother catching the son in the bedroom was quite amusing.<br /><br />But PLEASE \\xc2\\x96 I'm sick to death of the Star Wars analogy scenes. I thought it was much more sharper in a couple of Kevin Smith's movies (ie: Clerks and Chasing Amy). According to the characters \\xc2\\x96 Yoda is a drug fiend hence that's why he is short and bald \\xc2\\x96 huh?!<br /><br />My score \\xc2\\x96 4 out of 10 \\xc2\\x96 do yourself a favour and see Trainspotting or Go instead!\"\n",
            "NNBest Sentiment Score: [-8.217305]\n",
            "NNBestDrop Sentiment Score: [-7.6270275]\n",
            "Test label for this review :  0\n",
            "\n",
            "Review 295 : \n",
            " b'I would like to start by saying I can only hope that the makers of this movie and it\\'s sister film The Intruder (directed by the great unheralded stylist auteur that is Jopi Burnama) know in their hearts just how much pleasure they have brought to me and my friends in the sleepy north eastern town of Jarrow.<br /><br />From the opening pre credit sequence which manages to drag ever so slightly despite containing a man crashing through a window on a motorbike, the pitiless destruction of a silence lab, the introduction of one of the most simultaneously annoying and anaemic bad guys in movie history and costume design that Jean Paul Gautier would find ott and garish. Make no mistake; this is a truly unique experience. Early highlight - an explosion (get used to it, plenty more where that came from!) followed by a close up of our chubby heroine and the most hilarious line reading of the word \"dad\" in living memory. And then... the theme song...<br /><br />Yeah, this deserves its own paragraph. Sung by AJ, written by people who really should wish to remain anonymous, it makes the songs written for the Rocky films sound like Schubert. This is crap 80\\'s hero motivation narcissism at an all time high, with choice lyrics such as \"its only me and you, its come down to the wire\" and much talk of having to \"cross the line\" (it\\'ll make sense in time - our hero cares little for the boundaries of bona fida police work) abounding. Not to mention the Indonesian Supremes cooing the film\\'s title seductively. At this point anyone wishing to switch off officially has no pulse.<br /><br />Our hero is Semitic cop Peter Goldson (essayed brilliantly by Intruder star Peter O\\'Brien), the \"stabilizer\" of the title. The man\\'s bull in a china shop approach to crime fighting and particularly his less than inconspicuous undercover work truly leaves much to be desired, but he is without question an entertaining guide through the mean streets of downtown Jakarta, with local sleaze ball connection Captain Johnny in tow, as well as Peter\\'s own waste of space partner in fashion crime Sylvia Nash, who does little. So many highlights, so little time - the \"slide please\" arrogance of Peter\\'s not all too convincingly argued case against chief baddie Greg Rainmaker (Intruder fans will know hirsute slimy bastard Craig Gavin as the monstrous John White - helluva name eh? No! Oh well...), the x marks the spot location map stupidity, our hero taking horrible advantage of heroine Tina Probost during a moment of weakness on her behalf, the latter turning up at a sting operation dressed like a member of a particularly flamboyant dancing troop. And believe me that barely covers it.<br /><br />There wasn\\'t even time to go into the plot revolving around the hunt for a drug detection system and a kidnapped professor with an alarming but commendable amount of national pride. Or our hero turning up at a funeral dressed as if an extra on Boogie Nights. Or the absolutely hysterical craic between Captain Johnny and Goldson - two guys have never made more heavy weather of buddy buddy shtick than these clowns. The trowel was possibly too subtle me thinks.<br /><br />Ah it tails off people, and you never thought scenes of wanton destruction and general mayhem could be so unbelievably boring, but the character interaction is stupendous, the dialogue truly priceless and the incompetence on show somehow endearing. Oh and the shoes people - watch out for the shoes!'\n",
            "NNBest Sentiment Score: [2.9179802]\n",
            "NNBestDrop Sentiment Score: [3.7398236]\n",
            "Test label for this review :  1\n",
            "\n",
            "Review 296 : \n",
            " b\"Lance Henriksen got paid something to appear in this. I hope it was a lot.<br /><br />Former US National Champion gymnast, Kristie Phillips starts as Charlie Case, a gymnast-turn-secret-agent (because it's very common that munchkin gymnasts become government spies...)<br /><br />There's a truly hysterical opening scene where Charlie's uneven bars routine is sabotaged by an eastern-bloc competitor. What follows is one of the most ridiculous stunt scenes I've ever witnessed....and they want you to take it seriously! Don't worry...she sticks her dismount.<br /><br />Everything after that is just a messy, dreck of a spy movie. Watch the first fifteen minutes for the campy-gymnastics stuff, then run for cover.\"\n",
            "NNBest Sentiment Score: [-4.2793593]\n",
            "NNBestDrop Sentiment Score: [-4.538001]\n",
            "Test label for this review :  0\n",
            "\n",
            "Review 297 : \n",
            " b\"This film was bad. I believe Elton (or is it Mike) Wong starred in it. Anyway it was the Wong that didn't have that goofy grin and looks meaner. He plays a man who is hit over the head and suffers brain damage. He recovers and gets revenge. Gordon Liu is the only one worth seeing in this film, but he doesn't get to do much. But what little he does seems to make the<br /><br />others pale in comparison. Also, the film has some cheesy rubber hawk that the Wong guy controls. This film is not worth renting or buying.\"\n",
            "NNBest Sentiment Score: [-2.8378062]\n",
            "NNBestDrop Sentiment Score: [-2.971814]\n",
            "Test label for this review :  0\n",
            "\n",
            "Review 298 : \n",
            " b\"The movie is really cool, I thought. It sticks to the original game quite well, and some of the battle scenes are depicted in such high detail, it's incredible. I thought the movie could have been a little better if they'd give you a little more information before the end, but trying to figure out what's going on is what hooks on you this movie.<br /><br />The CG is beautiful, I don't think they could have done a better job graphics wise. Every little detail, the way they move, the way their swords look, everything is perfect. The way they make the characters look is almost like they're real people.<br /><br />The music was great, and I found it entertaining to listen to just how much of it was remixed from the original game, with new instruments and effects.<br /><br />All and all, I'd recommend this movie to anyone that enjoys fast paced action and a good storyline. I would definitely play the game before I'd watch the movie though.\"\n",
            "NNBest Sentiment Score: [7.9450574]\n",
            "NNBestDrop Sentiment Score: [8.83316]\n",
            "Test label for this review :  1\n",
            "\n",
            "Review 299 : \n",
            " b\"The makers ask for a huge suspension of disbelief, you grant them it in the hope that given a little time they'll convince you it's possible. Alas, with TV movies it seems as though they specifically set out to make cheap Cosmo questionnaire films. With a small budget and big claims you should spend every penny on the details to convince the audience. Not here though. The film gets a few points for the good performance the two leading ladies give against the odds, but unfortunately it's not enough to save the day. oh, and the less said about the ending the better. Happy Film-Viewing Everyone !\"\n",
            "NNBest Sentiment Score: [-5.0891185]\n",
            "NNBestDrop Sentiment Score: [-5.110238]\n",
            "Test label for this review :  0\n",
            "\n",
            "Review 300 : \n",
            " b'I\\'ve been a fan of Jim Henson and his characters since the very beginning. The most beguiling thing about them was the love and innocence and camaraderie shown. Kermit was a role model of deep thinking and problem solving. A spiritual character, yet sweetly and believably so. All the other characters were slightly eccentric but it demonstrated how different kinds of beings can co-exist in a caring manner together, respecting each other\\'s difference.<br /><br />Following movies have somewhat kept the same vibe. Yet this \"It\\'s a Very Merry Muppet Christmas Movie\" would have Jim Henson spinning in his grave. These characters have been completely re-written to be horny, nasty, selfish, and cheesy.<br /><br />The cast goes on to portray God as an uncaring corporate head, with a mean streak. Angels as spineless, non-spiritual corporate staff, and the movie was so bad I had to stop watching. I had bought it for my great-nephew but fortunately I preview anything I give a child.<br /><br />This movie deserved the trash bin instead and has no socially redeeming content or charm.<br /><br />Shame, shame on the people who re-wrote the characters and departed from Jim Henson\\'s original heart-centered, socially conscious version. It does a terrible disservice to a great hearted man who is no longer around to defend his creations.'\n",
            "NNBest Sentiment Score: [-3.9187925]\n",
            "NNBestDrop Sentiment Score: [-4.918768]\n",
            "Test label for this review :  0\n",
            "\n"
          ]
        }
      ],
      "source": [
        "\n",
        "for i in range(100+20*N,120+20*N+1):\n",
        "  review = test_examples[i]\n",
        "  print(f\"Review {i} : \\n {test_examples[i]}\")\n",
        "  print(\"NNBest Sentiment Score:\", prediction[i])\n",
        "  print(\"NNBestDrop Sentiment Score:\", predictions_NNBestDrop[i])\n",
        "  print(\"Test label for this review : \", test_labels[i])\n",
        "  print()"
      ]
    },
    {
      "cell_type": "markdown",
      "metadata": {
        "id": "gdEYTPznjIqR"
      },
      "source": [
        "#### 4.6 Comment\n",
        "<a class=\"anchor\" id=\"chapter_5_6\"></a>\n",
        "\n",
        "* Based on reviews 280 to 300, the **NNBest model** demonstrated higher accuracy in predicting sentiment compared to the **NNBestDrop model**.\n",
        "\n",
        "* In Review 292, where the sentiment is ambiguous, **NNBest** predicted a negative sentiment with a score of -0.308, while **NNBestDrop** predicted a positive sentiment with a score of 0.385.\n",
        "\n",
        "Although **NNBest** provided the correct prediction, both models produced low confidence scores — which appropriately reflect the uncertainty in the text.\n"
      ]
    },
    {
      "cell_type": "markdown",
      "source": [
        "----------------------------------------------------------------------------------------------"
      ],
      "metadata": {
        "id": "6B1KRO3djRaS"
      }
    },
    {
      "cell_type": "markdown",
      "source": [
        "### 5. Conclusion\n",
        "<a class=\"anchor\" id=\"chapter_6\"></a>\n",
        "\n",
        "This project successfully built and compared seven different neural network architectures to classify movie reviews by sentiment using the IMDB dataset. After evaluating all models, the **Scratch Model (NNBest)** demonstrated the most consistent and accurate performance on the test data.\n",
        "\n",
        "In particular, when analyzing edge cases such as Review 292—where the sentiment was ambiguous— **NNBest** correctly predicted the negative sentiment, while the alternative model (**NNBestDrop**) misclassified it as positive. The low confidence scores from both models in such cases further reflected the uncertainty in the text, which is a desirable behavior in real-world applications.\n",
        "\n",
        "Overall, the selected model achieved strong performance in identifying both clear and borderline sentiments, making it a solid foundation for real-world sentiment classification tasks."
      ],
      "metadata": {
        "id": "AFIDHrjxhIl8"
      }
    }
  ],
  "metadata": {
    "accelerator": "GPU",
    "colab": {
      "gpuType": "T4",
      "provenance": []
    },
    "gpuClass": "standard",
    "kernelspec": {
      "display_name": "Python 3",
      "name": "python3"
    },
    "language_info": {
      "name": "python"
    },
    "widgets": {
      "application/vnd.jupyter.widget-state+json": {
        "01dc75a7b859482c826c52d23bf0dca1": {
          "model_module": "@jupyter-widgets/controls",
          "model_module_version": "1.5.0",
          "model_name": "ProgressStyleModel",
          "state": {
            "_model_module": "@jupyter-widgets/controls",
            "_model_module_version": "1.5.0",
            "_model_name": "ProgressStyleModel",
            "_view_count": null,
            "_view_module": "@jupyter-widgets/base",
            "_view_module_version": "1.2.0",
            "_view_name": "StyleView",
            "bar_color": null,
            "description_width": ""
          }
        },
        "0331c4782f3f4ba9a303ada4bf7ab956": {
          "model_module": "@jupyter-widgets/controls",
          "model_module_version": "1.5.0",
          "model_name": "HTMLModel",
          "state": {
            "_dom_classes": [],
            "_model_module": "@jupyter-widgets/controls",
            "_model_module_version": "1.5.0",
            "_model_name": "HTMLModel",
            "_view_count": null,
            "_view_module": "@jupyter-widgets/controls",
            "_view_module_version": "1.5.0",
            "_view_name": "HTMLView",
            "description": "",
            "description_tooltip": null,
            "layout": "IPY_MODEL_9bfdaac4675f4e888caa25f03bee3862",
            "placeholder": "​",
            "style": "IPY_MODEL_5c19cf8e4a5c4e228b3f72ce902b65b2",
            "value": " 3/3 [00:45&lt;00:00, 14.66s/ splits]"
          }
        },
        "0416d76c8fe34e4fa4779329249c0bc9": {
          "model_module": "@jupyter-widgets/controls",
          "model_module_version": "1.5.0",
          "model_name": "ProgressStyleModel",
          "state": {
            "_model_module": "@jupyter-widgets/controls",
            "_model_module_version": "1.5.0",
            "_model_name": "ProgressStyleModel",
            "_view_count": null,
            "_view_module": "@jupyter-widgets/base",
            "_view_module_version": "1.2.0",
            "_view_name": "StyleView",
            "bar_color": null,
            "description_width": ""
          }
        },
        "0876370eb8304806b3f75dc4911415cb": {
          "model_module": "@jupyter-widgets/controls",
          "model_module_version": "1.5.0",
          "model_name": "FloatProgressModel",
          "state": {
            "_dom_classes": [],
            "_model_module": "@jupyter-widgets/controls",
            "_model_module_version": "1.5.0",
            "_model_name": "FloatProgressModel",
            "_view_count": null,
            "_view_module": "@jupyter-widgets/controls",
            "_view_module_version": "1.5.0",
            "_view_name": "ProgressView",
            "bar_style": "success",
            "description": "",
            "description_tooltip": null,
            "layout": "IPY_MODEL_2803f1e66eb649078f4cb25adb6900b0",
            "max": 1,
            "min": 0,
            "orientation": "horizontal",
            "style": "IPY_MODEL_2153f40a0f45400da87cb2db7799f7fa",
            "value": 1
          }
        },
        "127738e748c74de0934d32f24de75e69": {
          "model_module": "@jupyter-widgets/controls",
          "model_module_version": "1.5.0",
          "model_name": "HBoxModel",
          "state": {
            "_dom_classes": [],
            "_model_module": "@jupyter-widgets/controls",
            "_model_module_version": "1.5.0",
            "_model_name": "HBoxModel",
            "_view_count": null,
            "_view_module": "@jupyter-widgets/controls",
            "_view_module_version": "1.5.0",
            "_view_name": "HBoxView",
            "box_style": "",
            "children": [
              "IPY_MODEL_bccd8ac4feaa4e98abffe50ca5943d9a",
              "IPY_MODEL_16982dca82a841db9951c18159299b53",
              "IPY_MODEL_0331c4782f3f4ba9a303ada4bf7ab956"
            ],
            "layout": "IPY_MODEL_6fb866bb5ea3450897cb4d447515866c"
          }
        },
        "16982dca82a841db9951c18159299b53": {
          "model_module": "@jupyter-widgets/controls",
          "model_module_version": "1.5.0",
          "model_name": "FloatProgressModel",
          "state": {
            "_dom_classes": [],
            "_model_module": "@jupyter-widgets/controls",
            "_model_module_version": "1.5.0",
            "_model_name": "FloatProgressModel",
            "_view_count": null,
            "_view_module": "@jupyter-widgets/controls",
            "_view_module_version": "1.5.0",
            "_view_name": "ProgressView",
            "bar_style": "",
            "description": "",
            "description_tooltip": null,
            "layout": "IPY_MODEL_a36ff86f52844f48882c20ea787a1176",
            "max": 3,
            "min": 0,
            "orientation": "horizontal",
            "style": "IPY_MODEL_1e867ab7391d4cb7a68f14440fc10c48",
            "value": 3
          }
        },
        "170f6f03ff2049898caaae99122364ad": {
          "model_module": "@jupyter-widgets/controls",
          "model_module_version": "1.5.0",
          "model_name": "HTMLModel",
          "state": {
            "_dom_classes": [],
            "_model_module": "@jupyter-widgets/controls",
            "_model_module_version": "1.5.0",
            "_model_name": "HTMLModel",
            "_view_count": null,
            "_view_module": "@jupyter-widgets/controls",
            "_view_module_version": "1.5.0",
            "_view_name": "HTMLView",
            "description": "",
            "description_tooltip": null,
            "layout": "IPY_MODEL_46545b7a647b4e15953fc523731af5c8",
            "placeholder": "​",
            "style": "IPY_MODEL_866a6888cf034a1ba2c90a895ab2a520",
            "value": " 24794/25000 [00:05&lt;00:00, 5581.38 examples/s]"
          }
        },
        "17b0a36be14a4184af3bc872556b6c6f": {
          "model_module": "@jupyter-widgets/controls",
          "model_module_version": "1.5.0",
          "model_name": "DescriptionStyleModel",
          "state": {
            "_model_module": "@jupyter-widgets/controls",
            "_model_module_version": "1.5.0",
            "_model_name": "DescriptionStyleModel",
            "_view_count": null,
            "_view_module": "@jupyter-widgets/base",
            "_view_module_version": "1.2.0",
            "_view_name": "StyleView",
            "description_width": ""
          }
        },
        "17bb7f29df334de58eedcc8e9718a6d2": {
          "model_module": "@jupyter-widgets/controls",
          "model_module_version": "1.5.0",
          "model_name": "DescriptionStyleModel",
          "state": {
            "_model_module": "@jupyter-widgets/controls",
            "_model_module_version": "1.5.0",
            "_model_name": "DescriptionStyleModel",
            "_view_count": null,
            "_view_module": "@jupyter-widgets/base",
            "_view_module_version": "1.2.0",
            "_view_name": "StyleView",
            "description_width": ""
          }
        },
        "1857a7170d254a8cb569137fccf026ff": {
          "model_module": "@jupyter-widgets/controls",
          "model_module_version": "1.5.0",
          "model_name": "DescriptionStyleModel",
          "state": {
            "_model_module": "@jupyter-widgets/controls",
            "_model_module_version": "1.5.0",
            "_model_name": "DescriptionStyleModel",
            "_view_count": null,
            "_view_module": "@jupyter-widgets/base",
            "_view_module_version": "1.2.0",
            "_view_name": "StyleView",
            "description_width": ""
          }
        },
        "1aa57a7d69df4bcea36c24261da828b5": {
          "model_module": "@jupyter-widgets/controls",
          "model_module_version": "1.5.0",
          "model_name": "ProgressStyleModel",
          "state": {
            "_model_module": "@jupyter-widgets/controls",
            "_model_module_version": "1.5.0",
            "_model_name": "ProgressStyleModel",
            "_view_count": null,
            "_view_module": "@jupyter-widgets/base",
            "_view_module_version": "1.2.0",
            "_view_name": "StyleView",
            "bar_color": null,
            "description_width": ""
          }
        },
        "1b33174024b2498f86cb32aaf1e16a2e": {
          "model_module": "@jupyter-widgets/controls",
          "model_module_version": "1.5.0",
          "model_name": "FloatProgressModel",
          "state": {
            "_dom_classes": [],
            "_model_module": "@jupyter-widgets/controls",
            "_model_module_version": "1.5.0",
            "_model_name": "FloatProgressModel",
            "_view_count": null,
            "_view_module": "@jupyter-widgets/controls",
            "_view_module_version": "1.5.0",
            "_view_name": "ProgressView",
            "bar_style": "",
            "description": "",
            "description_tooltip": null,
            "layout": "IPY_MODEL_92ee39a9cfe14461b669c3f3b7568991",
            "max": 25000,
            "min": 0,
            "orientation": "horizontal",
            "style": "IPY_MODEL_1aa57a7d69df4bcea36c24261da828b5",
            "value": 25000
          }
        },
        "1c356b3a6cb94858a847b0db6380e65a": {
          "model_module": "@jupyter-widgets/base",
          "model_module_version": "1.2.0",
          "model_name": "LayoutModel",
          "state": {
            "_model_module": "@jupyter-widgets/base",
            "_model_module_version": "1.2.0",
            "_model_name": "LayoutModel",
            "_view_count": null,
            "_view_module": "@jupyter-widgets/base",
            "_view_module_version": "1.2.0",
            "_view_name": "LayoutView",
            "align_content": null,
            "align_items": null,
            "align_self": null,
            "border": null,
            "bottom": null,
            "display": null,
            "flex": null,
            "flex_flow": null,
            "grid_area": null,
            "grid_auto_columns": null,
            "grid_auto_flow": null,
            "grid_auto_rows": null,
            "grid_column": null,
            "grid_gap": null,
            "grid_row": null,
            "grid_template_areas": null,
            "grid_template_columns": null,
            "grid_template_rows": null,
            "height": null,
            "justify_content": null,
            "justify_items": null,
            "left": null,
            "margin": null,
            "max_height": null,
            "max_width": null,
            "min_height": null,
            "min_width": null,
            "object_fit": null,
            "object_position": null,
            "order": null,
            "overflow": null,
            "overflow_x": null,
            "overflow_y": null,
            "padding": null,
            "right": null,
            "top": null,
            "visibility": null,
            "width": null
          }
        },
        "1e867ab7391d4cb7a68f14440fc10c48": {
          "model_module": "@jupyter-widgets/controls",
          "model_module_version": "1.5.0",
          "model_name": "ProgressStyleModel",
          "state": {
            "_model_module": "@jupyter-widgets/controls",
            "_model_module_version": "1.5.0",
            "_model_name": "ProgressStyleModel",
            "_view_count": null,
            "_view_module": "@jupyter-widgets/base",
            "_view_module_version": "1.2.0",
            "_view_name": "StyleView",
            "bar_color": null,
            "description_width": ""
          }
        },
        "2153f40a0f45400da87cb2db7799f7fa": {
          "model_module": "@jupyter-widgets/controls",
          "model_module_version": "1.5.0",
          "model_name": "ProgressStyleModel",
          "state": {
            "_model_module": "@jupyter-widgets/controls",
            "_model_module_version": "1.5.0",
            "_model_name": "ProgressStyleModel",
            "_view_count": null,
            "_view_module": "@jupyter-widgets/base",
            "_view_module_version": "1.2.0",
            "_view_name": "StyleView",
            "bar_color": null,
            "description_width": ""
          }
        },
        "232111e219f14a7d9954f6f891ce4815": {
          "model_module": "@jupyter-widgets/base",
          "model_module_version": "1.2.0",
          "model_name": "LayoutModel",
          "state": {
            "_model_module": "@jupyter-widgets/base",
            "_model_module_version": "1.2.0",
            "_model_name": "LayoutModel",
            "_view_count": null,
            "_view_module": "@jupyter-widgets/base",
            "_view_module_version": "1.2.0",
            "_view_name": "LayoutView",
            "align_content": null,
            "align_items": null,
            "align_self": null,
            "border": null,
            "bottom": null,
            "display": null,
            "flex": null,
            "flex_flow": null,
            "grid_area": null,
            "grid_auto_columns": null,
            "grid_auto_flow": null,
            "grid_auto_rows": null,
            "grid_column": null,
            "grid_gap": null,
            "grid_row": null,
            "grid_template_areas": null,
            "grid_template_columns": null,
            "grid_template_rows": null,
            "height": null,
            "justify_content": null,
            "justify_items": null,
            "left": null,
            "margin": null,
            "max_height": null,
            "max_width": null,
            "min_height": null,
            "min_width": null,
            "object_fit": null,
            "object_position": null,
            "order": null,
            "overflow": null,
            "overflow_x": null,
            "overflow_y": null,
            "padding": null,
            "right": null,
            "top": null,
            "visibility": "hidden",
            "width": null
          }
        },
        "2733cd41ce3d4104bd033b91dc818e56": {
          "model_module": "@jupyter-widgets/controls",
          "model_module_version": "1.5.0",
          "model_name": "HTMLModel",
          "state": {
            "_dom_classes": [],
            "_model_module": "@jupyter-widgets/controls",
            "_model_module_version": "1.5.0",
            "_model_name": "HTMLModel",
            "_view_count": null,
            "_view_module": "@jupyter-widgets/controls",
            "_view_module_version": "1.5.0",
            "_view_name": "HTMLView",
            "description": "",
            "description_tooltip": null,
            "layout": "IPY_MODEL_3ab0243c19bd46a09e1e3a9d17b85ca7",
            "placeholder": "​",
            "style": "IPY_MODEL_62f0e65bf98442a68a8838104f4ecfeb",
            "value": " 49663/50000 [00:14&lt;00:00, 5296.90 examples/s]"
          }
        },
        "2803f1e66eb649078f4cb25adb6900b0": {
          "model_module": "@jupyter-widgets/base",
          "model_module_version": "1.2.0",
          "model_name": "LayoutModel",
          "state": {
            "_model_module": "@jupyter-widgets/base",
            "_model_module_version": "1.2.0",
            "_model_name": "LayoutModel",
            "_view_count": null,
            "_view_module": "@jupyter-widgets/base",
            "_view_module_version": "1.2.0",
            "_view_name": "LayoutView",
            "align_content": null,
            "align_items": null,
            "align_self": null,
            "border": null,
            "bottom": null,
            "display": null,
            "flex": null,
            "flex_flow": null,
            "grid_area": null,
            "grid_auto_columns": null,
            "grid_auto_flow": null,
            "grid_auto_rows": null,
            "grid_column": null,
            "grid_gap": null,
            "grid_row": null,
            "grid_template_areas": null,
            "grid_template_columns": null,
            "grid_template_rows": null,
            "height": null,
            "justify_content": null,
            "justify_items": null,
            "left": null,
            "margin": null,
            "max_height": null,
            "max_width": null,
            "min_height": null,
            "min_width": null,
            "object_fit": null,
            "object_position": null,
            "order": null,
            "overflow": null,
            "overflow_x": null,
            "overflow_y": null,
            "padding": null,
            "right": null,
            "top": null,
            "visibility": null,
            "width": "20px"
          }
        },
        "2acfa7987cb14d8aae7d2c3eba148c47": {
          "model_module": "@jupyter-widgets/controls",
          "model_module_version": "1.5.0",
          "model_name": "HBoxModel",
          "state": {
            "_dom_classes": [],
            "_model_module": "@jupyter-widgets/controls",
            "_model_module_version": "1.5.0",
            "_model_name": "HBoxModel",
            "_view_count": null,
            "_view_module": "@jupyter-widgets/controls",
            "_view_module_version": "1.5.0",
            "_view_name": "HBoxView",
            "box_style": "",
            "children": [
              "IPY_MODEL_cf473e1e731d4d789f4ccf21a4733f26",
              "IPY_MODEL_f9cb6c455a18454a8fc79f0cd45ebd8d",
              "IPY_MODEL_be2f206d696e4ec99dce7e4d6b3d3ab5"
            ],
            "layout": "IPY_MODEL_c3951756d4d840718381ac80c4f24721"
          }
        },
        "2c3008ed24f4476e9832bd6c38c0b8e4": {
          "model_module": "@jupyter-widgets/controls",
          "model_module_version": "1.5.0",
          "model_name": "HTMLModel",
          "state": {
            "_dom_classes": [],
            "_model_module": "@jupyter-widgets/controls",
            "_model_module_version": "1.5.0",
            "_model_name": "HTMLModel",
            "_view_count": null,
            "_view_module": "@jupyter-widgets/controls",
            "_view_module_version": "1.5.0",
            "_view_name": "HTMLView",
            "description": "",
            "description_tooltip": null,
            "layout": "IPY_MODEL_71867bc7a78c49bba2421d439d80b0da",
            "placeholder": "​",
            "style": "IPY_MODEL_5cda23633592451bb0c1cbdc24de1600",
            "value": "Dl Completed...: 100%"
          }
        },
        "3033c2856d9a4b6bb187d227bbb629ac": {
          "model_module": "@jupyter-widgets/base",
          "model_module_version": "1.2.0",
          "model_name": "LayoutModel",
          "state": {
            "_model_module": "@jupyter-widgets/base",
            "_model_module_version": "1.2.0",
            "_model_name": "LayoutModel",
            "_view_count": null,
            "_view_module": "@jupyter-widgets/base",
            "_view_module_version": "1.2.0",
            "_view_name": "LayoutView",
            "align_content": null,
            "align_items": null,
            "align_self": null,
            "border": null,
            "bottom": null,
            "display": null,
            "flex": null,
            "flex_flow": null,
            "grid_area": null,
            "grid_auto_columns": null,
            "grid_auto_flow": null,
            "grid_auto_rows": null,
            "grid_column": null,
            "grid_gap": null,
            "grid_row": null,
            "grid_template_areas": null,
            "grid_template_columns": null,
            "grid_template_rows": null,
            "height": null,
            "justify_content": null,
            "justify_items": null,
            "left": null,
            "margin": null,
            "max_height": null,
            "max_width": null,
            "min_height": null,
            "min_width": null,
            "object_fit": null,
            "object_position": null,
            "order": null,
            "overflow": null,
            "overflow_x": null,
            "overflow_y": null,
            "padding": null,
            "right": null,
            "top": null,
            "visibility": "hidden",
            "width": null
          }
        },
        "39405c15bb9540f284ae8d1cb628cd63": {
          "model_module": "@jupyter-widgets/controls",
          "model_module_version": "1.5.0",
          "model_name": "HTMLModel",
          "state": {
            "_dom_classes": [],
            "_model_module": "@jupyter-widgets/controls",
            "_model_module_version": "1.5.0",
            "_model_name": "HTMLModel",
            "_view_count": null,
            "_view_module": "@jupyter-widgets/controls",
            "_view_module_version": "1.5.0",
            "_view_name": "HTMLView",
            "description": "",
            "description_tooltip": null,
            "layout": "IPY_MODEL_d7157c755985467095e762c2eaab6bce",
            "placeholder": "​",
            "style": "IPY_MODEL_bcfc329269a94540aef86eb51db45858",
            "value": "Generating train examples...:  99%"
          }
        },
        "39bef272115640d5a9d5c2dafed06318": {
          "model_module": "@jupyter-widgets/base",
          "model_module_version": "1.2.0",
          "model_name": "LayoutModel",
          "state": {
            "_model_module": "@jupyter-widgets/base",
            "_model_module_version": "1.2.0",
            "_model_name": "LayoutModel",
            "_view_count": null,
            "_view_module": "@jupyter-widgets/base",
            "_view_module_version": "1.2.0",
            "_view_name": "LayoutView",
            "align_content": null,
            "align_items": null,
            "align_self": null,
            "border": null,
            "bottom": null,
            "display": null,
            "flex": null,
            "flex_flow": null,
            "grid_area": null,
            "grid_auto_columns": null,
            "grid_auto_flow": null,
            "grid_auto_rows": null,
            "grid_column": null,
            "grid_gap": null,
            "grid_row": null,
            "grid_template_areas": null,
            "grid_template_columns": null,
            "grid_template_rows": null,
            "height": null,
            "justify_content": null,
            "justify_items": null,
            "left": null,
            "margin": null,
            "max_height": null,
            "max_width": null,
            "min_height": null,
            "min_width": null,
            "object_fit": null,
            "object_position": null,
            "order": null,
            "overflow": null,
            "overflow_x": null,
            "overflow_y": null,
            "padding": null,
            "right": null,
            "top": null,
            "visibility": null,
            "width": null
          }
        },
        "3ab0243c19bd46a09e1e3a9d17b85ca7": {
          "model_module": "@jupyter-widgets/base",
          "model_module_version": "1.2.0",
          "model_name": "LayoutModel",
          "state": {
            "_model_module": "@jupyter-widgets/base",
            "_model_module_version": "1.2.0",
            "_model_name": "LayoutModel",
            "_view_count": null,
            "_view_module": "@jupyter-widgets/base",
            "_view_module_version": "1.2.0",
            "_view_name": "LayoutView",
            "align_content": null,
            "align_items": null,
            "align_self": null,
            "border": null,
            "bottom": null,
            "display": null,
            "flex": null,
            "flex_flow": null,
            "grid_area": null,
            "grid_auto_columns": null,
            "grid_auto_flow": null,
            "grid_auto_rows": null,
            "grid_column": null,
            "grid_gap": null,
            "grid_row": null,
            "grid_template_areas": null,
            "grid_template_columns": null,
            "grid_template_rows": null,
            "height": null,
            "justify_content": null,
            "justify_items": null,
            "left": null,
            "margin": null,
            "max_height": null,
            "max_width": null,
            "min_height": null,
            "min_width": null,
            "object_fit": null,
            "object_position": null,
            "order": null,
            "overflow": null,
            "overflow_x": null,
            "overflow_y": null,
            "padding": null,
            "right": null,
            "top": null,
            "visibility": null,
            "width": null
          }
        },
        "3d551fd2084641828b27fd9c633c25b9": {
          "model_module": "@jupyter-widgets/base",
          "model_module_version": "1.2.0",
          "model_name": "LayoutModel",
          "state": {
            "_model_module": "@jupyter-widgets/base",
            "_model_module_version": "1.2.0",
            "_model_name": "LayoutModel",
            "_view_count": null,
            "_view_module": "@jupyter-widgets/base",
            "_view_module_version": "1.2.0",
            "_view_name": "LayoutView",
            "align_content": null,
            "align_items": null,
            "align_self": null,
            "border": null,
            "bottom": null,
            "display": null,
            "flex": null,
            "flex_flow": null,
            "grid_area": null,
            "grid_auto_columns": null,
            "grid_auto_flow": null,
            "grid_auto_rows": null,
            "grid_column": null,
            "grid_gap": null,
            "grid_row": null,
            "grid_template_areas": null,
            "grid_template_columns": null,
            "grid_template_rows": null,
            "height": null,
            "justify_content": null,
            "justify_items": null,
            "left": null,
            "margin": null,
            "max_height": null,
            "max_width": null,
            "min_height": null,
            "min_width": null,
            "object_fit": null,
            "object_position": null,
            "order": null,
            "overflow": null,
            "overflow_x": null,
            "overflow_y": null,
            "padding": null,
            "right": null,
            "top": null,
            "visibility": null,
            "width": null
          }
        },
        "3e7642ab1cec4a69be1d21297f577ebe": {
          "model_module": "@jupyter-widgets/base",
          "model_module_version": "1.2.0",
          "model_name": "LayoutModel",
          "state": {
            "_model_module": "@jupyter-widgets/base",
            "_model_module_version": "1.2.0",
            "_model_name": "LayoutModel",
            "_view_count": null,
            "_view_module": "@jupyter-widgets/base",
            "_view_module_version": "1.2.0",
            "_view_name": "LayoutView",
            "align_content": null,
            "align_items": null,
            "align_self": null,
            "border": null,
            "bottom": null,
            "display": null,
            "flex": null,
            "flex_flow": null,
            "grid_area": null,
            "grid_auto_columns": null,
            "grid_auto_flow": null,
            "grid_auto_rows": null,
            "grid_column": null,
            "grid_gap": null,
            "grid_row": null,
            "grid_template_areas": null,
            "grid_template_columns": null,
            "grid_template_rows": null,
            "height": null,
            "justify_content": null,
            "justify_items": null,
            "left": null,
            "margin": null,
            "max_height": null,
            "max_width": null,
            "min_height": null,
            "min_width": null,
            "object_fit": null,
            "object_position": null,
            "order": null,
            "overflow": null,
            "overflow_x": null,
            "overflow_y": null,
            "padding": null,
            "right": null,
            "top": null,
            "visibility": null,
            "width": null
          }
        },
        "404ee2a47193414cbc9c081ae8589d74": {
          "model_module": "@jupyter-widgets/base",
          "model_module_version": "1.2.0",
          "model_name": "LayoutModel",
          "state": {
            "_model_module": "@jupyter-widgets/base",
            "_model_module_version": "1.2.0",
            "_model_name": "LayoutModel",
            "_view_count": null,
            "_view_module": "@jupyter-widgets/base",
            "_view_module_version": "1.2.0",
            "_view_name": "LayoutView",
            "align_content": null,
            "align_items": null,
            "align_self": null,
            "border": null,
            "bottom": null,
            "display": null,
            "flex": null,
            "flex_flow": null,
            "grid_area": null,
            "grid_auto_columns": null,
            "grid_auto_flow": null,
            "grid_auto_rows": null,
            "grid_column": null,
            "grid_gap": null,
            "grid_row": null,
            "grid_template_areas": null,
            "grid_template_columns": null,
            "grid_template_rows": null,
            "height": null,
            "justify_content": null,
            "justify_items": null,
            "left": null,
            "margin": null,
            "max_height": null,
            "max_width": null,
            "min_height": null,
            "min_width": null,
            "object_fit": null,
            "object_position": null,
            "order": null,
            "overflow": null,
            "overflow_x": null,
            "overflow_y": null,
            "padding": null,
            "right": null,
            "top": null,
            "visibility": null,
            "width": null
          }
        },
        "46545b7a647b4e15953fc523731af5c8": {
          "model_module": "@jupyter-widgets/base",
          "model_module_version": "1.2.0",
          "model_name": "LayoutModel",
          "state": {
            "_model_module": "@jupyter-widgets/base",
            "_model_module_version": "1.2.0",
            "_model_name": "LayoutModel",
            "_view_count": null,
            "_view_module": "@jupyter-widgets/base",
            "_view_module_version": "1.2.0",
            "_view_name": "LayoutView",
            "align_content": null,
            "align_items": null,
            "align_self": null,
            "border": null,
            "bottom": null,
            "display": null,
            "flex": null,
            "flex_flow": null,
            "grid_area": null,
            "grid_auto_columns": null,
            "grid_auto_flow": null,
            "grid_auto_rows": null,
            "grid_column": null,
            "grid_gap": null,
            "grid_row": null,
            "grid_template_areas": null,
            "grid_template_columns": null,
            "grid_template_rows": null,
            "height": null,
            "justify_content": null,
            "justify_items": null,
            "left": null,
            "margin": null,
            "max_height": null,
            "max_width": null,
            "min_height": null,
            "min_width": null,
            "object_fit": null,
            "object_position": null,
            "order": null,
            "overflow": null,
            "overflow_x": null,
            "overflow_y": null,
            "padding": null,
            "right": null,
            "top": null,
            "visibility": null,
            "width": null
          }
        },
        "488b05a864754789911dd41cd8e50e3b": {
          "model_module": "@jupyter-widgets/base",
          "model_module_version": "1.2.0",
          "model_name": "LayoutModel",
          "state": {
            "_model_module": "@jupyter-widgets/base",
            "_model_module_version": "1.2.0",
            "_model_name": "LayoutModel",
            "_view_count": null,
            "_view_module": "@jupyter-widgets/base",
            "_view_module_version": "1.2.0",
            "_view_name": "LayoutView",
            "align_content": null,
            "align_items": null,
            "align_self": null,
            "border": null,
            "bottom": null,
            "display": null,
            "flex": null,
            "flex_flow": null,
            "grid_area": null,
            "grid_auto_columns": null,
            "grid_auto_flow": null,
            "grid_auto_rows": null,
            "grid_column": null,
            "grid_gap": null,
            "grid_row": null,
            "grid_template_areas": null,
            "grid_template_columns": null,
            "grid_template_rows": null,
            "height": null,
            "justify_content": null,
            "justify_items": null,
            "left": null,
            "margin": null,
            "max_height": null,
            "max_width": null,
            "min_height": null,
            "min_width": null,
            "object_fit": null,
            "object_position": null,
            "order": null,
            "overflow": null,
            "overflow_x": null,
            "overflow_y": null,
            "padding": null,
            "right": null,
            "top": null,
            "visibility": null,
            "width": null
          }
        },
        "496eda5f53c64fc9ac56c43b5201842a": {
          "model_module": "@jupyter-widgets/controls",
          "model_module_version": "1.5.0",
          "model_name": "DescriptionStyleModel",
          "state": {
            "_model_module": "@jupyter-widgets/controls",
            "_model_module_version": "1.5.0",
            "_model_name": "DescriptionStyleModel",
            "_view_count": null,
            "_view_module": "@jupyter-widgets/base",
            "_view_module_version": "1.2.0",
            "_view_name": "StyleView",
            "description_width": ""
          }
        },
        "4a5d45e38da9433cac7356347ea593dd": {
          "model_module": "@jupyter-widgets/controls",
          "model_module_version": "1.5.0",
          "model_name": "DescriptionStyleModel",
          "state": {
            "_model_module": "@jupyter-widgets/controls",
            "_model_module_version": "1.5.0",
            "_model_name": "DescriptionStyleModel",
            "_view_count": null,
            "_view_module": "@jupyter-widgets/base",
            "_view_module_version": "1.2.0",
            "_view_name": "StyleView",
            "description_width": ""
          }
        },
        "4ea2336bb0374600937e603d10e3c891": {
          "model_module": "@jupyter-widgets/controls",
          "model_module_version": "1.5.0",
          "model_name": "ProgressStyleModel",
          "state": {
            "_model_module": "@jupyter-widgets/controls",
            "_model_module_version": "1.5.0",
            "_model_name": "ProgressStyleModel",
            "_view_count": null,
            "_view_module": "@jupyter-widgets/base",
            "_view_module_version": "1.2.0",
            "_view_name": "StyleView",
            "bar_color": null,
            "description_width": ""
          }
        },
        "516c63b0c7084d3fa41d8801e773c598": {
          "model_module": "@jupyter-widgets/base",
          "model_module_version": "1.2.0",
          "model_name": "LayoutModel",
          "state": {
            "_model_module": "@jupyter-widgets/base",
            "_model_module_version": "1.2.0",
            "_model_name": "LayoutModel",
            "_view_count": null,
            "_view_module": "@jupyter-widgets/base",
            "_view_module_version": "1.2.0",
            "_view_name": "LayoutView",
            "align_content": null,
            "align_items": null,
            "align_self": null,
            "border": null,
            "bottom": null,
            "display": null,
            "flex": null,
            "flex_flow": null,
            "grid_area": null,
            "grid_auto_columns": null,
            "grid_auto_flow": null,
            "grid_auto_rows": null,
            "grid_column": null,
            "grid_gap": null,
            "grid_row": null,
            "grid_template_areas": null,
            "grid_template_columns": null,
            "grid_template_rows": null,
            "height": null,
            "justify_content": null,
            "justify_items": null,
            "left": null,
            "margin": null,
            "max_height": null,
            "max_width": null,
            "min_height": null,
            "min_width": null,
            "object_fit": null,
            "object_position": null,
            "order": null,
            "overflow": null,
            "overflow_x": null,
            "overflow_y": null,
            "padding": null,
            "right": null,
            "top": null,
            "visibility": null,
            "width": null
          }
        },
        "554f76d145f649e09bbd80c841612ae0": {
          "model_module": "@jupyter-widgets/base",
          "model_module_version": "1.2.0",
          "model_name": "LayoutModel",
          "state": {
            "_model_module": "@jupyter-widgets/base",
            "_model_module_version": "1.2.0",
            "_model_name": "LayoutModel",
            "_view_count": null,
            "_view_module": "@jupyter-widgets/base",
            "_view_module_version": "1.2.0",
            "_view_name": "LayoutView",
            "align_content": null,
            "align_items": null,
            "align_self": null,
            "border": null,
            "bottom": null,
            "display": null,
            "flex": null,
            "flex_flow": null,
            "grid_area": null,
            "grid_auto_columns": null,
            "grid_auto_flow": null,
            "grid_auto_rows": null,
            "grid_column": null,
            "grid_gap": null,
            "grid_row": null,
            "grid_template_areas": null,
            "grid_template_columns": null,
            "grid_template_rows": null,
            "height": null,
            "justify_content": null,
            "justify_items": null,
            "left": null,
            "margin": null,
            "max_height": null,
            "max_width": null,
            "min_height": null,
            "min_width": null,
            "object_fit": null,
            "object_position": null,
            "order": null,
            "overflow": null,
            "overflow_x": null,
            "overflow_y": null,
            "padding": null,
            "right": null,
            "top": null,
            "visibility": null,
            "width": "20px"
          }
        },
        "57696936032b4e7781e49c33ec569879": {
          "model_module": "@jupyter-widgets/controls",
          "model_module_version": "1.5.0",
          "model_name": "HBoxModel",
          "state": {
            "_dom_classes": [],
            "_model_module": "@jupyter-widgets/controls",
            "_model_module_version": "1.5.0",
            "_model_name": "HBoxModel",
            "_view_count": null,
            "_view_module": "@jupyter-widgets/controls",
            "_view_module_version": "1.5.0",
            "_view_name": "HBoxView",
            "box_style": "",
            "children": [
              "IPY_MODEL_39405c15bb9540f284ae8d1cb628cd63",
              "IPY_MODEL_1b33174024b2498f86cb32aaf1e16a2e",
              "IPY_MODEL_84b41a14cace4d42aceea7a89cc5a227"
            ],
            "layout": "IPY_MODEL_d772a5a868e745e1821e9b61f9311676"
          }
        },
        "57a1d711cd7b4155966b6d0a0e5afc70": {
          "model_module": "@jupyter-widgets/controls",
          "model_module_version": "1.5.0",
          "model_name": "DescriptionStyleModel",
          "state": {
            "_model_module": "@jupyter-widgets/controls",
            "_model_module_version": "1.5.0",
            "_model_name": "DescriptionStyleModel",
            "_view_count": null,
            "_view_module": "@jupyter-widgets/base",
            "_view_module_version": "1.2.0",
            "_view_name": "StyleView",
            "description_width": ""
          }
        },
        "598f6ae054e147e08dfc576dd07ba8d0": {
          "model_module": "@jupyter-widgets/controls",
          "model_module_version": "1.5.0",
          "model_name": "HTMLModel",
          "state": {
            "_dom_classes": [],
            "_model_module": "@jupyter-widgets/controls",
            "_model_module_version": "1.5.0",
            "_model_name": "HTMLModel",
            "_view_count": null,
            "_view_module": "@jupyter-widgets/controls",
            "_view_module_version": "1.5.0",
            "_view_name": "HTMLView",
            "description": "",
            "description_tooltip": null,
            "layout": "IPY_MODEL_ac35abd58cb74e4c907190265894341d",
            "placeholder": "​",
            "style": "IPY_MODEL_57a1d711cd7b4155966b6d0a0e5afc70",
            "value": "Shuffling /root/tensorflow_datasets/imdb_reviews/plain_text/1.0.0.incompleteXTT3Y2/imdb_reviews-train.tfrecord*...:  55%"
          }
        },
        "5c19cf8e4a5c4e228b3f72ce902b65b2": {
          "model_module": "@jupyter-widgets/controls",
          "model_module_version": "1.5.0",
          "model_name": "DescriptionStyleModel",
          "state": {
            "_model_module": "@jupyter-widgets/controls",
            "_model_module_version": "1.5.0",
            "_model_name": "DescriptionStyleModel",
            "_view_count": null,
            "_view_module": "@jupyter-widgets/base",
            "_view_module_version": "1.2.0",
            "_view_name": "StyleView",
            "description_width": ""
          }
        },
        "5cda23633592451bb0c1cbdc24de1600": {
          "model_module": "@jupyter-widgets/controls",
          "model_module_version": "1.5.0",
          "model_name": "DescriptionStyleModel",
          "state": {
            "_model_module": "@jupyter-widgets/controls",
            "_model_module_version": "1.5.0",
            "_model_name": "DescriptionStyleModel",
            "_view_count": null,
            "_view_module": "@jupyter-widgets/base",
            "_view_module_version": "1.2.0",
            "_view_name": "StyleView",
            "description_width": ""
          }
        },
        "5f0134bcc00d4a5db703afbdd209795c": {
          "model_module": "@jupyter-widgets/controls",
          "model_module_version": "1.5.0",
          "model_name": "HTMLModel",
          "state": {
            "_dom_classes": [],
            "_model_module": "@jupyter-widgets/controls",
            "_model_module_version": "1.5.0",
            "_model_name": "HTMLModel",
            "_view_count": null,
            "_view_module": "@jupyter-widgets/controls",
            "_view_module_version": "1.5.0",
            "_view_name": "HTMLView",
            "description": "",
            "description_tooltip": null,
            "layout": "IPY_MODEL_39bef272115640d5a9d5c2dafed06318",
            "placeholder": "​",
            "style": "IPY_MODEL_776828774c9f4d7b9f57932c9b514a3c",
            "value": "Generating test examples...:  99%"
          }
        },
        "60bc8424597246b189de877478814cba": {
          "model_module": "@jupyter-widgets/controls",
          "model_module_version": "1.5.0",
          "model_name": "FloatProgressModel",
          "state": {
            "_dom_classes": [],
            "_model_module": "@jupyter-widgets/controls",
            "_model_module_version": "1.5.0",
            "_model_name": "FloatProgressModel",
            "_view_count": null,
            "_view_module": "@jupyter-widgets/controls",
            "_view_module_version": "1.5.0",
            "_view_name": "ProgressView",
            "bar_style": "",
            "description": "",
            "description_tooltip": null,
            "layout": "IPY_MODEL_3e7642ab1cec4a69be1d21297f577ebe",
            "max": 50000,
            "min": 0,
            "orientation": "horizontal",
            "style": "IPY_MODEL_d77b9cabc6264e55a7aa9c1db7c22072",
            "value": 50000
          }
        },
        "62f0e65bf98442a68a8838104f4ecfeb": {
          "model_module": "@jupyter-widgets/controls",
          "model_module_version": "1.5.0",
          "model_name": "DescriptionStyleModel",
          "state": {
            "_model_module": "@jupyter-widgets/controls",
            "_model_module_version": "1.5.0",
            "_model_name": "DescriptionStyleModel",
            "_view_count": null,
            "_view_module": "@jupyter-widgets/base",
            "_view_module_version": "1.2.0",
            "_view_name": "StyleView",
            "description_width": ""
          }
        },
        "6356603e80e241e8b140daed69746a7c": {
          "model_module": "@jupyter-widgets/controls",
          "model_module_version": "1.5.0",
          "model_name": "HBoxModel",
          "state": {
            "_dom_classes": [],
            "_model_module": "@jupyter-widgets/controls",
            "_model_module_version": "1.5.0",
            "_model_name": "HBoxModel",
            "_view_count": null,
            "_view_module": "@jupyter-widgets/controls",
            "_view_module_version": "1.5.0",
            "_view_name": "HBoxView",
            "box_style": "",
            "children": [
              "IPY_MODEL_5f0134bcc00d4a5db703afbdd209795c",
              "IPY_MODEL_85c8397e98c2482e8a98f1fae9b0384a",
              "IPY_MODEL_170f6f03ff2049898caaae99122364ad"
            ],
            "layout": "IPY_MODEL_cf9836e146214eea852d5ffbfd1b5c5e"
          }
        },
        "63a0778941534eaf8be4ad1655ddfc99": {
          "model_module": "@jupyter-widgets/controls",
          "model_module_version": "1.5.0",
          "model_name": "DescriptionStyleModel",
          "state": {
            "_model_module": "@jupyter-widgets/controls",
            "_model_module_version": "1.5.0",
            "_model_name": "DescriptionStyleModel",
            "_view_count": null,
            "_view_module": "@jupyter-widgets/base",
            "_view_module_version": "1.2.0",
            "_view_name": "StyleView",
            "description_width": ""
          }
        },
        "6fb866bb5ea3450897cb4d447515866c": {
          "model_module": "@jupyter-widgets/base",
          "model_module_version": "1.2.0",
          "model_name": "LayoutModel",
          "state": {
            "_model_module": "@jupyter-widgets/base",
            "_model_module_version": "1.2.0",
            "_model_name": "LayoutModel",
            "_view_count": null,
            "_view_module": "@jupyter-widgets/base",
            "_view_module_version": "1.2.0",
            "_view_name": "LayoutView",
            "align_content": null,
            "align_items": null,
            "align_self": null,
            "border": null,
            "bottom": null,
            "display": null,
            "flex": null,
            "flex_flow": null,
            "grid_area": null,
            "grid_auto_columns": null,
            "grid_auto_flow": null,
            "grid_auto_rows": null,
            "grid_column": null,
            "grid_gap": null,
            "grid_row": null,
            "grid_template_areas": null,
            "grid_template_columns": null,
            "grid_template_rows": null,
            "height": null,
            "justify_content": null,
            "justify_items": null,
            "left": null,
            "margin": null,
            "max_height": null,
            "max_width": null,
            "min_height": null,
            "min_width": null,
            "object_fit": null,
            "object_position": null,
            "order": null,
            "overflow": null,
            "overflow_x": null,
            "overflow_y": null,
            "padding": null,
            "right": null,
            "top": null,
            "visibility": "hidden",
            "width": null
          }
        },
        "6fc41dc2dcb14d898dec5ce78425447e": {
          "model_module": "@jupyter-widgets/base",
          "model_module_version": "1.2.0",
          "model_name": "LayoutModel",
          "state": {
            "_model_module": "@jupyter-widgets/base",
            "_model_module_version": "1.2.0",
            "_model_name": "LayoutModel",
            "_view_count": null,
            "_view_module": "@jupyter-widgets/base",
            "_view_module_version": "1.2.0",
            "_view_name": "LayoutView",
            "align_content": null,
            "align_items": null,
            "align_self": null,
            "border": null,
            "bottom": null,
            "display": null,
            "flex": null,
            "flex_flow": null,
            "grid_area": null,
            "grid_auto_columns": null,
            "grid_auto_flow": null,
            "grid_auto_rows": null,
            "grid_column": null,
            "grid_gap": null,
            "grid_row": null,
            "grid_template_areas": null,
            "grid_template_columns": null,
            "grid_template_rows": null,
            "height": null,
            "justify_content": null,
            "justify_items": null,
            "left": null,
            "margin": null,
            "max_height": null,
            "max_width": null,
            "min_height": null,
            "min_width": null,
            "object_fit": null,
            "object_position": null,
            "order": null,
            "overflow": null,
            "overflow_x": null,
            "overflow_y": null,
            "padding": null,
            "right": null,
            "top": null,
            "visibility": "hidden",
            "width": null
          }
        },
        "6fd0d12f3cc940d4a5d6e394c96c44c0": {
          "model_module": "@jupyter-widgets/controls",
          "model_module_version": "1.5.0",
          "model_name": "DescriptionStyleModel",
          "state": {
            "_model_module": "@jupyter-widgets/controls",
            "_model_module_version": "1.5.0",
            "_model_name": "DescriptionStyleModel",
            "_view_count": null,
            "_view_module": "@jupyter-widgets/base",
            "_view_module_version": "1.2.0",
            "_view_name": "StyleView",
            "description_width": ""
          }
        },
        "71867bc7a78c49bba2421d439d80b0da": {
          "model_module": "@jupyter-widgets/base",
          "model_module_version": "1.2.0",
          "model_name": "LayoutModel",
          "state": {
            "_model_module": "@jupyter-widgets/base",
            "_model_module_version": "1.2.0",
            "_model_name": "LayoutModel",
            "_view_count": null,
            "_view_module": "@jupyter-widgets/base",
            "_view_module_version": "1.2.0",
            "_view_name": "LayoutView",
            "align_content": null,
            "align_items": null,
            "align_self": null,
            "border": null,
            "bottom": null,
            "display": null,
            "flex": null,
            "flex_flow": null,
            "grid_area": null,
            "grid_auto_columns": null,
            "grid_auto_flow": null,
            "grid_auto_rows": null,
            "grid_column": null,
            "grid_gap": null,
            "grid_row": null,
            "grid_template_areas": null,
            "grid_template_columns": null,
            "grid_template_rows": null,
            "height": null,
            "justify_content": null,
            "justify_items": null,
            "left": null,
            "margin": null,
            "max_height": null,
            "max_width": null,
            "min_height": null,
            "min_width": null,
            "object_fit": null,
            "object_position": null,
            "order": null,
            "overflow": null,
            "overflow_x": null,
            "overflow_y": null,
            "padding": null,
            "right": null,
            "top": null,
            "visibility": null,
            "width": null
          }
        },
        "754a0251272e43deaf3606bbf02e3cbd": {
          "model_module": "@jupyter-widgets/controls",
          "model_module_version": "1.5.0",
          "model_name": "HBoxModel",
          "state": {
            "_dom_classes": [],
            "_model_module": "@jupyter-widgets/controls",
            "_model_module_version": "1.5.0",
            "_model_name": "HBoxModel",
            "_view_count": null,
            "_view_module": "@jupyter-widgets/controls",
            "_view_module_version": "1.5.0",
            "_view_name": "HBoxView",
            "box_style": "",
            "children": [
              "IPY_MODEL_8df6978490704d4897196cf3d062b246",
              "IPY_MODEL_84fd6db2e0d74ca0b4e90dc93f3c31f5",
              "IPY_MODEL_e2ce4d7b7285488d8354233702ecb467"
            ],
            "layout": "IPY_MODEL_a858d60236f047c99aaa873b7c3e4a5d"
          }
        },
        "776828774c9f4d7b9f57932c9b514a3c": {
          "model_module": "@jupyter-widgets/controls",
          "model_module_version": "1.5.0",
          "model_name": "DescriptionStyleModel",
          "state": {
            "_model_module": "@jupyter-widgets/controls",
            "_model_module_version": "1.5.0",
            "_model_name": "DescriptionStyleModel",
            "_view_count": null,
            "_view_module": "@jupyter-widgets/base",
            "_view_module_version": "1.2.0",
            "_view_name": "StyleView",
            "description_width": ""
          }
        },
        "7b010b3f082b4fb29b936b30e29967ef": {
          "model_module": "@jupyter-widgets/controls",
          "model_module_version": "1.5.0",
          "model_name": "HTMLModel",
          "state": {
            "_dom_classes": [],
            "_model_module": "@jupyter-widgets/controls",
            "_model_module_version": "1.5.0",
            "_model_name": "HTMLModel",
            "_view_count": null,
            "_view_module": "@jupyter-widgets/controls",
            "_view_module_version": "1.5.0",
            "_view_name": "HTMLView",
            "description": "",
            "description_tooltip": null,
            "layout": "IPY_MODEL_404ee2a47193414cbc9c081ae8589d74",
            "placeholder": "​",
            "style": "IPY_MODEL_4a5d45e38da9433cac7356347ea593dd",
            "value": "Generating unsupervised examples...:  99%"
          }
        },
        "840346ddc0174f72bfc004bd77e753c6": {
          "model_module": "@jupyter-widgets/base",
          "model_module_version": "1.2.0",
          "model_name": "LayoutModel",
          "state": {
            "_model_module": "@jupyter-widgets/base",
            "_model_module_version": "1.2.0",
            "_model_name": "LayoutModel",
            "_view_count": null,
            "_view_module": "@jupyter-widgets/base",
            "_view_module_version": "1.2.0",
            "_view_name": "LayoutView",
            "align_content": null,
            "align_items": null,
            "align_self": null,
            "border": null,
            "bottom": null,
            "display": null,
            "flex": null,
            "flex_flow": null,
            "grid_area": null,
            "grid_auto_columns": null,
            "grid_auto_flow": null,
            "grid_auto_rows": null,
            "grid_column": null,
            "grid_gap": null,
            "grid_row": null,
            "grid_template_areas": null,
            "grid_template_columns": null,
            "grid_template_rows": null,
            "height": null,
            "justify_content": null,
            "justify_items": null,
            "left": null,
            "margin": null,
            "max_height": null,
            "max_width": null,
            "min_height": null,
            "min_width": null,
            "object_fit": null,
            "object_position": null,
            "order": null,
            "overflow": null,
            "overflow_x": null,
            "overflow_y": null,
            "padding": null,
            "right": null,
            "top": null,
            "visibility": null,
            "width": null
          }
        },
        "84b41a14cace4d42aceea7a89cc5a227": {
          "model_module": "@jupyter-widgets/controls",
          "model_module_version": "1.5.0",
          "model_name": "HTMLModel",
          "state": {
            "_dom_classes": [],
            "_model_module": "@jupyter-widgets/controls",
            "_model_module_version": "1.5.0",
            "_model_name": "HTMLModel",
            "_view_count": null,
            "_view_module": "@jupyter-widgets/controls",
            "_view_module_version": "1.5.0",
            "_view_name": "HTMLView",
            "description": "",
            "description_tooltip": null,
            "layout": "IPY_MODEL_840346ddc0174f72bfc004bd77e753c6",
            "placeholder": "​",
            "style": "IPY_MODEL_d08713514ae8496aac858813a65793b4",
            "value": " 24843/25000 [00:16&lt;00:00, 2035.64 examples/s]"
          }
        },
        "84fd6db2e0d74ca0b4e90dc93f3c31f5": {
          "model_module": "@jupyter-widgets/controls",
          "model_module_version": "1.5.0",
          "model_name": "FloatProgressModel",
          "state": {
            "_dom_classes": [],
            "_model_module": "@jupyter-widgets/controls",
            "_model_module_version": "1.5.0",
            "_model_name": "FloatProgressModel",
            "_view_count": null,
            "_view_module": "@jupyter-widgets/controls",
            "_view_module_version": "1.5.0",
            "_view_name": "ProgressView",
            "bar_style": "success",
            "description": "",
            "description_tooltip": null,
            "layout": "IPY_MODEL_554f76d145f649e09bbd80c841612ae0",
            "max": 1,
            "min": 0,
            "orientation": "horizontal",
            "style": "IPY_MODEL_a7751d949cda42d5a01476a245656c24",
            "value": 1
          }
        },
        "85c8397e98c2482e8a98f1fae9b0384a": {
          "model_module": "@jupyter-widgets/controls",
          "model_module_version": "1.5.0",
          "model_name": "FloatProgressModel",
          "state": {
            "_dom_classes": [],
            "_model_module": "@jupyter-widgets/controls",
            "_model_module_version": "1.5.0",
            "_model_name": "FloatProgressModel",
            "_view_count": null,
            "_view_module": "@jupyter-widgets/controls",
            "_view_module_version": "1.5.0",
            "_view_name": "ProgressView",
            "bar_style": "",
            "description": "",
            "description_tooltip": null,
            "layout": "IPY_MODEL_516c63b0c7084d3fa41d8801e773c598",
            "max": 25000,
            "min": 0,
            "orientation": "horizontal",
            "style": "IPY_MODEL_01dc75a7b859482c826c52d23bf0dca1",
            "value": 25000
          }
        },
        "8639c22162fe45c08c03d5bfc24fb6b3": {
          "model_module": "@jupyter-widgets/base",
          "model_module_version": "1.2.0",
          "model_name": "LayoutModel",
          "state": {
            "_model_module": "@jupyter-widgets/base",
            "_model_module_version": "1.2.0",
            "_model_name": "LayoutModel",
            "_view_count": null,
            "_view_module": "@jupyter-widgets/base",
            "_view_module_version": "1.2.0",
            "_view_name": "LayoutView",
            "align_content": null,
            "align_items": null,
            "align_self": null,
            "border": null,
            "bottom": null,
            "display": null,
            "flex": null,
            "flex_flow": null,
            "grid_area": null,
            "grid_auto_columns": null,
            "grid_auto_flow": null,
            "grid_auto_rows": null,
            "grid_column": null,
            "grid_gap": null,
            "grid_row": null,
            "grid_template_areas": null,
            "grid_template_columns": null,
            "grid_template_rows": null,
            "height": null,
            "justify_content": null,
            "justify_items": null,
            "left": null,
            "margin": null,
            "max_height": null,
            "max_width": null,
            "min_height": null,
            "min_width": null,
            "object_fit": null,
            "object_position": null,
            "order": null,
            "overflow": null,
            "overflow_x": null,
            "overflow_y": null,
            "padding": null,
            "right": null,
            "top": null,
            "visibility": null,
            "width": null
          }
        },
        "866a6888cf034a1ba2c90a895ab2a520": {
          "model_module": "@jupyter-widgets/controls",
          "model_module_version": "1.5.0",
          "model_name": "DescriptionStyleModel",
          "state": {
            "_model_module": "@jupyter-widgets/controls",
            "_model_module_version": "1.5.0",
            "_model_name": "DescriptionStyleModel",
            "_view_count": null,
            "_view_module": "@jupyter-widgets/base",
            "_view_module_version": "1.2.0",
            "_view_name": "StyleView",
            "description_width": ""
          }
        },
        "8a0e2a935fe44799aa9bf222cb1fb725": {
          "model_module": "@jupyter-widgets/base",
          "model_module_version": "1.2.0",
          "model_name": "LayoutModel",
          "state": {
            "_model_module": "@jupyter-widgets/base",
            "_model_module_version": "1.2.0",
            "_model_name": "LayoutModel",
            "_view_count": null,
            "_view_module": "@jupyter-widgets/base",
            "_view_module_version": "1.2.0",
            "_view_name": "LayoutView",
            "align_content": null,
            "align_items": null,
            "align_self": null,
            "border": null,
            "bottom": null,
            "display": null,
            "flex": null,
            "flex_flow": null,
            "grid_area": null,
            "grid_auto_columns": null,
            "grid_auto_flow": null,
            "grid_auto_rows": null,
            "grid_column": null,
            "grid_gap": null,
            "grid_row": null,
            "grid_template_areas": null,
            "grid_template_columns": null,
            "grid_template_rows": null,
            "height": null,
            "justify_content": null,
            "justify_items": null,
            "left": null,
            "margin": null,
            "max_height": null,
            "max_width": null,
            "min_height": null,
            "min_width": null,
            "object_fit": null,
            "object_position": null,
            "order": null,
            "overflow": null,
            "overflow_x": null,
            "overflow_y": null,
            "padding": null,
            "right": null,
            "top": null,
            "visibility": null,
            "width": null
          }
        },
        "8df6978490704d4897196cf3d062b246": {
          "model_module": "@jupyter-widgets/controls",
          "model_module_version": "1.5.0",
          "model_name": "HTMLModel",
          "state": {
            "_dom_classes": [],
            "_model_module": "@jupyter-widgets/controls",
            "_model_module_version": "1.5.0",
            "_model_name": "HTMLModel",
            "_view_count": null,
            "_view_module": "@jupyter-widgets/controls",
            "_view_module_version": "1.5.0",
            "_view_name": "HTMLView",
            "description": "",
            "description_tooltip": null,
            "layout": "IPY_MODEL_928202b2afcd4797b2b9185cee776ac8",
            "placeholder": "​",
            "style": "IPY_MODEL_17bb7f29df334de58eedcc8e9718a6d2",
            "value": "Dl Size...: 100%"
          }
        },
        "8edae5c06fb248d0ba58e13a85c48869": {
          "model_module": "@jupyter-widgets/controls",
          "model_module_version": "1.5.0",
          "model_name": "HTMLModel",
          "state": {
            "_dom_classes": [],
            "_model_module": "@jupyter-widgets/controls",
            "_model_module_version": "1.5.0",
            "_model_name": "HTMLModel",
            "_view_count": null,
            "_view_module": "@jupyter-widgets/controls",
            "_view_module_version": "1.5.0",
            "_view_name": "HTMLView",
            "description": "",
            "description_tooltip": null,
            "layout": "IPY_MODEL_eeb8418ae71f47eeb086e26a6dc338f6",
            "placeholder": "​",
            "style": "IPY_MODEL_496eda5f53c64fc9ac56c43b5201842a",
            "value": " 32073/50000 [00:00&lt;00:00, 172629.68 examples/s]"
          }
        },
        "917ddd6fd6ef4665ba28f3a9d2c3fd47": {
          "model_module": "@jupyter-widgets/controls",
          "model_module_version": "1.5.0",
          "model_name": "DescriptionStyleModel",
          "state": {
            "_model_module": "@jupyter-widgets/controls",
            "_model_module_version": "1.5.0",
            "_model_name": "DescriptionStyleModel",
            "_view_count": null,
            "_view_module": "@jupyter-widgets/base",
            "_view_module_version": "1.2.0",
            "_view_name": "StyleView",
            "description_width": ""
          }
        },
        "928202b2afcd4797b2b9185cee776ac8": {
          "model_module": "@jupyter-widgets/base",
          "model_module_version": "1.2.0",
          "model_name": "LayoutModel",
          "state": {
            "_model_module": "@jupyter-widgets/base",
            "_model_module_version": "1.2.0",
            "_model_name": "LayoutModel",
            "_view_count": null,
            "_view_module": "@jupyter-widgets/base",
            "_view_module_version": "1.2.0",
            "_view_name": "LayoutView",
            "align_content": null,
            "align_items": null,
            "align_self": null,
            "border": null,
            "bottom": null,
            "display": null,
            "flex": null,
            "flex_flow": null,
            "grid_area": null,
            "grid_auto_columns": null,
            "grid_auto_flow": null,
            "grid_auto_rows": null,
            "grid_column": null,
            "grid_gap": null,
            "grid_row": null,
            "grid_template_areas": null,
            "grid_template_columns": null,
            "grid_template_rows": null,
            "height": null,
            "justify_content": null,
            "justify_items": null,
            "left": null,
            "margin": null,
            "max_height": null,
            "max_width": null,
            "min_height": null,
            "min_width": null,
            "object_fit": null,
            "object_position": null,
            "order": null,
            "overflow": null,
            "overflow_x": null,
            "overflow_y": null,
            "padding": null,
            "right": null,
            "top": null,
            "visibility": null,
            "width": null
          }
        },
        "92ee39a9cfe14461b669c3f3b7568991": {
          "model_module": "@jupyter-widgets/base",
          "model_module_version": "1.2.0",
          "model_name": "LayoutModel",
          "state": {
            "_model_module": "@jupyter-widgets/base",
            "_model_module_version": "1.2.0",
            "_model_name": "LayoutModel",
            "_view_count": null,
            "_view_module": "@jupyter-widgets/base",
            "_view_module_version": "1.2.0",
            "_view_name": "LayoutView",
            "align_content": null,
            "align_items": null,
            "align_self": null,
            "border": null,
            "bottom": null,
            "display": null,
            "flex": null,
            "flex_flow": null,
            "grid_area": null,
            "grid_auto_columns": null,
            "grid_auto_flow": null,
            "grid_auto_rows": null,
            "grid_column": null,
            "grid_gap": null,
            "grid_row": null,
            "grid_template_areas": null,
            "grid_template_columns": null,
            "grid_template_rows": null,
            "height": null,
            "justify_content": null,
            "justify_items": null,
            "left": null,
            "margin": null,
            "max_height": null,
            "max_width": null,
            "min_height": null,
            "min_width": null,
            "object_fit": null,
            "object_position": null,
            "order": null,
            "overflow": null,
            "overflow_x": null,
            "overflow_y": null,
            "padding": null,
            "right": null,
            "top": null,
            "visibility": null,
            "width": null
          }
        },
        "9554712405e64d12b4dcd17fde70c6e1": {
          "model_module": "@jupyter-widgets/base",
          "model_module_version": "1.2.0",
          "model_name": "LayoutModel",
          "state": {
            "_model_module": "@jupyter-widgets/base",
            "_model_module_version": "1.2.0",
            "_model_name": "LayoutModel",
            "_view_count": null,
            "_view_module": "@jupyter-widgets/base",
            "_view_module_version": "1.2.0",
            "_view_name": "LayoutView",
            "align_content": null,
            "align_items": null,
            "align_self": null,
            "border": null,
            "bottom": null,
            "display": null,
            "flex": null,
            "flex_flow": null,
            "grid_area": null,
            "grid_auto_columns": null,
            "grid_auto_flow": null,
            "grid_auto_rows": null,
            "grid_column": null,
            "grid_gap": null,
            "grid_row": null,
            "grid_template_areas": null,
            "grid_template_columns": null,
            "grid_template_rows": null,
            "height": null,
            "justify_content": null,
            "justify_items": null,
            "left": null,
            "margin": null,
            "max_height": null,
            "max_width": null,
            "min_height": null,
            "min_width": null,
            "object_fit": null,
            "object_position": null,
            "order": null,
            "overflow": null,
            "overflow_x": null,
            "overflow_y": null,
            "padding": null,
            "right": null,
            "top": null,
            "visibility": null,
            "width": null
          }
        },
        "9bfdaac4675f4e888caa25f03bee3862": {
          "model_module": "@jupyter-widgets/base",
          "model_module_version": "1.2.0",
          "model_name": "LayoutModel",
          "state": {
            "_model_module": "@jupyter-widgets/base",
            "_model_module_version": "1.2.0",
            "_model_name": "LayoutModel",
            "_view_count": null,
            "_view_module": "@jupyter-widgets/base",
            "_view_module_version": "1.2.0",
            "_view_name": "LayoutView",
            "align_content": null,
            "align_items": null,
            "align_self": null,
            "border": null,
            "bottom": null,
            "display": null,
            "flex": null,
            "flex_flow": null,
            "grid_area": null,
            "grid_auto_columns": null,
            "grid_auto_flow": null,
            "grid_auto_rows": null,
            "grid_column": null,
            "grid_gap": null,
            "grid_row": null,
            "grid_template_areas": null,
            "grid_template_columns": null,
            "grid_template_rows": null,
            "height": null,
            "justify_content": null,
            "justify_items": null,
            "left": null,
            "margin": null,
            "max_height": null,
            "max_width": null,
            "min_height": null,
            "min_width": null,
            "object_fit": null,
            "object_position": null,
            "order": null,
            "overflow": null,
            "overflow_x": null,
            "overflow_y": null,
            "padding": null,
            "right": null,
            "top": null,
            "visibility": null,
            "width": null
          }
        },
        "a065047762c74814be05b8c00d085f20": {
          "model_module": "@jupyter-widgets/controls",
          "model_module_version": "1.5.0",
          "model_name": "HTMLModel",
          "state": {
            "_dom_classes": [],
            "_model_module": "@jupyter-widgets/controls",
            "_model_module_version": "1.5.0",
            "_model_name": "HTMLModel",
            "_view_count": null,
            "_view_module": "@jupyter-widgets/controls",
            "_view_module_version": "1.5.0",
            "_view_name": "HTMLView",
            "description": "",
            "description_tooltip": null,
            "layout": "IPY_MODEL_d897538e7c3b495a952555192624c0e8",
            "placeholder": "​",
            "style": "IPY_MODEL_f295782f10d441728f89a56c053e3023",
            "value": " 1/1 [00:02&lt;00:00,  2.40s/ url]"
          }
        },
        "a36ff86f52844f48882c20ea787a1176": {
          "model_module": "@jupyter-widgets/base",
          "model_module_version": "1.2.0",
          "model_name": "LayoutModel",
          "state": {
            "_model_module": "@jupyter-widgets/base",
            "_model_module_version": "1.2.0",
            "_model_name": "LayoutModel",
            "_view_count": null,
            "_view_module": "@jupyter-widgets/base",
            "_view_module_version": "1.2.0",
            "_view_name": "LayoutView",
            "align_content": null,
            "align_items": null,
            "align_self": null,
            "border": null,
            "bottom": null,
            "display": null,
            "flex": null,
            "flex_flow": null,
            "grid_area": null,
            "grid_auto_columns": null,
            "grid_auto_flow": null,
            "grid_auto_rows": null,
            "grid_column": null,
            "grid_gap": null,
            "grid_row": null,
            "grid_template_areas": null,
            "grid_template_columns": null,
            "grid_template_rows": null,
            "height": null,
            "justify_content": null,
            "justify_items": null,
            "left": null,
            "margin": null,
            "max_height": null,
            "max_width": null,
            "min_height": null,
            "min_width": null,
            "object_fit": null,
            "object_position": null,
            "order": null,
            "overflow": null,
            "overflow_x": null,
            "overflow_y": null,
            "padding": null,
            "right": null,
            "top": null,
            "visibility": null,
            "width": null
          }
        },
        "a4278fe3619a4c0faecb269232f4549a": {
          "model_module": "@jupyter-widgets/controls",
          "model_module_version": "1.5.0",
          "model_name": "HBoxModel",
          "state": {
            "_dom_classes": [],
            "_model_module": "@jupyter-widgets/controls",
            "_model_module_version": "1.5.0",
            "_model_name": "HBoxModel",
            "_view_count": null,
            "_view_module": "@jupyter-widgets/controls",
            "_view_module_version": "1.5.0",
            "_view_name": "HBoxView",
            "box_style": "",
            "children": [
              "IPY_MODEL_7b010b3f082b4fb29b936b30e29967ef",
              "IPY_MODEL_c353109938e243e4b81c3da1a565e249",
              "IPY_MODEL_2733cd41ce3d4104bd033b91dc818e56"
            ],
            "layout": "IPY_MODEL_232111e219f14a7d9954f6f891ce4815"
          }
        },
        "a7751d949cda42d5a01476a245656c24": {
          "model_module": "@jupyter-widgets/controls",
          "model_module_version": "1.5.0",
          "model_name": "ProgressStyleModel",
          "state": {
            "_model_module": "@jupyter-widgets/controls",
            "_model_module_version": "1.5.0",
            "_model_name": "ProgressStyleModel",
            "_view_count": null,
            "_view_module": "@jupyter-widgets/base",
            "_view_module_version": "1.2.0",
            "_view_name": "StyleView",
            "bar_color": null,
            "description_width": ""
          }
        },
        "a858d60236f047c99aaa873b7c3e4a5d": {
          "model_module": "@jupyter-widgets/base",
          "model_module_version": "1.2.0",
          "model_name": "LayoutModel",
          "state": {
            "_model_module": "@jupyter-widgets/base",
            "_model_module_version": "1.2.0",
            "_model_name": "LayoutModel",
            "_view_count": null,
            "_view_module": "@jupyter-widgets/base",
            "_view_module_version": "1.2.0",
            "_view_name": "LayoutView",
            "align_content": null,
            "align_items": null,
            "align_self": null,
            "border": null,
            "bottom": null,
            "display": null,
            "flex": null,
            "flex_flow": null,
            "grid_area": null,
            "grid_auto_columns": null,
            "grid_auto_flow": null,
            "grid_auto_rows": null,
            "grid_column": null,
            "grid_gap": null,
            "grid_row": null,
            "grid_template_areas": null,
            "grid_template_columns": null,
            "grid_template_rows": null,
            "height": null,
            "justify_content": null,
            "justify_items": null,
            "left": null,
            "margin": null,
            "max_height": null,
            "max_width": null,
            "min_height": null,
            "min_width": null,
            "object_fit": null,
            "object_position": null,
            "order": null,
            "overflow": null,
            "overflow_x": null,
            "overflow_y": null,
            "padding": null,
            "right": null,
            "top": null,
            "visibility": null,
            "width": null
          }
        },
        "ac35abd58cb74e4c907190265894341d": {
          "model_module": "@jupyter-widgets/base",
          "model_module_version": "1.2.0",
          "model_name": "LayoutModel",
          "state": {
            "_model_module": "@jupyter-widgets/base",
            "_model_module_version": "1.2.0",
            "_model_name": "LayoutModel",
            "_view_count": null,
            "_view_module": "@jupyter-widgets/base",
            "_view_module_version": "1.2.0",
            "_view_name": "LayoutView",
            "align_content": null,
            "align_items": null,
            "align_self": null,
            "border": null,
            "bottom": null,
            "display": null,
            "flex": null,
            "flex_flow": null,
            "grid_area": null,
            "grid_auto_columns": null,
            "grid_auto_flow": null,
            "grid_auto_rows": null,
            "grid_column": null,
            "grid_gap": null,
            "grid_row": null,
            "grid_template_areas": null,
            "grid_template_columns": null,
            "grid_template_rows": null,
            "height": null,
            "justify_content": null,
            "justify_items": null,
            "left": null,
            "margin": null,
            "max_height": null,
            "max_width": null,
            "min_height": null,
            "min_width": null,
            "object_fit": null,
            "object_position": null,
            "order": null,
            "overflow": null,
            "overflow_x": null,
            "overflow_y": null,
            "padding": null,
            "right": null,
            "top": null,
            "visibility": null,
            "width": null
          }
        },
        "b8115cae52454ec2bab2b22589b20158": {
          "model_module": "@jupyter-widgets/base",
          "model_module_version": "1.2.0",
          "model_name": "LayoutModel",
          "state": {
            "_model_module": "@jupyter-widgets/base",
            "_model_module_version": "1.2.0",
            "_model_name": "LayoutModel",
            "_view_count": null,
            "_view_module": "@jupyter-widgets/base",
            "_view_module_version": "1.2.0",
            "_view_name": "LayoutView",
            "align_content": null,
            "align_items": null,
            "align_self": null,
            "border": null,
            "bottom": null,
            "display": null,
            "flex": null,
            "flex_flow": null,
            "grid_area": null,
            "grid_auto_columns": null,
            "grid_auto_flow": null,
            "grid_auto_rows": null,
            "grid_column": null,
            "grid_gap": null,
            "grid_row": null,
            "grid_template_areas": null,
            "grid_template_columns": null,
            "grid_template_rows": null,
            "height": null,
            "justify_content": null,
            "justify_items": null,
            "left": null,
            "margin": null,
            "max_height": null,
            "max_width": null,
            "min_height": null,
            "min_width": null,
            "object_fit": null,
            "object_position": null,
            "order": null,
            "overflow": null,
            "overflow_x": null,
            "overflow_y": null,
            "padding": null,
            "right": null,
            "top": null,
            "visibility": null,
            "width": null
          }
        },
        "b8924f816b9f4a15a2316163f49d6083": {
          "model_module": "@jupyter-widgets/controls",
          "model_module_version": "1.5.0",
          "model_name": "DescriptionStyleModel",
          "state": {
            "_model_module": "@jupyter-widgets/controls",
            "_model_module_version": "1.5.0",
            "_model_name": "DescriptionStyleModel",
            "_view_count": null,
            "_view_module": "@jupyter-widgets/base",
            "_view_module_version": "1.2.0",
            "_view_name": "StyleView",
            "description_width": ""
          }
        },
        "bc0ce7f5f1de46f3983304a0b94b5c01": {
          "model_module": "@jupyter-widgets/controls",
          "model_module_version": "1.5.0",
          "model_name": "HBoxModel",
          "state": {
            "_dom_classes": [],
            "_model_module": "@jupyter-widgets/controls",
            "_model_module_version": "1.5.0",
            "_model_name": "HBoxModel",
            "_view_count": null,
            "_view_module": "@jupyter-widgets/controls",
            "_view_module_version": "1.5.0",
            "_view_name": "HBoxView",
            "box_style": "",
            "children": [
              "IPY_MODEL_598f6ae054e147e08dfc576dd07ba8d0",
              "IPY_MODEL_f32623ff71494e28912d464d3d421bb4",
              "IPY_MODEL_f6079aae337144ffb1f5ab5e22ad8310"
            ],
            "layout": "IPY_MODEL_6fc41dc2dcb14d898dec5ce78425447e"
          }
        },
        "bccd8ac4feaa4e98abffe50ca5943d9a": {
          "model_module": "@jupyter-widgets/controls",
          "model_module_version": "1.5.0",
          "model_name": "HTMLModel",
          "state": {
            "_dom_classes": [],
            "_model_module": "@jupyter-widgets/controls",
            "_model_module_version": "1.5.0",
            "_model_name": "HTMLModel",
            "_view_count": null,
            "_view_module": "@jupyter-widgets/controls",
            "_view_module_version": "1.5.0",
            "_view_name": "HTMLView",
            "description": "",
            "description_tooltip": null,
            "layout": "IPY_MODEL_9554712405e64d12b4dcd17fde70c6e1",
            "placeholder": "​",
            "style": "IPY_MODEL_917ddd6fd6ef4665ba28f3a9d2c3fd47",
            "value": "Generating splits...: 100%"
          }
        },
        "bcfc329269a94540aef86eb51db45858": {
          "model_module": "@jupyter-widgets/controls",
          "model_module_version": "1.5.0",
          "model_name": "DescriptionStyleModel",
          "state": {
            "_model_module": "@jupyter-widgets/controls",
            "_model_module_version": "1.5.0",
            "_model_name": "DescriptionStyleModel",
            "_view_count": null,
            "_view_module": "@jupyter-widgets/base",
            "_view_module_version": "1.2.0",
            "_view_name": "StyleView",
            "description_width": ""
          }
        },
        "be2f206d696e4ec99dce7e4d6b3d3ab5": {
          "model_module": "@jupyter-widgets/controls",
          "model_module_version": "1.5.0",
          "model_name": "HTMLModel",
          "state": {
            "_dom_classes": [],
            "_model_module": "@jupyter-widgets/controls",
            "_model_module_version": "1.5.0",
            "_model_name": "HTMLModel",
            "_view_count": null,
            "_view_module": "@jupyter-widgets/controls",
            "_view_module_version": "1.5.0",
            "_view_name": "HTMLView",
            "description": "",
            "description_tooltip": null,
            "layout": "IPY_MODEL_488b05a864754789911dd41cd8e50e3b",
            "placeholder": "​",
            "style": "IPY_MODEL_17b0a36be14a4184af3bc872556b6c6f",
            "value": " 17508/25000 [00:00&lt;00:00, 175059.30 examples/s]"
          }
        },
        "bf5de79e4e414fc88d15b5765b281864": {
          "model_module": "@jupyter-widgets/controls",
          "model_module_version": "1.5.0",
          "model_name": "ProgressStyleModel",
          "state": {
            "_model_module": "@jupyter-widgets/controls",
            "_model_module_version": "1.5.0",
            "_model_name": "ProgressStyleModel",
            "_view_count": null,
            "_view_module": "@jupyter-widgets/base",
            "_view_module_version": "1.2.0",
            "_view_name": "StyleView",
            "bar_color": null,
            "description_width": ""
          }
        },
        "c353109938e243e4b81c3da1a565e249": {
          "model_module": "@jupyter-widgets/controls",
          "model_module_version": "1.5.0",
          "model_name": "FloatProgressModel",
          "state": {
            "_dom_classes": [],
            "_model_module": "@jupyter-widgets/controls",
            "_model_module_version": "1.5.0",
            "_model_name": "FloatProgressModel",
            "_view_count": null,
            "_view_module": "@jupyter-widgets/controls",
            "_view_module_version": "1.5.0",
            "_view_name": "ProgressView",
            "bar_style": "",
            "description": "",
            "description_tooltip": null,
            "layout": "IPY_MODEL_8639c22162fe45c08c03d5bfc24fb6b3",
            "max": 50000,
            "min": 0,
            "orientation": "horizontal",
            "style": "IPY_MODEL_0416d76c8fe34e4fa4779329249c0bc9",
            "value": 50000
          }
        },
        "c3951756d4d840718381ac80c4f24721": {
          "model_module": "@jupyter-widgets/base",
          "model_module_version": "1.2.0",
          "model_name": "LayoutModel",
          "state": {
            "_model_module": "@jupyter-widgets/base",
            "_model_module_version": "1.2.0",
            "_model_name": "LayoutModel",
            "_view_count": null,
            "_view_module": "@jupyter-widgets/base",
            "_view_module_version": "1.2.0",
            "_view_name": "LayoutView",
            "align_content": null,
            "align_items": null,
            "align_self": null,
            "border": null,
            "bottom": null,
            "display": null,
            "flex": null,
            "flex_flow": null,
            "grid_area": null,
            "grid_auto_columns": null,
            "grid_auto_flow": null,
            "grid_auto_rows": null,
            "grid_column": null,
            "grid_gap": null,
            "grid_row": null,
            "grid_template_areas": null,
            "grid_template_columns": null,
            "grid_template_rows": null,
            "height": null,
            "justify_content": null,
            "justify_items": null,
            "left": null,
            "margin": null,
            "max_height": null,
            "max_width": null,
            "min_height": null,
            "min_width": null,
            "object_fit": null,
            "object_position": null,
            "order": null,
            "overflow": null,
            "overflow_x": null,
            "overflow_y": null,
            "padding": null,
            "right": null,
            "top": null,
            "visibility": "hidden",
            "width": null
          }
        },
        "c77cd40a51fc491aa4cc630a1b7fc0e6": {
          "model_module": "@jupyter-widgets/base",
          "model_module_version": "1.2.0",
          "model_name": "LayoutModel",
          "state": {
            "_model_module": "@jupyter-widgets/base",
            "_model_module_version": "1.2.0",
            "_model_name": "LayoutModel",
            "_view_count": null,
            "_view_module": "@jupyter-widgets/base",
            "_view_module_version": "1.2.0",
            "_view_name": "LayoutView",
            "align_content": null,
            "align_items": null,
            "align_self": null,
            "border": null,
            "bottom": null,
            "display": null,
            "flex": null,
            "flex_flow": null,
            "grid_area": null,
            "grid_auto_columns": null,
            "grid_auto_flow": null,
            "grid_auto_rows": null,
            "grid_column": null,
            "grid_gap": null,
            "grid_row": null,
            "grid_template_areas": null,
            "grid_template_columns": null,
            "grid_template_rows": null,
            "height": null,
            "justify_content": null,
            "justify_items": null,
            "left": null,
            "margin": null,
            "max_height": null,
            "max_width": null,
            "min_height": null,
            "min_width": null,
            "object_fit": null,
            "object_position": null,
            "order": null,
            "overflow": null,
            "overflow_x": null,
            "overflow_y": null,
            "padding": null,
            "right": null,
            "top": null,
            "visibility": null,
            "width": null
          }
        },
        "cf473e1e731d4d789f4ccf21a4733f26": {
          "model_module": "@jupyter-widgets/controls",
          "model_module_version": "1.5.0",
          "model_name": "HTMLModel",
          "state": {
            "_dom_classes": [],
            "_model_module": "@jupyter-widgets/controls",
            "_model_module_version": "1.5.0",
            "_model_name": "HTMLModel",
            "_view_count": null,
            "_view_module": "@jupyter-widgets/controls",
            "_view_module_version": "1.5.0",
            "_view_name": "HTMLView",
            "description": "",
            "description_tooltip": null,
            "layout": "IPY_MODEL_d330c70b5490406c903ca0e66883ee10",
            "placeholder": "​",
            "style": "IPY_MODEL_6fd0d12f3cc940d4a5d6e394c96c44c0",
            "value": "Shuffling /root/tensorflow_datasets/imdb_reviews/plain_text/1.0.0.incompleteXTT3Y2/imdb_reviews-test.tfrecord*...:  70%"
          }
        },
        "cf9836e146214eea852d5ffbfd1b5c5e": {
          "model_module": "@jupyter-widgets/base",
          "model_module_version": "1.2.0",
          "model_name": "LayoutModel",
          "state": {
            "_model_module": "@jupyter-widgets/base",
            "_model_module_version": "1.2.0",
            "_model_name": "LayoutModel",
            "_view_count": null,
            "_view_module": "@jupyter-widgets/base",
            "_view_module_version": "1.2.0",
            "_view_name": "LayoutView",
            "align_content": null,
            "align_items": null,
            "align_self": null,
            "border": null,
            "bottom": null,
            "display": null,
            "flex": null,
            "flex_flow": null,
            "grid_area": null,
            "grid_auto_columns": null,
            "grid_auto_flow": null,
            "grid_auto_rows": null,
            "grid_column": null,
            "grid_gap": null,
            "grid_row": null,
            "grid_template_areas": null,
            "grid_template_columns": null,
            "grid_template_rows": null,
            "height": null,
            "justify_content": null,
            "justify_items": null,
            "left": null,
            "margin": null,
            "max_height": null,
            "max_width": null,
            "min_height": null,
            "min_width": null,
            "object_fit": null,
            "object_position": null,
            "order": null,
            "overflow": null,
            "overflow_x": null,
            "overflow_y": null,
            "padding": null,
            "right": null,
            "top": null,
            "visibility": "hidden",
            "width": null
          }
        },
        "d08713514ae8496aac858813a65793b4": {
          "model_module": "@jupyter-widgets/controls",
          "model_module_version": "1.5.0",
          "model_name": "DescriptionStyleModel",
          "state": {
            "_model_module": "@jupyter-widgets/controls",
            "_model_module_version": "1.5.0",
            "_model_name": "DescriptionStyleModel",
            "_view_count": null,
            "_view_module": "@jupyter-widgets/base",
            "_view_module_version": "1.2.0",
            "_view_name": "StyleView",
            "description_width": ""
          }
        },
        "d330c70b5490406c903ca0e66883ee10": {
          "model_module": "@jupyter-widgets/base",
          "model_module_version": "1.2.0",
          "model_name": "LayoutModel",
          "state": {
            "_model_module": "@jupyter-widgets/base",
            "_model_module_version": "1.2.0",
            "_model_name": "LayoutModel",
            "_view_count": null,
            "_view_module": "@jupyter-widgets/base",
            "_view_module_version": "1.2.0",
            "_view_name": "LayoutView",
            "align_content": null,
            "align_items": null,
            "align_self": null,
            "border": null,
            "bottom": null,
            "display": null,
            "flex": null,
            "flex_flow": null,
            "grid_area": null,
            "grid_auto_columns": null,
            "grid_auto_flow": null,
            "grid_auto_rows": null,
            "grid_column": null,
            "grid_gap": null,
            "grid_row": null,
            "grid_template_areas": null,
            "grid_template_columns": null,
            "grid_template_rows": null,
            "height": null,
            "justify_content": null,
            "justify_items": null,
            "left": null,
            "margin": null,
            "max_height": null,
            "max_width": null,
            "min_height": null,
            "min_width": null,
            "object_fit": null,
            "object_position": null,
            "order": null,
            "overflow": null,
            "overflow_x": null,
            "overflow_y": null,
            "padding": null,
            "right": null,
            "top": null,
            "visibility": null,
            "width": null
          }
        },
        "d7157c755985467095e762c2eaab6bce": {
          "model_module": "@jupyter-widgets/base",
          "model_module_version": "1.2.0",
          "model_name": "LayoutModel",
          "state": {
            "_model_module": "@jupyter-widgets/base",
            "_model_module_version": "1.2.0",
            "_model_name": "LayoutModel",
            "_view_count": null,
            "_view_module": "@jupyter-widgets/base",
            "_view_module_version": "1.2.0",
            "_view_name": "LayoutView",
            "align_content": null,
            "align_items": null,
            "align_self": null,
            "border": null,
            "bottom": null,
            "display": null,
            "flex": null,
            "flex_flow": null,
            "grid_area": null,
            "grid_auto_columns": null,
            "grid_auto_flow": null,
            "grid_auto_rows": null,
            "grid_column": null,
            "grid_gap": null,
            "grid_row": null,
            "grid_template_areas": null,
            "grid_template_columns": null,
            "grid_template_rows": null,
            "height": null,
            "justify_content": null,
            "justify_items": null,
            "left": null,
            "margin": null,
            "max_height": null,
            "max_width": null,
            "min_height": null,
            "min_width": null,
            "object_fit": null,
            "object_position": null,
            "order": null,
            "overflow": null,
            "overflow_x": null,
            "overflow_y": null,
            "padding": null,
            "right": null,
            "top": null,
            "visibility": null,
            "width": null
          }
        },
        "d772a5a868e745e1821e9b61f9311676": {
          "model_module": "@jupyter-widgets/base",
          "model_module_version": "1.2.0",
          "model_name": "LayoutModel",
          "state": {
            "_model_module": "@jupyter-widgets/base",
            "_model_module_version": "1.2.0",
            "_model_name": "LayoutModel",
            "_view_count": null,
            "_view_module": "@jupyter-widgets/base",
            "_view_module_version": "1.2.0",
            "_view_name": "LayoutView",
            "align_content": null,
            "align_items": null,
            "align_self": null,
            "border": null,
            "bottom": null,
            "display": null,
            "flex": null,
            "flex_flow": null,
            "grid_area": null,
            "grid_auto_columns": null,
            "grid_auto_flow": null,
            "grid_auto_rows": null,
            "grid_column": null,
            "grid_gap": null,
            "grid_row": null,
            "grid_template_areas": null,
            "grid_template_columns": null,
            "grid_template_rows": null,
            "height": null,
            "justify_content": null,
            "justify_items": null,
            "left": null,
            "margin": null,
            "max_height": null,
            "max_width": null,
            "min_height": null,
            "min_width": null,
            "object_fit": null,
            "object_position": null,
            "order": null,
            "overflow": null,
            "overflow_x": null,
            "overflow_y": null,
            "padding": null,
            "right": null,
            "top": null,
            "visibility": "hidden",
            "width": null
          }
        },
        "d77b9cabc6264e55a7aa9c1db7c22072": {
          "model_module": "@jupyter-widgets/controls",
          "model_module_version": "1.5.0",
          "model_name": "ProgressStyleModel",
          "state": {
            "_model_module": "@jupyter-widgets/controls",
            "_model_module_version": "1.5.0",
            "_model_name": "ProgressStyleModel",
            "_view_count": null,
            "_view_module": "@jupyter-widgets/base",
            "_view_module_version": "1.2.0",
            "_view_name": "StyleView",
            "bar_color": null,
            "description_width": ""
          }
        },
        "d897538e7c3b495a952555192624c0e8": {
          "model_module": "@jupyter-widgets/base",
          "model_module_version": "1.2.0",
          "model_name": "LayoutModel",
          "state": {
            "_model_module": "@jupyter-widgets/base",
            "_model_module_version": "1.2.0",
            "_model_name": "LayoutModel",
            "_view_count": null,
            "_view_module": "@jupyter-widgets/base",
            "_view_module_version": "1.2.0",
            "_view_name": "LayoutView",
            "align_content": null,
            "align_items": null,
            "align_self": null,
            "border": null,
            "bottom": null,
            "display": null,
            "flex": null,
            "flex_flow": null,
            "grid_area": null,
            "grid_auto_columns": null,
            "grid_auto_flow": null,
            "grid_auto_rows": null,
            "grid_column": null,
            "grid_gap": null,
            "grid_row": null,
            "grid_template_areas": null,
            "grid_template_columns": null,
            "grid_template_rows": null,
            "height": null,
            "justify_content": null,
            "justify_items": null,
            "left": null,
            "margin": null,
            "max_height": null,
            "max_width": null,
            "min_height": null,
            "min_width": null,
            "object_fit": null,
            "object_position": null,
            "order": null,
            "overflow": null,
            "overflow_x": null,
            "overflow_y": null,
            "padding": null,
            "right": null,
            "top": null,
            "visibility": null,
            "width": null
          }
        },
        "de6666649f9e47a5b42ea44793a7a1df": {
          "model_module": "@jupyter-widgets/controls",
          "model_module_version": "1.5.0",
          "model_name": "HBoxModel",
          "state": {
            "_dom_classes": [],
            "_model_module": "@jupyter-widgets/controls",
            "_model_module_version": "1.5.0",
            "_model_name": "HBoxModel",
            "_view_count": null,
            "_view_module": "@jupyter-widgets/controls",
            "_view_module_version": "1.5.0",
            "_view_name": "HBoxView",
            "box_style": "",
            "children": [
              "IPY_MODEL_e6422a2b14e447a39189e1a220b32046",
              "IPY_MODEL_60bc8424597246b189de877478814cba",
              "IPY_MODEL_8edae5c06fb248d0ba58e13a85c48869"
            ],
            "layout": "IPY_MODEL_3033c2856d9a4b6bb187d227bbb629ac"
          }
        },
        "e28bbcbea75f40ab805b06b1c19e5d81": {
          "model_module": "@jupyter-widgets/base",
          "model_module_version": "1.2.0",
          "model_name": "LayoutModel",
          "state": {
            "_model_module": "@jupyter-widgets/base",
            "_model_module_version": "1.2.0",
            "_model_name": "LayoutModel",
            "_view_count": null,
            "_view_module": "@jupyter-widgets/base",
            "_view_module_version": "1.2.0",
            "_view_name": "LayoutView",
            "align_content": null,
            "align_items": null,
            "align_self": null,
            "border": null,
            "bottom": null,
            "display": null,
            "flex": null,
            "flex_flow": null,
            "grid_area": null,
            "grid_auto_columns": null,
            "grid_auto_flow": null,
            "grid_auto_rows": null,
            "grid_column": null,
            "grid_gap": null,
            "grid_row": null,
            "grid_template_areas": null,
            "grid_template_columns": null,
            "grid_template_rows": null,
            "height": null,
            "justify_content": null,
            "justify_items": null,
            "left": null,
            "margin": null,
            "max_height": null,
            "max_width": null,
            "min_height": null,
            "min_width": null,
            "object_fit": null,
            "object_position": null,
            "order": null,
            "overflow": null,
            "overflow_x": null,
            "overflow_y": null,
            "padding": null,
            "right": null,
            "top": null,
            "visibility": null,
            "width": null
          }
        },
        "e2ce4d7b7285488d8354233702ecb467": {
          "model_module": "@jupyter-widgets/controls",
          "model_module_version": "1.5.0",
          "model_name": "HTMLModel",
          "state": {
            "_dom_classes": [],
            "_model_module": "@jupyter-widgets/controls",
            "_model_module_version": "1.5.0",
            "_model_name": "HTMLModel",
            "_view_count": null,
            "_view_module": "@jupyter-widgets/controls",
            "_view_module_version": "1.5.0",
            "_view_name": "HTMLView",
            "description": "",
            "description_tooltip": null,
            "layout": "IPY_MODEL_1c356b3a6cb94858a847b0db6380e65a",
            "placeholder": "​",
            "style": "IPY_MODEL_63a0778941534eaf8be4ad1655ddfc99",
            "value": " 80/80 [00:02&lt;00:00, 42.34 MiB/s]"
          }
        },
        "e6422a2b14e447a39189e1a220b32046": {
          "model_module": "@jupyter-widgets/controls",
          "model_module_version": "1.5.0",
          "model_name": "HTMLModel",
          "state": {
            "_dom_classes": [],
            "_model_module": "@jupyter-widgets/controls",
            "_model_module_version": "1.5.0",
            "_model_name": "HTMLModel",
            "_view_count": null,
            "_view_module": "@jupyter-widgets/controls",
            "_view_module_version": "1.5.0",
            "_view_name": "HTMLView",
            "description": "",
            "description_tooltip": null,
            "layout": "IPY_MODEL_8a0e2a935fe44799aa9bf222cb1fb725",
            "placeholder": "​",
            "style": "IPY_MODEL_1857a7170d254a8cb569137fccf026ff",
            "value": "Shuffling /root/tensorflow_datasets/imdb_reviews/plain_text/1.0.0.incompleteXTT3Y2/imdb_reviews-unsupervised.tfrecord*...:  64%"
          }
        },
        "e6fa3e2216e9446995289949a47231f0": {
          "model_module": "@jupyter-widgets/controls",
          "model_module_version": "1.5.0",
          "model_name": "HBoxModel",
          "state": {
            "_dom_classes": [],
            "_model_module": "@jupyter-widgets/controls",
            "_model_module_version": "1.5.0",
            "_model_name": "HBoxModel",
            "_view_count": null,
            "_view_module": "@jupyter-widgets/controls",
            "_view_module_version": "1.5.0",
            "_view_name": "HBoxView",
            "box_style": "",
            "children": [
              "IPY_MODEL_2c3008ed24f4476e9832bd6c38c0b8e4",
              "IPY_MODEL_0876370eb8304806b3f75dc4911415cb",
              "IPY_MODEL_a065047762c74814be05b8c00d085f20"
            ],
            "layout": "IPY_MODEL_b8115cae52454ec2bab2b22589b20158"
          }
        },
        "eeb8418ae71f47eeb086e26a6dc338f6": {
          "model_module": "@jupyter-widgets/base",
          "model_module_version": "1.2.0",
          "model_name": "LayoutModel",
          "state": {
            "_model_module": "@jupyter-widgets/base",
            "_model_module_version": "1.2.0",
            "_model_name": "LayoutModel",
            "_view_count": null,
            "_view_module": "@jupyter-widgets/base",
            "_view_module_version": "1.2.0",
            "_view_name": "LayoutView",
            "align_content": null,
            "align_items": null,
            "align_self": null,
            "border": null,
            "bottom": null,
            "display": null,
            "flex": null,
            "flex_flow": null,
            "grid_area": null,
            "grid_auto_columns": null,
            "grid_auto_flow": null,
            "grid_auto_rows": null,
            "grid_column": null,
            "grid_gap": null,
            "grid_row": null,
            "grid_template_areas": null,
            "grid_template_columns": null,
            "grid_template_rows": null,
            "height": null,
            "justify_content": null,
            "justify_items": null,
            "left": null,
            "margin": null,
            "max_height": null,
            "max_width": null,
            "min_height": null,
            "min_width": null,
            "object_fit": null,
            "object_position": null,
            "order": null,
            "overflow": null,
            "overflow_x": null,
            "overflow_y": null,
            "padding": null,
            "right": null,
            "top": null,
            "visibility": null,
            "width": null
          }
        },
        "f295782f10d441728f89a56c053e3023": {
          "model_module": "@jupyter-widgets/controls",
          "model_module_version": "1.5.0",
          "model_name": "DescriptionStyleModel",
          "state": {
            "_model_module": "@jupyter-widgets/controls",
            "_model_module_version": "1.5.0",
            "_model_name": "DescriptionStyleModel",
            "_view_count": null,
            "_view_module": "@jupyter-widgets/base",
            "_view_module_version": "1.2.0",
            "_view_name": "StyleView",
            "description_width": ""
          }
        },
        "f32623ff71494e28912d464d3d421bb4": {
          "model_module": "@jupyter-widgets/controls",
          "model_module_version": "1.5.0",
          "model_name": "FloatProgressModel",
          "state": {
            "_dom_classes": [],
            "_model_module": "@jupyter-widgets/controls",
            "_model_module_version": "1.5.0",
            "_model_name": "FloatProgressModel",
            "_view_count": null,
            "_view_module": "@jupyter-widgets/controls",
            "_view_module_version": "1.5.0",
            "_view_name": "ProgressView",
            "bar_style": "",
            "description": "",
            "description_tooltip": null,
            "layout": "IPY_MODEL_c77cd40a51fc491aa4cc630a1b7fc0e6",
            "max": 25000,
            "min": 0,
            "orientation": "horizontal",
            "style": "IPY_MODEL_bf5de79e4e414fc88d15b5765b281864",
            "value": 25000
          }
        },
        "f6079aae337144ffb1f5ab5e22ad8310": {
          "model_module": "@jupyter-widgets/controls",
          "model_module_version": "1.5.0",
          "model_name": "HTMLModel",
          "state": {
            "_dom_classes": [],
            "_model_module": "@jupyter-widgets/controls",
            "_model_module_version": "1.5.0",
            "_model_name": "HTMLModel",
            "_view_count": null,
            "_view_module": "@jupyter-widgets/controls",
            "_view_module_version": "1.5.0",
            "_view_name": "HTMLView",
            "description": "",
            "description_tooltip": null,
            "layout": "IPY_MODEL_e28bbcbea75f40ab805b06b1c19e5d81",
            "placeholder": "​",
            "style": "IPY_MODEL_b8924f816b9f4a15a2316163f49d6083",
            "value": " 13837/25000 [00:00&lt;00:00, 138354.63 examples/s]"
          }
        },
        "f9cb6c455a18454a8fc79f0cd45ebd8d": {
          "model_module": "@jupyter-widgets/controls",
          "model_module_version": "1.5.0",
          "model_name": "FloatProgressModel",
          "state": {
            "_dom_classes": [],
            "_model_module": "@jupyter-widgets/controls",
            "_model_module_version": "1.5.0",
            "_model_name": "FloatProgressModel",
            "_view_count": null,
            "_view_module": "@jupyter-widgets/controls",
            "_view_module_version": "1.5.0",
            "_view_name": "ProgressView",
            "bar_style": "",
            "description": "",
            "description_tooltip": null,
            "layout": "IPY_MODEL_3d551fd2084641828b27fd9c633c25b9",
            "max": 25000,
            "min": 0,
            "orientation": "horizontal",
            "style": "IPY_MODEL_4ea2336bb0374600937e603d10e3c891",
            "value": 25000
          }
        }
      }
    }
  },
  "nbformat": 4,
  "nbformat_minor": 0
}